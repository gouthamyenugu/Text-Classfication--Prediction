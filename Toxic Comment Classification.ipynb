{
 "cells": [
  {
   "cell_type": "code",
   "execution_count": 42,
   "metadata": {
    "colab": {
     "base_uri": "https://localhost:8080/",
     "height": 35
    },
    "id": "Vniq1j7RPSBb",
    "outputId": "c770cc44-481e-44f2-be2b-396cd8495966"
   },
   "outputs": [
    {
     "data": {
      "text/plain": [
       "''"
      ]
     },
     "execution_count": 42,
     "metadata": {},
     "output_type": "execute_result"
    }
   ],
   "source": [
    "import tensorflow as tf\n",
    "tf.test.gpu_device_name()"
   ]
  },
  {
   "cell_type": "code",
   "execution_count": 43,
   "metadata": {
    "colab": {
     "base_uri": "https://localhost:8080/"
    },
    "id": "sJ-D1oMrPbMv",
    "outputId": "da88f338-8095-4864-a448-2a487966c4b2"
   },
   "outputs": [
    {
     "data": {
      "text/plain": [
       "[name: \"/device:CPU:0\"\n",
       " device_type: \"CPU\"\n",
       " memory_limit: 268435456\n",
       " locality {\n",
       " }\n",
       " incarnation: 12343784674532411225\n",
       " xla_global_id: -1]"
      ]
     },
     "execution_count": 43,
     "metadata": {},
     "output_type": "execute_result"
    }
   ],
   "source": [
    "from tensorflow.python.client import device_lib\n",
    "device_lib.list_local_devices()"
   ]
  },
  {
   "cell_type": "code",
   "execution_count": 1,
   "metadata": {
    "id": "LiDmUjA6gpr1"
   },
   "outputs": [],
   "source": [
    "import pandas as pd\n",
    "import numpy as np\n",
    "import matplotlib.pyplot as plt\n",
    "import keras\n",
    "import seaborn as sns\n",
    "from sklearn.preprocessing import StandardScaler\n",
    "import warnings\n",
    "warnings.filterwarnings('ignore')"
   ]
  },
  {
   "cell_type": "code",
   "execution_count": 45,
   "metadata": {
    "colab": {
     "base_uri": "https://localhost:8080/"
    },
    "id": "qWoL3ZVmY6_P",
    "outputId": "b26f2cbf-7c2e-42d9-ae43-ac9f70da1c0e"
   },
   "outputs": [],
   "source": [
    "#from google.colab import drive\n",
    "#drive.mount('/content/drive')"
   ]
  },
  {
   "cell_type": "code",
   "execution_count": 2,
   "metadata": {
    "colab": {
     "base_uri": "https://localhost:8080/"
    },
    "id": "hoCe_fQ_h6kn",
    "outputId": "0ebc8f0d-6ed1-423b-9457-ca7570d4779c"
   },
   "outputs": [],
   "source": [
    "import csv\n",
    "df = pd.read_csv('toxic.csv', sep=',', encoding='latin-1', error_bad_lines=False, lineterminator='\\n'\n",
    "                ,usecols =['id', 'comment_text', 'toxic', 'severe_toxic', 'obscene', 'threat',\n",
    "       'insult', 'identity_hate'])\n"
   ]
  },
  {
   "cell_type": "code",
   "execution_count": 3,
   "metadata": {
    "colab": {
     "base_uri": "https://localhost:8080/",
     "height": 738
    },
    "id": "6qzAwj3ajVgN",
    "outputId": "50883fb0-1f3c-4644-e079-9f1e89bd3675"
   },
   "outputs": [
    {
     "data": {
      "text/html": [
       "<div>\n",
       "<style scoped>\n",
       "    .dataframe tbody tr th:only-of-type {\n",
       "        vertical-align: middle;\n",
       "    }\n",
       "\n",
       "    .dataframe tbody tr th {\n",
       "        vertical-align: top;\n",
       "    }\n",
       "\n",
       "    .dataframe thead th {\n",
       "        text-align: right;\n",
       "    }\n",
       "</style>\n",
       "<table border=\"1\" class=\"dataframe\">\n",
       "  <thead>\n",
       "    <tr style=\"text-align: right;\">\n",
       "      <th></th>\n",
       "      <th>id</th>\n",
       "      <th>comment_text</th>\n",
       "      <th>toxic</th>\n",
       "      <th>severe_toxic</th>\n",
       "      <th>obscene</th>\n",
       "      <th>threat</th>\n",
       "      <th>insult</th>\n",
       "      <th>identity_hate</th>\n",
       "    </tr>\n",
       "  </thead>\n",
       "  <tbody>\n",
       "    <tr>\n",
       "      <th>0</th>\n",
       "      <td>0000997932d777bf</td>\n",
       "      <td>Explanation\\nWhy the edits made under my usern...</td>\n",
       "      <td>0</td>\n",
       "      <td>0</td>\n",
       "      <td>0.0</td>\n",
       "      <td>0.0</td>\n",
       "      <td>0.0</td>\n",
       "      <td>0.0</td>\n",
       "    </tr>\n",
       "    <tr>\n",
       "      <th>1</th>\n",
       "      <td>000103f0d9cfb60f</td>\n",
       "      <td>D'aww! He matches this background colour I'm s...</td>\n",
       "      <td>0</td>\n",
       "      <td>0</td>\n",
       "      <td>0.0</td>\n",
       "      <td>0.0</td>\n",
       "      <td>0.0</td>\n",
       "      <td>0.0</td>\n",
       "    </tr>\n",
       "    <tr>\n",
       "      <th>2</th>\n",
       "      <td>000113f07ec002fd</td>\n",
       "      <td>Hey man, I'm really not trying to edit war. It...</td>\n",
       "      <td>0</td>\n",
       "      <td>0</td>\n",
       "      <td>0.0</td>\n",
       "      <td>0.0</td>\n",
       "      <td>0.0</td>\n",
       "      <td>0.0</td>\n",
       "    </tr>\n",
       "    <tr>\n",
       "      <th>3</th>\n",
       "      <td>0001b41b1c6bb37e</td>\n",
       "      <td>\"\\nMore\\nI can't make any real suggestions on ...</td>\n",
       "      <td>0</td>\n",
       "      <td>0</td>\n",
       "      <td>0.0</td>\n",
       "      <td>0.0</td>\n",
       "      <td>0.0</td>\n",
       "      <td>0.0</td>\n",
       "    </tr>\n",
       "    <tr>\n",
       "      <th>4</th>\n",
       "      <td>0001d958c54c6e35</td>\n",
       "      <td>You, sir, are my hero. Any chance you remember...</td>\n",
       "      <td>0</td>\n",
       "      <td>0</td>\n",
       "      <td>0.0</td>\n",
       "      <td>0.0</td>\n",
       "      <td>0.0</td>\n",
       "      <td>0.0</td>\n",
       "    </tr>\n",
       "    <tr>\n",
       "      <th>...</th>\n",
       "      <td>...</td>\n",
       "      <td>...</td>\n",
       "      <td>...</td>\n",
       "      <td>...</td>\n",
       "      <td>...</td>\n",
       "      <td>...</td>\n",
       "      <td>...</td>\n",
       "      <td>...</td>\n",
       "    </tr>\n",
       "    <tr>\n",
       "      <th>165930</th>\n",
       "      <td>ffe987279560d7ff</td>\n",
       "      <td>\":::::And for the second time of asking, when ...</td>\n",
       "      <td>0</td>\n",
       "      <td>0</td>\n",
       "      <td>0</td>\n",
       "      <td>0</td>\n",
       "      <td>0.0</td>\n",
       "      <td>0.0</td>\n",
       "    </tr>\n",
       "    <tr>\n",
       "      <th>165931</th>\n",
       "      <td>ffea4adeee384e90</td>\n",
       "      <td>You should be ashamed of yourself \\n\\nThat is ...</td>\n",
       "      <td>0</td>\n",
       "      <td>0</td>\n",
       "      <td>0</td>\n",
       "      <td>0</td>\n",
       "      <td>0.0</td>\n",
       "      <td>0.0</td>\n",
       "    </tr>\n",
       "    <tr>\n",
       "      <th>165932</th>\n",
       "      <td>ffee36eab5c267c9</td>\n",
       "      <td>Spitzer \\n\\nUmm, theres no actual article for ...</td>\n",
       "      <td>0</td>\n",
       "      <td>0</td>\n",
       "      <td>0</td>\n",
       "      <td>0</td>\n",
       "      <td>0.0</td>\n",
       "      <td>0.0</td>\n",
       "    </tr>\n",
       "    <tr>\n",
       "      <th>165933</th>\n",
       "      <td>fff125370e4aaaf3</td>\n",
       "      <td>And it looks like it was actually you who put ...</td>\n",
       "      <td>0</td>\n",
       "      <td>0</td>\n",
       "      <td>0</td>\n",
       "      <td>0</td>\n",
       "      <td>0.0</td>\n",
       "      <td>0.0</td>\n",
       "    </tr>\n",
       "    <tr>\n",
       "      <th>165934</th>\n",
       "      <td>fff46fc426af1f9a</td>\n",
       "      <td>\"\\nAnd ... I really don't think you understand...</td>\n",
       "      <td>0</td>\n",
       "      <td>0</td>\n",
       "      <td>0</td>\n",
       "      <td>0</td>\n",
       "      <td>0.0</td>\n",
       "      <td>0.0</td>\n",
       "    </tr>\n",
       "  </tbody>\n",
       "</table>\n",
       "<p>165935 rows × 8 columns</p>\n",
       "</div>"
      ],
      "text/plain": [
       "                      id                                       comment_text  \\\n",
       "0       0000997932d777bf  Explanation\\nWhy the edits made under my usern...   \n",
       "1       000103f0d9cfb60f  D'aww! He matches this background colour I'm s...   \n",
       "2       000113f07ec002fd  Hey man, I'm really not trying to edit war. It...   \n",
       "3       0001b41b1c6bb37e  \"\\nMore\\nI can't make any real suggestions on ...   \n",
       "4       0001d958c54c6e35  You, sir, are my hero. Any chance you remember...   \n",
       "...                  ...                                                ...   \n",
       "165930  ffe987279560d7ff  \":::::And for the second time of asking, when ...   \n",
       "165931  ffea4adeee384e90  You should be ashamed of yourself \\n\\nThat is ...   \n",
       "165932  ffee36eab5c267c9  Spitzer \\n\\nUmm, theres no actual article for ...   \n",
       "165933  fff125370e4aaaf3  And it looks like it was actually you who put ...   \n",
       "165934  fff46fc426af1f9a  \"\\nAnd ... I really don't think you understand...   \n",
       "\n",
       "       toxic severe_toxic obscene threat insult identity_hate  \n",
       "0          0            0     0.0    0.0    0.0           0.0  \n",
       "1          0            0     0.0    0.0    0.0           0.0  \n",
       "2          0            0     0.0    0.0    0.0           0.0  \n",
       "3          0            0     0.0    0.0    0.0           0.0  \n",
       "4          0            0     0.0    0.0    0.0           0.0  \n",
       "...      ...          ...     ...    ...    ...           ...  \n",
       "165930     0            0       0      0    0.0           0.0  \n",
       "165931     0            0       0      0    0.0           0.0  \n",
       "165932     0            0       0      0    0.0           0.0  \n",
       "165933     0            0       0      0    0.0           0.0  \n",
       "165934     0            0       0      0    0.0           0.0  \n",
       "\n",
       "[165935 rows x 8 columns]"
      ]
     },
     "execution_count": 3,
     "metadata": {},
     "output_type": "execute_result"
    }
   ],
   "source": [
    "df"
   ]
  },
  {
   "cell_type": "code",
   "execution_count": 4,
   "metadata": {
    "colab": {
     "base_uri": "https://localhost:8080/"
    },
    "id": "BNZVPDeMJavL",
    "outputId": "755b31e9-b8eb-4b3d-958a-16f30c5cd91d"
   },
   "outputs": [
    {
     "data": {
      "text/plain": [
       "Index(['id', 'comment_text', 'toxic', 'severe_toxic', 'obscene', 'threat',\n",
       "       'insult', 'identity_hate'],\n",
       "      dtype='object')"
      ]
     },
     "execution_count": 4,
     "metadata": {},
     "output_type": "execute_result"
    }
   ],
   "source": [
    "df.columns"
   ]
  },
  {
   "cell_type": "markdown",
   "metadata": {
    "id": "K6RKrpiRQCc4"
   },
   "source": [
    "EDA"
   ]
  },
  {
   "cell_type": "code",
   "execution_count": 5,
   "metadata": {
    "colab": {
     "base_uri": "https://localhost:8080/"
    },
    "id": "5pwV8ilGjWDk",
    "outputId": "2b0db1ac-fa76-4251-a4db-e05c62186278"
   },
   "outputs": [
    {
     "data": {
      "text/plain": [
       "id               1536\n",
       "comment_text     5052\n",
       "toxic            5992\n",
       "severe_toxic     6199\n",
       "obscene          6308\n",
       "threat           6386\n",
       "insult           6419\n",
       "identity_hate    6755\n",
       "dtype: int64"
      ]
     },
     "execution_count": 5,
     "metadata": {},
     "output_type": "execute_result"
    }
   ],
   "source": [
    "df.isnull().sum()"
   ]
  },
  {
   "cell_type": "code",
   "execution_count": 50,
   "metadata": {
    "id": "-KR4YiDKknyJ"
   },
   "outputs": [],
   "source": [
    "#df.drop_duplicates(inplace=True)"
   ]
  },
  {
   "cell_type": "code",
   "execution_count": 4,
   "metadata": {
    "id": "rSpFFfsbIZBS"
   },
   "outputs": [],
   "source": [
    "df.dropna(inplace=True)"
   ]
  },
  {
   "cell_type": "code",
   "execution_count": 7,
   "metadata": {
    "colab": {
     "base_uri": "https://localhost:8080/"
    },
    "id": "uqw_D5sWlUiF",
    "outputId": "505bf971-8068-4be7-8d44-7622dd5a21d0"
   },
   "outputs": [
    {
     "name": "stdout",
     "output_type": "stream",
     "text": [
      "<class 'pandas.core.frame.DataFrame'>\n",
      "Int64Index: 159169 entries, 0 to 165934\n",
      "Data columns (total 8 columns):\n",
      " #   Column         Non-Null Count   Dtype \n",
      "---  ------         --------------   ----- \n",
      " 0   id             159169 non-null  object\n",
      " 1   comment_text   159169 non-null  object\n",
      " 2   toxic          159169 non-null  object\n",
      " 3   severe_toxic   159169 non-null  object\n",
      " 4   obscene        159169 non-null  object\n",
      " 5   threat         159169 non-null  object\n",
      " 6   insult         159169 non-null  object\n",
      " 7   identity_hate  159169 non-null  object\n",
      "dtypes: object(8)\n",
      "memory usage: 10.9+ MB\n"
     ]
    }
   ],
   "source": [
    "df.info()"
   ]
  },
  {
   "cell_type": "code",
   "execution_count": 8,
   "metadata": {
    "colab": {
     "base_uri": "https://localhost:8080/"
    },
    "id": "roizzajulVAR",
    "outputId": "b17bb4e0-4e09-4b0a-a57f-32df674daaf7"
   },
   "outputs": [
    {
     "data": {
      "text/plain": [
       "0                                                                                                                                                                                                                                                                                                                                                                                                                      143587\n",
       "1                                                                                                                                                                                                                                                                                                                                                                                                                       15279\n",
       " 12 march (UTC)\"                                                                                                                                                                                                                                                                                                                                                                                                            3\n",
       " consider creating an account for yourself so you can avoid further irrelevant notices.\"\"\"                                                                                                                                                                                                                                                                                                                                  3\n",
       " the format was changed to classic rock                                                                                                                                                                                                                                                                                                                                                                                     2\n",
       "                                                                                                                                                                                                                                                                                                                                                                                                                        ...  \n",
       " articles need to be in English                                                                                                                                                                                                                                                                                                                                                                                             1\n",
       " which are in fact only a guideline.  Moreover                                                                                                                                                                                                                                                                                                                                                                              1\n",
       " you removed Section Break 6 today at 19:59 and then left your comment. Section breaks are for easy navigation on talk pages that have very long discussions such as this one. I spent my time cleaning up this talk page and breaking it down into section breaks over the last few days and you come along and muck it up just because you don't like where the section break is???? When I first placed it today         1\n",
       " undiplomatic comments sans vulgarity (unlike Tiki-Two)                                                                                                                                                                                                                                                                                                                                                                     1\n",
       " February 16                                                                                                                                                                                                                                                                                                                                                                                                                1\n",
       "Name: toxic, Length: 297, dtype: int64"
      ]
     },
     "execution_count": 8,
     "metadata": {},
     "output_type": "execute_result"
    }
   ],
   "source": [
    "df['toxic'].value_counts()"
   ]
  },
  {
   "cell_type": "code",
   "execution_count": 54,
   "metadata": {
    "colab": {
     "base_uri": "https://localhost:8080/"
    },
    "id": "f_HtbeOsMmLv",
    "outputId": "ef94074f-dcf7-4218-ea00-e2730b36d853"
   },
   "outputs": [
    {
     "data": {
      "text/plain": [
       "0                                                                                           142720\n",
       "0.0                                                                                          15879\n",
       "1                                                                                              424\n",
       "1.0                                                                                             56\n",
       " well                                                                                            2\n",
       "                                                                                             ...  \n",
       " in FrontPageMag by Jacob Laksin. He has come under a lot of heat from the SPLC                  1\n",
       " which is my married name. This strange person McGeddon                                          1\n",
       " thereby helping the blocked editor to evade the block                                           1\n",
       " nor can you expect everyone to use a screen with the same resolution. This is a problem         1\n",
       " enter it into a computer                                                                        1\n",
       "Name: threat, Length: 90, dtype: int64"
      ]
     },
     "execution_count": 54,
     "metadata": {},
     "output_type": "execute_result"
    }
   ],
   "source": [
    "df['threat'].value_counts()"
   ]
  },
  {
   "cell_type": "code",
   "execution_count": 55,
   "metadata": {
    "id": "-nqtM6_Ml8xj"
   },
   "outputs": [
    {
     "data": {
      "text/plain": [
       "0         False\n",
       "1         False\n",
       "2         False\n",
       "3         False\n",
       "4         False\n",
       "          ...  \n",
       "165930    False\n",
       "165931    False\n",
       "165932    False\n",
       "165933    False\n",
       "165934    False\n",
       "Name: toxic, Length: 159169, dtype: bool"
      ]
     },
     "execution_count": 55,
     "metadata": {},
     "output_type": "execute_result"
    }
   ],
   "source": [
    "df['toxic'].str.contains('[A-Za-z]')"
   ]
  },
  {
   "cell_type": "code",
   "execution_count": 56,
   "metadata": {
    "id": "R_1tMIqHmqNM"
   },
   "outputs": [],
   "source": [
    "#df = df[df['toxic'].str.contains('[A-Z]+') == False]"
   ]
  },
  {
   "cell_type": "code",
   "execution_count": 57,
   "metadata": {
    "colab": {
     "base_uri": "https://localhost:8080/"
    },
    "id": "IW6cMwUpDhkz",
    "outputId": "7c5d69d3-c159-4243-90c2-41005d5bc3cc"
   },
   "outputs": [
    {
     "name": "stdout",
     "output_type": "stream",
     "text": [
      "<class 'pandas.core.frame.DataFrame'>\n",
      "Int64Index: 159169 entries, 0 to 165934\n",
      "Data columns (total 8 columns):\n",
      " #   Column         Non-Null Count   Dtype \n",
      "---  ------         --------------   ----- \n",
      " 0   id             159169 non-null  object\n",
      " 1   comment_text   159169 non-null  object\n",
      " 2   toxic          159169 non-null  object\n",
      " 3   severe_toxic   159169 non-null  object\n",
      " 4   obscene        159169 non-null  object\n",
      " 5   threat         159169 non-null  object\n",
      " 6   insult         159169 non-null  object\n",
      " 7   identity_hate  159169 non-null  object\n",
      "dtypes: object(8)\n",
      "memory usage: 10.9+ MB\n"
     ]
    }
   ],
   "source": [
    "df.info()"
   ]
  },
  {
   "cell_type": "code",
   "execution_count": 58,
   "metadata": {
    "id": "wVZVRjr_OCJu"
   },
   "outputs": [],
   "source": [
    "# Select the columns of interest\n",
    "#columns_to_check = ['toxic', 'severe_toxic', 'obscene','threat','insult','identity_hate']\n",
    "\n",
    "# Filter rows where all selected columns have numeric values\n",
    "#df = df[df[columns_to_check].applymap(lambda x: str(x).isnumeric()).all(axis=1)]\n"
   ]
  },
  {
   "cell_type": "code",
   "execution_count": 59,
   "metadata": {
    "id": "pItA05FYNLap"
   },
   "outputs": [],
   "source": [
    "#df[df[['toxic','severe_toxic','obscene','threat','insult','identity_hate']].str().isnumeric()]"
   ]
  },
  {
   "cell_type": "code",
   "execution_count": 9,
   "metadata": {},
   "outputs": [
    {
     "data": {
      "text/html": [
       "<div>\n",
       "<style scoped>\n",
       "    .dataframe tbody tr th:only-of-type {\n",
       "        vertical-align: middle;\n",
       "    }\n",
       "\n",
       "    .dataframe tbody tr th {\n",
       "        vertical-align: top;\n",
       "    }\n",
       "\n",
       "    .dataframe thead th {\n",
       "        text-align: right;\n",
       "    }\n",
       "</style>\n",
       "<table border=\"1\" class=\"dataframe\">\n",
       "  <thead>\n",
       "    <tr style=\"text-align: right;\">\n",
       "      <th></th>\n",
       "      <th>id</th>\n",
       "      <th>comment_text</th>\n",
       "      <th>toxic</th>\n",
       "      <th>severe_toxic</th>\n",
       "      <th>obscene</th>\n",
       "      <th>threat</th>\n",
       "      <th>insult</th>\n",
       "      <th>identity_hate</th>\n",
       "    </tr>\n",
       "  </thead>\n",
       "  <tbody>\n",
       "    <tr>\n",
       "      <th>0</th>\n",
       "      <td>0000997932d777bf</td>\n",
       "      <td>Explanation\\nWhy the edits made under my usern...</td>\n",
       "      <td>0</td>\n",
       "      <td>0</td>\n",
       "      <td>0.0</td>\n",
       "      <td>0.0</td>\n",
       "      <td>0.0</td>\n",
       "      <td>0.0</td>\n",
       "    </tr>\n",
       "    <tr>\n",
       "      <th>1</th>\n",
       "      <td>000103f0d9cfb60f</td>\n",
       "      <td>D'aww! He matches this background colour I'm s...</td>\n",
       "      <td>0</td>\n",
       "      <td>0</td>\n",
       "      <td>0.0</td>\n",
       "      <td>0.0</td>\n",
       "      <td>0.0</td>\n",
       "      <td>0.0</td>\n",
       "    </tr>\n",
       "    <tr>\n",
       "      <th>2</th>\n",
       "      <td>000113f07ec002fd</td>\n",
       "      <td>Hey man, I'm really not trying to edit war. It...</td>\n",
       "      <td>0</td>\n",
       "      <td>0</td>\n",
       "      <td>0.0</td>\n",
       "      <td>0.0</td>\n",
       "      <td>0.0</td>\n",
       "      <td>0.0</td>\n",
       "    </tr>\n",
       "    <tr>\n",
       "      <th>3</th>\n",
       "      <td>0001b41b1c6bb37e</td>\n",
       "      <td>\"\\nMore\\nI can't make any real suggestions on ...</td>\n",
       "      <td>0</td>\n",
       "      <td>0</td>\n",
       "      <td>0.0</td>\n",
       "      <td>0.0</td>\n",
       "      <td>0.0</td>\n",
       "      <td>0.0</td>\n",
       "    </tr>\n",
       "    <tr>\n",
       "      <th>4</th>\n",
       "      <td>0001d958c54c6e35</td>\n",
       "      <td>You, sir, are my hero. Any chance you remember...</td>\n",
       "      <td>0</td>\n",
       "      <td>0</td>\n",
       "      <td>0.0</td>\n",
       "      <td>0.0</td>\n",
       "      <td>0.0</td>\n",
       "      <td>0.0</td>\n",
       "    </tr>\n",
       "    <tr>\n",
       "      <th>...</th>\n",
       "      <td>...</td>\n",
       "      <td>...</td>\n",
       "      <td>...</td>\n",
       "      <td>...</td>\n",
       "      <td>...</td>\n",
       "      <td>...</td>\n",
       "      <td>...</td>\n",
       "      <td>...</td>\n",
       "    </tr>\n",
       "    <tr>\n",
       "      <th>165930</th>\n",
       "      <td>ffe987279560d7ff</td>\n",
       "      <td>\":::::And for the second time of asking, when ...</td>\n",
       "      <td>0</td>\n",
       "      <td>0</td>\n",
       "      <td>0</td>\n",
       "      <td>0</td>\n",
       "      <td>0.0</td>\n",
       "      <td>0.0</td>\n",
       "    </tr>\n",
       "    <tr>\n",
       "      <th>165931</th>\n",
       "      <td>ffea4adeee384e90</td>\n",
       "      <td>You should be ashamed of yourself \\n\\nThat is ...</td>\n",
       "      <td>0</td>\n",
       "      <td>0</td>\n",
       "      <td>0</td>\n",
       "      <td>0</td>\n",
       "      <td>0.0</td>\n",
       "      <td>0.0</td>\n",
       "    </tr>\n",
       "    <tr>\n",
       "      <th>165932</th>\n",
       "      <td>ffee36eab5c267c9</td>\n",
       "      <td>Spitzer \\n\\nUmm, theres no actual article for ...</td>\n",
       "      <td>0</td>\n",
       "      <td>0</td>\n",
       "      <td>0</td>\n",
       "      <td>0</td>\n",
       "      <td>0.0</td>\n",
       "      <td>0.0</td>\n",
       "    </tr>\n",
       "    <tr>\n",
       "      <th>165933</th>\n",
       "      <td>fff125370e4aaaf3</td>\n",
       "      <td>And it looks like it was actually you who put ...</td>\n",
       "      <td>0</td>\n",
       "      <td>0</td>\n",
       "      <td>0</td>\n",
       "      <td>0</td>\n",
       "      <td>0.0</td>\n",
       "      <td>0.0</td>\n",
       "    </tr>\n",
       "    <tr>\n",
       "      <th>165934</th>\n",
       "      <td>fff46fc426af1f9a</td>\n",
       "      <td>\"\\nAnd ... I really don't think you understand...</td>\n",
       "      <td>0</td>\n",
       "      <td>0</td>\n",
       "      <td>0</td>\n",
       "      <td>0</td>\n",
       "      <td>0.0</td>\n",
       "      <td>0.0</td>\n",
       "    </tr>\n",
       "  </tbody>\n",
       "</table>\n",
       "<p>158866 rows × 8 columns</p>\n",
       "</div>"
      ],
      "text/plain": [
       "                      id                                       comment_text  \\\n",
       "0       0000997932d777bf  Explanation\\nWhy the edits made under my usern...   \n",
       "1       000103f0d9cfb60f  D'aww! He matches this background colour I'm s...   \n",
       "2       000113f07ec002fd  Hey man, I'm really not trying to edit war. It...   \n",
       "3       0001b41b1c6bb37e  \"\\nMore\\nI can't make any real suggestions on ...   \n",
       "4       0001d958c54c6e35  You, sir, are my hero. Any chance you remember...   \n",
       "...                  ...                                                ...   \n",
       "165930  ffe987279560d7ff  \":::::And for the second time of asking, when ...   \n",
       "165931  ffea4adeee384e90  You should be ashamed of yourself \\n\\nThat is ...   \n",
       "165932  ffee36eab5c267c9  Spitzer \\n\\nUmm, theres no actual article for ...   \n",
       "165933  fff125370e4aaaf3  And it looks like it was actually you who put ...   \n",
       "165934  fff46fc426af1f9a  \"\\nAnd ... I really don't think you understand...   \n",
       "\n",
       "       toxic severe_toxic obscene threat insult identity_hate  \n",
       "0          0            0     0.0    0.0    0.0           0.0  \n",
       "1          0            0     0.0    0.0    0.0           0.0  \n",
       "2          0            0     0.0    0.0    0.0           0.0  \n",
       "3          0            0     0.0    0.0    0.0           0.0  \n",
       "4          0            0     0.0    0.0    0.0           0.0  \n",
       "...      ...          ...     ...    ...    ...           ...  \n",
       "165930     0            0       0      0    0.0           0.0  \n",
       "165931     0            0       0      0    0.0           0.0  \n",
       "165932     0            0       0      0    0.0           0.0  \n",
       "165933     0            0       0      0    0.0           0.0  \n",
       "165934     0            0       0      0    0.0           0.0  \n",
       "\n",
       "[158866 rows x 8 columns]"
      ]
     },
     "execution_count": 9,
     "metadata": {},
     "output_type": "execute_result"
    }
   ],
   "source": [
    "df[df['toxic'].str.isnumeric()]"
   ]
  },
  {
   "cell_type": "code",
   "execution_count": 5,
   "metadata": {
    "id": "V_Ay5hJYDkKd"
   },
   "outputs": [],
   "source": [
    "df = df[df['toxic'].str.isnumeric()]"
   ]
  },
  {
   "cell_type": "code",
   "execution_count": 11,
   "metadata": {
    "colab": {
     "base_uri": "https://localhost:8080/"
    },
    "id": "p5RHAQSrD9T-",
    "outputId": "cefcc872-8483-4f12-c208-62c34907fec0"
   },
   "outputs": [
    {
     "name": "stdout",
     "output_type": "stream",
     "text": [
      "<class 'pandas.core.frame.DataFrame'>\n",
      "Int64Index: 158866 entries, 0 to 165934\n",
      "Data columns (total 8 columns):\n",
      " #   Column         Non-Null Count   Dtype \n",
      "---  ------         --------------   ----- \n",
      " 0   id             158866 non-null  object\n",
      " 1   comment_text   158866 non-null  object\n",
      " 2   toxic          158866 non-null  object\n",
      " 3   severe_toxic   158866 non-null  object\n",
      " 4   obscene        158866 non-null  object\n",
      " 5   threat         158866 non-null  object\n",
      " 6   insult         158866 non-null  object\n",
      " 7   identity_hate  158866 non-null  object\n",
      "dtypes: object(8)\n",
      "memory usage: 10.9+ MB\n"
     ]
    }
   ],
   "source": [
    "df.info()"
   ]
  },
  {
   "cell_type": "code",
   "execution_count": 12,
   "metadata": {
    "colab": {
     "base_uri": "https://localhost:8080/"
    },
    "id": "kQKUqzYTEnPv",
    "outputId": "b09f0aa8-2708-4d41-ea2b-5b4313279a47"
   },
   "outputs": [
    {
     "data": {
      "text/plain": [
       "id               0\n",
       "comment_text     0\n",
       "toxic            0\n",
       "severe_toxic     0\n",
       "obscene          0\n",
       "threat           0\n",
       "insult           0\n",
       "identity_hate    0\n",
       "dtype: int64"
      ]
     },
     "execution_count": 12,
     "metadata": {},
     "output_type": "execute_result"
    }
   ],
   "source": [
    "df.isna().sum()"
   ]
  },
  {
   "cell_type": "code",
   "execution_count": null,
   "metadata": {
    "id": "6Lp8sRaTEtFK"
   },
   "outputs": [],
   "source": [
    "#df.dropna(inplace=True)"
   ]
  },
  {
   "cell_type": "code",
   "execution_count": 28,
   "metadata": {
    "colab": {
     "base_uri": "https://localhost:8080/"
    },
    "id": "hrer78paD_eO",
    "outputId": "fdc39c14-7233-4ec9-b077-08a3a1ea9698"
   },
   "outputs": [
    {
     "data": {
      "text/plain": [
       "0    127387\n",
       "1     13557\n",
       "Name: toxic, dtype: int64"
      ]
     },
     "execution_count": 28,
     "metadata": {},
     "output_type": "execute_result"
    }
   ],
   "source": [
    "df['toxic'].value_counts()"
   ]
  },
  {
   "cell_type": "code",
   "execution_count": 18,
   "metadata": {
    "colab": {
     "base_uri": "https://localhost:8080/"
    },
    "id": "-AyleN_QES-n",
    "outputId": "a7f0d286-bb61-4a2c-db89-4ddd718be787"
   },
   "outputs": [
    {
     "data": {
      "text/plain": [
       "0    157271\n",
       "1      1595\n",
       "Name: severe_toxic, dtype: int64"
      ]
     },
     "execution_count": 18,
     "metadata": {},
     "output_type": "execute_result"
    }
   ],
   "source": [
    "df['severe_toxic'].value_counts()"
   ]
  },
  {
   "cell_type": "code",
   "execution_count": 6,
   "metadata": {
    "id": "3XVEKpDpFo1S"
   },
   "outputs": [],
   "source": [
    "cat= ['toxic', 'severe_toxic', 'obscene', 'threat',\n",
    "       'insult', 'identity_hate']"
   ]
  },
  {
   "cell_type": "code",
   "execution_count": 7,
   "metadata": {
    "id": "P6too2jnFtrz"
   },
   "outputs": [],
   "source": [
    "for i in cat:\n",
    "    df[i]=df[i].astype(int)"
   ]
  },
  {
   "cell_type": "code",
   "execution_count": 67,
   "metadata": {
    "colab": {
     "base_uri": "https://localhost:8080/"
    },
    "id": "o50gn2VbGs7M",
    "outputId": "d39c3e6d-6875-4038-b2fb-29d834d713b1",
    "scrolled": false
   },
   "outputs": [
    {
     "name": "stdout",
     "output_type": "stream",
     "text": [
      "<class 'pandas.core.frame.DataFrame'>\n",
      "Int64Index: 158866 entries, 0 to 165934\n",
      "Data columns (total 8 columns):\n",
      " #   Column         Non-Null Count   Dtype \n",
      "---  ------         --------------   ----- \n",
      " 0   id             158866 non-null  object\n",
      " 1   comment_text   158866 non-null  object\n",
      " 2   toxic          158866 non-null  int32 \n",
      " 3   severe_toxic   158866 non-null  int32 \n",
      " 4   obscene        158866 non-null  int32 \n",
      " 5   threat         158866 non-null  int32 \n",
      " 6   insult         158866 non-null  int32 \n",
      " 7   identity_hate  158866 non-null  int32 \n",
      "dtypes: int32(6), object(2)\n",
      "memory usage: 7.3+ MB\n"
     ]
    }
   ],
   "source": [
    "df.info()"
   ]
  },
  {
   "cell_type": "code",
   "execution_count": 25,
   "metadata": {
    "colab": {
     "base_uri": "https://localhost:8080/",
     "height": 1000
    },
    "id": "CEJ6eggwHC_r",
    "outputId": "66605857-5307-4c1c-ee7f-bc1fe88570bc"
   },
   "outputs": [
    {
     "data": {
      "application/javascript": [
       "/* Put everything inside the global mpl namespace */\n",
       "/* global mpl */\n",
       "window.mpl = {};\n",
       "\n",
       "mpl.get_websocket_type = function () {\n",
       "    if (typeof WebSocket !== 'undefined') {\n",
       "        return WebSocket;\n",
       "    } else if (typeof MozWebSocket !== 'undefined') {\n",
       "        return MozWebSocket;\n",
       "    } else {\n",
       "        alert(\n",
       "            'Your browser does not have WebSocket support. ' +\n",
       "                'Please try Chrome, Safari or Firefox ≥ 6. ' +\n",
       "                'Firefox 4 and 5 are also supported but you ' +\n",
       "                'have to enable WebSockets in about:config.'\n",
       "        );\n",
       "    }\n",
       "};\n",
       "\n",
       "mpl.figure = function (figure_id, websocket, ondownload, parent_element) {\n",
       "    this.id = figure_id;\n",
       "\n",
       "    this.ws = websocket;\n",
       "\n",
       "    this.supports_binary = this.ws.binaryType !== undefined;\n",
       "\n",
       "    if (!this.supports_binary) {\n",
       "        var warnings = document.getElementById('mpl-warnings');\n",
       "        if (warnings) {\n",
       "            warnings.style.display = 'block';\n",
       "            warnings.textContent =\n",
       "                'This browser does not support binary websocket messages. ' +\n",
       "                'Performance may be slow.';\n",
       "        }\n",
       "    }\n",
       "\n",
       "    this.imageObj = new Image();\n",
       "\n",
       "    this.context = undefined;\n",
       "    this.message = undefined;\n",
       "    this.canvas = undefined;\n",
       "    this.rubberband_canvas = undefined;\n",
       "    this.rubberband_context = undefined;\n",
       "    this.format_dropdown = undefined;\n",
       "\n",
       "    this.image_mode = 'full';\n",
       "\n",
       "    this.root = document.createElement('div');\n",
       "    this.root.setAttribute('style', 'display: inline-block');\n",
       "    this._root_extra_style(this.root);\n",
       "\n",
       "    parent_element.appendChild(this.root);\n",
       "\n",
       "    this._init_header(this);\n",
       "    this._init_canvas(this);\n",
       "    this._init_toolbar(this);\n",
       "\n",
       "    var fig = this;\n",
       "\n",
       "    this.waiting = false;\n",
       "\n",
       "    this.ws.onopen = function () {\n",
       "        fig.send_message('supports_binary', { value: fig.supports_binary });\n",
       "        fig.send_message('send_image_mode', {});\n",
       "        if (fig.ratio !== 1) {\n",
       "            fig.send_message('set_device_pixel_ratio', {\n",
       "                device_pixel_ratio: fig.ratio,\n",
       "            });\n",
       "        }\n",
       "        fig.send_message('refresh', {});\n",
       "    };\n",
       "\n",
       "    this.imageObj.onload = function () {\n",
       "        if (fig.image_mode === 'full') {\n",
       "            // Full images could contain transparency (where diff images\n",
       "            // almost always do), so we need to clear the canvas so that\n",
       "            // there is no ghosting.\n",
       "            fig.context.clearRect(0, 0, fig.canvas.width, fig.canvas.height);\n",
       "        }\n",
       "        fig.context.drawImage(fig.imageObj, 0, 0);\n",
       "    };\n",
       "\n",
       "    this.imageObj.onunload = function () {\n",
       "        fig.ws.close();\n",
       "    };\n",
       "\n",
       "    this.ws.onmessage = this._make_on_message_function(this);\n",
       "\n",
       "    this.ondownload = ondownload;\n",
       "};\n",
       "\n",
       "mpl.figure.prototype._init_header = function () {\n",
       "    var titlebar = document.createElement('div');\n",
       "    titlebar.classList =\n",
       "        'ui-dialog-titlebar ui-widget-header ui-corner-all ui-helper-clearfix';\n",
       "    var titletext = document.createElement('div');\n",
       "    titletext.classList = 'ui-dialog-title';\n",
       "    titletext.setAttribute(\n",
       "        'style',\n",
       "        'width: 100%; text-align: center; padding: 3px;'\n",
       "    );\n",
       "    titlebar.appendChild(titletext);\n",
       "    this.root.appendChild(titlebar);\n",
       "    this.header = titletext;\n",
       "};\n",
       "\n",
       "mpl.figure.prototype._canvas_extra_style = function (_canvas_div) {};\n",
       "\n",
       "mpl.figure.prototype._root_extra_style = function (_canvas_div) {};\n",
       "\n",
       "mpl.figure.prototype._init_canvas = function () {\n",
       "    var fig = this;\n",
       "\n",
       "    var canvas_div = (this.canvas_div = document.createElement('div'));\n",
       "    canvas_div.setAttribute(\n",
       "        'style',\n",
       "        'border: 1px solid #ddd;' +\n",
       "            'box-sizing: content-box;' +\n",
       "            'clear: both;' +\n",
       "            'min-height: 1px;' +\n",
       "            'min-width: 1px;' +\n",
       "            'outline: 0;' +\n",
       "            'overflow: hidden;' +\n",
       "            'position: relative;' +\n",
       "            'resize: both;'\n",
       "    );\n",
       "\n",
       "    function on_keyboard_event_closure(name) {\n",
       "        return function (event) {\n",
       "            return fig.key_event(event, name);\n",
       "        };\n",
       "    }\n",
       "\n",
       "    canvas_div.addEventListener(\n",
       "        'keydown',\n",
       "        on_keyboard_event_closure('key_press')\n",
       "    );\n",
       "    canvas_div.addEventListener(\n",
       "        'keyup',\n",
       "        on_keyboard_event_closure('key_release')\n",
       "    );\n",
       "\n",
       "    this._canvas_extra_style(canvas_div);\n",
       "    this.root.appendChild(canvas_div);\n",
       "\n",
       "    var canvas = (this.canvas = document.createElement('canvas'));\n",
       "    canvas.classList.add('mpl-canvas');\n",
       "    canvas.setAttribute('style', 'box-sizing: content-box;');\n",
       "\n",
       "    this.context = canvas.getContext('2d');\n",
       "\n",
       "    var backingStore =\n",
       "        this.context.backingStorePixelRatio ||\n",
       "        this.context.webkitBackingStorePixelRatio ||\n",
       "        this.context.mozBackingStorePixelRatio ||\n",
       "        this.context.msBackingStorePixelRatio ||\n",
       "        this.context.oBackingStorePixelRatio ||\n",
       "        this.context.backingStorePixelRatio ||\n",
       "        1;\n",
       "\n",
       "    this.ratio = (window.devicePixelRatio || 1) / backingStore;\n",
       "\n",
       "    var rubberband_canvas = (this.rubberband_canvas = document.createElement(\n",
       "        'canvas'\n",
       "    ));\n",
       "    rubberband_canvas.setAttribute(\n",
       "        'style',\n",
       "        'box-sizing: content-box; position: absolute; left: 0; top: 0; z-index: 1;'\n",
       "    );\n",
       "\n",
       "    // Apply a ponyfill if ResizeObserver is not implemented by browser.\n",
       "    if (this.ResizeObserver === undefined) {\n",
       "        if (window.ResizeObserver !== undefined) {\n",
       "            this.ResizeObserver = window.ResizeObserver;\n",
       "        } else {\n",
       "            var obs = _JSXTOOLS_RESIZE_OBSERVER({});\n",
       "            this.ResizeObserver = obs.ResizeObserver;\n",
       "        }\n",
       "    }\n",
       "\n",
       "    this.resizeObserverInstance = new this.ResizeObserver(function (entries) {\n",
       "        var nentries = entries.length;\n",
       "        for (var i = 0; i < nentries; i++) {\n",
       "            var entry = entries[i];\n",
       "            var width, height;\n",
       "            if (entry.contentBoxSize) {\n",
       "                if (entry.contentBoxSize instanceof Array) {\n",
       "                    // Chrome 84 implements new version of spec.\n",
       "                    width = entry.contentBoxSize[0].inlineSize;\n",
       "                    height = entry.contentBoxSize[0].blockSize;\n",
       "                } else {\n",
       "                    // Firefox implements old version of spec.\n",
       "                    width = entry.contentBoxSize.inlineSize;\n",
       "                    height = entry.contentBoxSize.blockSize;\n",
       "                }\n",
       "            } else {\n",
       "                // Chrome <84 implements even older version of spec.\n",
       "                width = entry.contentRect.width;\n",
       "                height = entry.contentRect.height;\n",
       "            }\n",
       "\n",
       "            // Keep the size of the canvas and rubber band canvas in sync with\n",
       "            // the canvas container.\n",
       "            if (entry.devicePixelContentBoxSize) {\n",
       "                // Chrome 84 implements new version of spec.\n",
       "                canvas.setAttribute(\n",
       "                    'width',\n",
       "                    entry.devicePixelContentBoxSize[0].inlineSize\n",
       "                );\n",
       "                canvas.setAttribute(\n",
       "                    'height',\n",
       "                    entry.devicePixelContentBoxSize[0].blockSize\n",
       "                );\n",
       "            } else {\n",
       "                canvas.setAttribute('width', width * fig.ratio);\n",
       "                canvas.setAttribute('height', height * fig.ratio);\n",
       "            }\n",
       "            canvas.setAttribute(\n",
       "                'style',\n",
       "                'width: ' + width + 'px; height: ' + height + 'px;'\n",
       "            );\n",
       "\n",
       "            rubberband_canvas.setAttribute('width', width);\n",
       "            rubberband_canvas.setAttribute('height', height);\n",
       "\n",
       "            // And update the size in Python. We ignore the initial 0/0 size\n",
       "            // that occurs as the element is placed into the DOM, which should\n",
       "            // otherwise not happen due to the minimum size styling.\n",
       "            if (fig.ws.readyState == 1 && width != 0 && height != 0) {\n",
       "                fig.request_resize(width, height);\n",
       "            }\n",
       "        }\n",
       "    });\n",
       "    this.resizeObserverInstance.observe(canvas_div);\n",
       "\n",
       "    function on_mouse_event_closure(name) {\n",
       "        return function (event) {\n",
       "            return fig.mouse_event(event, name);\n",
       "        };\n",
       "    }\n",
       "\n",
       "    rubberband_canvas.addEventListener(\n",
       "        'mousedown',\n",
       "        on_mouse_event_closure('button_press')\n",
       "    );\n",
       "    rubberband_canvas.addEventListener(\n",
       "        'mouseup',\n",
       "        on_mouse_event_closure('button_release')\n",
       "    );\n",
       "    rubberband_canvas.addEventListener(\n",
       "        'dblclick',\n",
       "        on_mouse_event_closure('dblclick')\n",
       "    );\n",
       "    // Throttle sequential mouse events to 1 every 20ms.\n",
       "    rubberband_canvas.addEventListener(\n",
       "        'mousemove',\n",
       "        on_mouse_event_closure('motion_notify')\n",
       "    );\n",
       "\n",
       "    rubberband_canvas.addEventListener(\n",
       "        'mouseenter',\n",
       "        on_mouse_event_closure('figure_enter')\n",
       "    );\n",
       "    rubberband_canvas.addEventListener(\n",
       "        'mouseleave',\n",
       "        on_mouse_event_closure('figure_leave')\n",
       "    );\n",
       "\n",
       "    canvas_div.addEventListener('wheel', function (event) {\n",
       "        if (event.deltaY < 0) {\n",
       "            event.step = 1;\n",
       "        } else {\n",
       "            event.step = -1;\n",
       "        }\n",
       "        on_mouse_event_closure('scroll')(event);\n",
       "    });\n",
       "\n",
       "    canvas_div.appendChild(canvas);\n",
       "    canvas_div.appendChild(rubberband_canvas);\n",
       "\n",
       "    this.rubberband_context = rubberband_canvas.getContext('2d');\n",
       "    this.rubberband_context.strokeStyle = '#000000';\n",
       "\n",
       "    this._resize_canvas = function (width, height, forward) {\n",
       "        if (forward) {\n",
       "            canvas_div.style.width = width + 'px';\n",
       "            canvas_div.style.height = height + 'px';\n",
       "        }\n",
       "    };\n",
       "\n",
       "    // Disable right mouse context menu.\n",
       "    this.rubberband_canvas.addEventListener('contextmenu', function (_e) {\n",
       "        event.preventDefault();\n",
       "        return false;\n",
       "    });\n",
       "\n",
       "    function set_focus() {\n",
       "        canvas.focus();\n",
       "        canvas_div.focus();\n",
       "    }\n",
       "\n",
       "    window.setTimeout(set_focus, 100);\n",
       "};\n",
       "\n",
       "mpl.figure.prototype._init_toolbar = function () {\n",
       "    var fig = this;\n",
       "\n",
       "    var toolbar = document.createElement('div');\n",
       "    toolbar.classList = 'mpl-toolbar';\n",
       "    this.root.appendChild(toolbar);\n",
       "\n",
       "    function on_click_closure(name) {\n",
       "        return function (_event) {\n",
       "            return fig.toolbar_button_onclick(name);\n",
       "        };\n",
       "    }\n",
       "\n",
       "    function on_mouseover_closure(tooltip) {\n",
       "        return function (event) {\n",
       "            if (!event.currentTarget.disabled) {\n",
       "                return fig.toolbar_button_onmouseover(tooltip);\n",
       "            }\n",
       "        };\n",
       "    }\n",
       "\n",
       "    fig.buttons = {};\n",
       "    var buttonGroup = document.createElement('div');\n",
       "    buttonGroup.classList = 'mpl-button-group';\n",
       "    for (var toolbar_ind in mpl.toolbar_items) {\n",
       "        var name = mpl.toolbar_items[toolbar_ind][0];\n",
       "        var tooltip = mpl.toolbar_items[toolbar_ind][1];\n",
       "        var image = mpl.toolbar_items[toolbar_ind][2];\n",
       "        var method_name = mpl.toolbar_items[toolbar_ind][3];\n",
       "\n",
       "        if (!name) {\n",
       "            /* Instead of a spacer, we start a new button group. */\n",
       "            if (buttonGroup.hasChildNodes()) {\n",
       "                toolbar.appendChild(buttonGroup);\n",
       "            }\n",
       "            buttonGroup = document.createElement('div');\n",
       "            buttonGroup.classList = 'mpl-button-group';\n",
       "            continue;\n",
       "        }\n",
       "\n",
       "        var button = (fig.buttons[name] = document.createElement('button'));\n",
       "        button.classList = 'mpl-widget';\n",
       "        button.setAttribute('role', 'button');\n",
       "        button.setAttribute('aria-disabled', 'false');\n",
       "        button.addEventListener('click', on_click_closure(method_name));\n",
       "        button.addEventListener('mouseover', on_mouseover_closure(tooltip));\n",
       "\n",
       "        var icon_img = document.createElement('img');\n",
       "        icon_img.src = '_images/' + image + '.png';\n",
       "        icon_img.srcset = '_images/' + image + '_large.png 2x';\n",
       "        icon_img.alt = tooltip;\n",
       "        button.appendChild(icon_img);\n",
       "\n",
       "        buttonGroup.appendChild(button);\n",
       "    }\n",
       "\n",
       "    if (buttonGroup.hasChildNodes()) {\n",
       "        toolbar.appendChild(buttonGroup);\n",
       "    }\n",
       "\n",
       "    var fmt_picker = document.createElement('select');\n",
       "    fmt_picker.classList = 'mpl-widget';\n",
       "    toolbar.appendChild(fmt_picker);\n",
       "    this.format_dropdown = fmt_picker;\n",
       "\n",
       "    for (var ind in mpl.extensions) {\n",
       "        var fmt = mpl.extensions[ind];\n",
       "        var option = document.createElement('option');\n",
       "        option.selected = fmt === mpl.default_extension;\n",
       "        option.innerHTML = fmt;\n",
       "        fmt_picker.appendChild(option);\n",
       "    }\n",
       "\n",
       "    var status_bar = document.createElement('span');\n",
       "    status_bar.classList = 'mpl-message';\n",
       "    toolbar.appendChild(status_bar);\n",
       "    this.message = status_bar;\n",
       "};\n",
       "\n",
       "mpl.figure.prototype.request_resize = function (x_pixels, y_pixels) {\n",
       "    // Request matplotlib to resize the figure. Matplotlib will then trigger a resize in the client,\n",
       "    // which will in turn request a refresh of the image.\n",
       "    this.send_message('resize', { width: x_pixels, height: y_pixels });\n",
       "};\n",
       "\n",
       "mpl.figure.prototype.send_message = function (type, properties) {\n",
       "    properties['type'] = type;\n",
       "    properties['figure_id'] = this.id;\n",
       "    this.ws.send(JSON.stringify(properties));\n",
       "};\n",
       "\n",
       "mpl.figure.prototype.send_draw_message = function () {\n",
       "    if (!this.waiting) {\n",
       "        this.waiting = true;\n",
       "        this.ws.send(JSON.stringify({ type: 'draw', figure_id: this.id }));\n",
       "    }\n",
       "};\n",
       "\n",
       "mpl.figure.prototype.handle_save = function (fig, _msg) {\n",
       "    var format_dropdown = fig.format_dropdown;\n",
       "    var format = format_dropdown.options[format_dropdown.selectedIndex].value;\n",
       "    fig.ondownload(fig, format);\n",
       "};\n",
       "\n",
       "mpl.figure.prototype.handle_resize = function (fig, msg) {\n",
       "    var size = msg['size'];\n",
       "    if (size[0] !== fig.canvas.width || size[1] !== fig.canvas.height) {\n",
       "        fig._resize_canvas(size[0], size[1], msg['forward']);\n",
       "        fig.send_message('refresh', {});\n",
       "    }\n",
       "};\n",
       "\n",
       "mpl.figure.prototype.handle_rubberband = function (fig, msg) {\n",
       "    var x0 = msg['x0'] / fig.ratio;\n",
       "    var y0 = (fig.canvas.height - msg['y0']) / fig.ratio;\n",
       "    var x1 = msg['x1'] / fig.ratio;\n",
       "    var y1 = (fig.canvas.height - msg['y1']) / fig.ratio;\n",
       "    x0 = Math.floor(x0) + 0.5;\n",
       "    y0 = Math.floor(y0) + 0.5;\n",
       "    x1 = Math.floor(x1) + 0.5;\n",
       "    y1 = Math.floor(y1) + 0.5;\n",
       "    var min_x = Math.min(x0, x1);\n",
       "    var min_y = Math.min(y0, y1);\n",
       "    var width = Math.abs(x1 - x0);\n",
       "    var height = Math.abs(y1 - y0);\n",
       "\n",
       "    fig.rubberband_context.clearRect(\n",
       "        0,\n",
       "        0,\n",
       "        fig.canvas.width / fig.ratio,\n",
       "        fig.canvas.height / fig.ratio\n",
       "    );\n",
       "\n",
       "    fig.rubberband_context.strokeRect(min_x, min_y, width, height);\n",
       "};\n",
       "\n",
       "mpl.figure.prototype.handle_figure_label = function (fig, msg) {\n",
       "    // Updates the figure title.\n",
       "    fig.header.textContent = msg['label'];\n",
       "};\n",
       "\n",
       "mpl.figure.prototype.handle_cursor = function (fig, msg) {\n",
       "    fig.rubberband_canvas.style.cursor = msg['cursor'];\n",
       "};\n",
       "\n",
       "mpl.figure.prototype.handle_message = function (fig, msg) {\n",
       "    fig.message.textContent = msg['message'];\n",
       "};\n",
       "\n",
       "mpl.figure.prototype.handle_draw = function (fig, _msg) {\n",
       "    // Request the server to send over a new figure.\n",
       "    fig.send_draw_message();\n",
       "};\n",
       "\n",
       "mpl.figure.prototype.handle_image_mode = function (fig, msg) {\n",
       "    fig.image_mode = msg['mode'];\n",
       "};\n",
       "\n",
       "mpl.figure.prototype.handle_history_buttons = function (fig, msg) {\n",
       "    for (var key in msg) {\n",
       "        if (!(key in fig.buttons)) {\n",
       "            continue;\n",
       "        }\n",
       "        fig.buttons[key].disabled = !msg[key];\n",
       "        fig.buttons[key].setAttribute('aria-disabled', !msg[key]);\n",
       "    }\n",
       "};\n",
       "\n",
       "mpl.figure.prototype.handle_navigate_mode = function (fig, msg) {\n",
       "    if (msg['mode'] === 'PAN') {\n",
       "        fig.buttons['Pan'].classList.add('active');\n",
       "        fig.buttons['Zoom'].classList.remove('active');\n",
       "    } else if (msg['mode'] === 'ZOOM') {\n",
       "        fig.buttons['Pan'].classList.remove('active');\n",
       "        fig.buttons['Zoom'].classList.add('active');\n",
       "    } else {\n",
       "        fig.buttons['Pan'].classList.remove('active');\n",
       "        fig.buttons['Zoom'].classList.remove('active');\n",
       "    }\n",
       "};\n",
       "\n",
       "mpl.figure.prototype.updated_canvas_event = function () {\n",
       "    // Called whenever the canvas gets updated.\n",
       "    this.send_message('ack', {});\n",
       "};\n",
       "\n",
       "// A function to construct a web socket function for onmessage handling.\n",
       "// Called in the figure constructor.\n",
       "mpl.figure.prototype._make_on_message_function = function (fig) {\n",
       "    return function socket_on_message(evt) {\n",
       "        if (evt.data instanceof Blob) {\n",
       "            var img = evt.data;\n",
       "            if (img.type !== 'image/png') {\n",
       "                /* FIXME: We get \"Resource interpreted as Image but\n",
       "                 * transferred with MIME type text/plain:\" errors on\n",
       "                 * Chrome.  But how to set the MIME type?  It doesn't seem\n",
       "                 * to be part of the websocket stream */\n",
       "                img.type = 'image/png';\n",
       "            }\n",
       "\n",
       "            /* Free the memory for the previous frames */\n",
       "            if (fig.imageObj.src) {\n",
       "                (window.URL || window.webkitURL).revokeObjectURL(\n",
       "                    fig.imageObj.src\n",
       "                );\n",
       "            }\n",
       "\n",
       "            fig.imageObj.src = (window.URL || window.webkitURL).createObjectURL(\n",
       "                img\n",
       "            );\n",
       "            fig.updated_canvas_event();\n",
       "            fig.waiting = false;\n",
       "            return;\n",
       "        } else if (\n",
       "            typeof evt.data === 'string' &&\n",
       "            evt.data.slice(0, 21) === 'data:image/png;base64'\n",
       "        ) {\n",
       "            fig.imageObj.src = evt.data;\n",
       "            fig.updated_canvas_event();\n",
       "            fig.waiting = false;\n",
       "            return;\n",
       "        }\n",
       "\n",
       "        var msg = JSON.parse(evt.data);\n",
       "        var msg_type = msg['type'];\n",
       "\n",
       "        // Call the  \"handle_{type}\" callback, which takes\n",
       "        // the figure and JSON message as its only arguments.\n",
       "        try {\n",
       "            var callback = fig['handle_' + msg_type];\n",
       "        } catch (e) {\n",
       "            console.log(\n",
       "                \"No handler for the '\" + msg_type + \"' message type: \",\n",
       "                msg\n",
       "            );\n",
       "            return;\n",
       "        }\n",
       "\n",
       "        if (callback) {\n",
       "            try {\n",
       "                // console.log(\"Handling '\" + msg_type + \"' message: \", msg);\n",
       "                callback(fig, msg);\n",
       "            } catch (e) {\n",
       "                console.log(\n",
       "                    \"Exception inside the 'handler_\" + msg_type + \"' callback:\",\n",
       "                    e,\n",
       "                    e.stack,\n",
       "                    msg\n",
       "                );\n",
       "            }\n",
       "        }\n",
       "    };\n",
       "};\n",
       "\n",
       "// from https://stackoverflow.com/questions/1114465/getting-mouse-location-in-canvas\n",
       "mpl.findpos = function (e) {\n",
       "    //this section is from http://www.quirksmode.org/js/events_properties.html\n",
       "    var targ;\n",
       "    if (!e) {\n",
       "        e = window.event;\n",
       "    }\n",
       "    if (e.target) {\n",
       "        targ = e.target;\n",
       "    } else if (e.srcElement) {\n",
       "        targ = e.srcElement;\n",
       "    }\n",
       "    if (targ.nodeType === 3) {\n",
       "        // defeat Safari bug\n",
       "        targ = targ.parentNode;\n",
       "    }\n",
       "\n",
       "    // pageX,Y are the mouse positions relative to the document\n",
       "    var boundingRect = targ.getBoundingClientRect();\n",
       "    var x = e.pageX - (boundingRect.left + document.body.scrollLeft);\n",
       "    var y = e.pageY - (boundingRect.top + document.body.scrollTop);\n",
       "\n",
       "    return { x: x, y: y };\n",
       "};\n",
       "\n",
       "/*\n",
       " * return a copy of an object with only non-object keys\n",
       " * we need this to avoid circular references\n",
       " * https://stackoverflow.com/a/24161582/3208463\n",
       " */\n",
       "function simpleKeys(original) {\n",
       "    return Object.keys(original).reduce(function (obj, key) {\n",
       "        if (typeof original[key] !== 'object') {\n",
       "            obj[key] = original[key];\n",
       "        }\n",
       "        return obj;\n",
       "    }, {});\n",
       "}\n",
       "\n",
       "mpl.figure.prototype.mouse_event = function (event, name) {\n",
       "    var canvas_pos = mpl.findpos(event);\n",
       "\n",
       "    if (name === 'button_press') {\n",
       "        this.canvas.focus();\n",
       "        this.canvas_div.focus();\n",
       "    }\n",
       "\n",
       "    var x = canvas_pos.x * this.ratio;\n",
       "    var y = canvas_pos.y * this.ratio;\n",
       "\n",
       "    this.send_message(name, {\n",
       "        x: x,\n",
       "        y: y,\n",
       "        button: event.button,\n",
       "        step: event.step,\n",
       "        guiEvent: simpleKeys(event),\n",
       "    });\n",
       "\n",
       "    /* This prevents the web browser from automatically changing to\n",
       "     * the text insertion cursor when the button is pressed.  We want\n",
       "     * to control all of the cursor setting manually through the\n",
       "     * 'cursor' event from matplotlib */\n",
       "    event.preventDefault();\n",
       "    return false;\n",
       "};\n",
       "\n",
       "mpl.figure.prototype._key_event_extra = function (_event, _name) {\n",
       "    // Handle any extra behaviour associated with a key event\n",
       "};\n",
       "\n",
       "mpl.figure.prototype.key_event = function (event, name) {\n",
       "    // Prevent repeat events\n",
       "    if (name === 'key_press') {\n",
       "        if (event.key === this._key) {\n",
       "            return;\n",
       "        } else {\n",
       "            this._key = event.key;\n",
       "        }\n",
       "    }\n",
       "    if (name === 'key_release') {\n",
       "        this._key = null;\n",
       "    }\n",
       "\n",
       "    var value = '';\n",
       "    if (event.ctrlKey && event.key !== 'Control') {\n",
       "        value += 'ctrl+';\n",
       "    }\n",
       "    else if (event.altKey && event.key !== 'Alt') {\n",
       "        value += 'alt+';\n",
       "    }\n",
       "    else if (event.shiftKey && event.key !== 'Shift') {\n",
       "        value += 'shift+';\n",
       "    }\n",
       "\n",
       "    value += 'k' + event.key;\n",
       "\n",
       "    this._key_event_extra(event, name);\n",
       "\n",
       "    this.send_message(name, { key: value, guiEvent: simpleKeys(event) });\n",
       "    return false;\n",
       "};\n",
       "\n",
       "mpl.figure.prototype.toolbar_button_onclick = function (name) {\n",
       "    if (name === 'download') {\n",
       "        this.handle_save(this, null);\n",
       "    } else {\n",
       "        this.send_message('toolbar_button', { name: name });\n",
       "    }\n",
       "};\n",
       "\n",
       "mpl.figure.prototype.toolbar_button_onmouseover = function (tooltip) {\n",
       "    this.message.textContent = tooltip;\n",
       "};\n",
       "\n",
       "///////////////// REMAINING CONTENT GENERATED BY embed_js.py /////////////////\n",
       "// prettier-ignore\n",
       "var _JSXTOOLS_RESIZE_OBSERVER=function(A){var t,i=new WeakMap,n=new WeakMap,a=new WeakMap,r=new WeakMap,o=new Set;function s(e){if(!(this instanceof s))throw new TypeError(\"Constructor requires 'new' operator\");i.set(this,e)}function h(){throw new TypeError(\"Function is not a constructor\")}function c(e,t,i,n){e=0 in arguments?Number(arguments[0]):0,t=1 in arguments?Number(arguments[1]):0,i=2 in arguments?Number(arguments[2]):0,n=3 in arguments?Number(arguments[3]):0,this.right=(this.x=this.left=e)+(this.width=i),this.bottom=(this.y=this.top=t)+(this.height=n),Object.freeze(this)}function d(){t=requestAnimationFrame(d);var s=new WeakMap,p=new Set;o.forEach((function(t){r.get(t).forEach((function(i){var r=t instanceof window.SVGElement,o=a.get(t),d=r?0:parseFloat(o.paddingTop),f=r?0:parseFloat(o.paddingRight),l=r?0:parseFloat(o.paddingBottom),u=r?0:parseFloat(o.paddingLeft),g=r?0:parseFloat(o.borderTopWidth),m=r?0:parseFloat(o.borderRightWidth),w=r?0:parseFloat(o.borderBottomWidth),b=u+f,F=d+l,v=(r?0:parseFloat(o.borderLeftWidth))+m,W=g+w,y=r?0:t.offsetHeight-W-t.clientHeight,E=r?0:t.offsetWidth-v-t.clientWidth,R=b+v,z=F+W,M=r?t.width:parseFloat(o.width)-R-E,O=r?t.height:parseFloat(o.height)-z-y;if(n.has(t)){var k=n.get(t);if(k[0]===M&&k[1]===O)return}n.set(t,[M,O]);var S=Object.create(h.prototype);S.target=t,S.contentRect=new c(u,d,M,O),s.has(i)||(s.set(i,[]),p.add(i)),s.get(i).push(S)}))})),p.forEach((function(e){i.get(e).call(e,s.get(e),e)}))}return s.prototype.observe=function(i){if(i instanceof window.Element){r.has(i)||(r.set(i,new Set),o.add(i),a.set(i,window.getComputedStyle(i)));var n=r.get(i);n.has(this)||n.add(this),cancelAnimationFrame(t),t=requestAnimationFrame(d)}},s.prototype.unobserve=function(i){if(i instanceof window.Element&&r.has(i)){var n=r.get(i);n.has(this)&&(n.delete(this),n.size||(r.delete(i),o.delete(i))),n.size||r.delete(i),o.size||cancelAnimationFrame(t)}},A.DOMRectReadOnly=c,A.ResizeObserver=s,A.ResizeObserverEntry=h,A}; // eslint-disable-line\n",
       "mpl.toolbar_items = [[\"Home\", \"Reset original view\", \"fa fa-home icon-home\", \"home\"], [\"Back\", \"Back to previous view\", \"fa fa-arrow-left icon-arrow-left\", \"back\"], [\"Forward\", \"Forward to next view\", \"fa fa-arrow-right icon-arrow-right\", \"forward\"], [\"\", \"\", \"\", \"\"], [\"Pan\", \"Left button pans, Right button zooms\\nx/y fixes axis, CTRL fixes aspect\", \"fa fa-arrows icon-move\", \"pan\"], [\"Zoom\", \"Zoom to rectangle\\nx/y fixes axis\", \"fa fa-square-o icon-check-empty\", \"zoom\"], [\"\", \"\", \"\", \"\"], [\"Download\", \"Download plot\", \"fa fa-floppy-o icon-save\", \"download\"]];\n",
       "\n",
       "mpl.extensions = [\"eps\", \"jpeg\", \"pgf\", \"pdf\", \"png\", \"ps\", \"raw\", \"svg\", \"tif\"];\n",
       "\n",
       "mpl.default_extension = \"png\";/* global mpl */\n",
       "\n",
       "var comm_websocket_adapter = function (comm) {\n",
       "    // Create a \"websocket\"-like object which calls the given IPython comm\n",
       "    // object with the appropriate methods. Currently this is a non binary\n",
       "    // socket, so there is still some room for performance tuning.\n",
       "    var ws = {};\n",
       "\n",
       "    ws.binaryType = comm.kernel.ws.binaryType;\n",
       "    ws.readyState = comm.kernel.ws.readyState;\n",
       "    function updateReadyState(_event) {\n",
       "        if (comm.kernel.ws) {\n",
       "            ws.readyState = comm.kernel.ws.readyState;\n",
       "        } else {\n",
       "            ws.readyState = 3; // Closed state.\n",
       "        }\n",
       "    }\n",
       "    comm.kernel.ws.addEventListener('open', updateReadyState);\n",
       "    comm.kernel.ws.addEventListener('close', updateReadyState);\n",
       "    comm.kernel.ws.addEventListener('error', updateReadyState);\n",
       "\n",
       "    ws.close = function () {\n",
       "        comm.close();\n",
       "    };\n",
       "    ws.send = function (m) {\n",
       "        //console.log('sending', m);\n",
       "        comm.send(m);\n",
       "    };\n",
       "    // Register the callback with on_msg.\n",
       "    comm.on_msg(function (msg) {\n",
       "        //console.log('receiving', msg['content']['data'], msg);\n",
       "        var data = msg['content']['data'];\n",
       "        if (data['blob'] !== undefined) {\n",
       "            data = {\n",
       "                data: new Blob(msg['buffers'], { type: data['blob'] }),\n",
       "            };\n",
       "        }\n",
       "        // Pass the mpl event to the overridden (by mpl) onmessage function.\n",
       "        ws.onmessage(data);\n",
       "    });\n",
       "    return ws;\n",
       "};\n",
       "\n",
       "mpl.mpl_figure_comm = function (comm, msg) {\n",
       "    // This is the function which gets called when the mpl process\n",
       "    // starts-up an IPython Comm through the \"matplotlib\" channel.\n",
       "\n",
       "    var id = msg.content.data.id;\n",
       "    // Get hold of the div created by the display call when the Comm\n",
       "    // socket was opened in Python.\n",
       "    var element = document.getElementById(id);\n",
       "    var ws_proxy = comm_websocket_adapter(comm);\n",
       "\n",
       "    function ondownload(figure, _format) {\n",
       "        window.open(figure.canvas.toDataURL());\n",
       "    }\n",
       "\n",
       "    var fig = new mpl.figure(id, ws_proxy, ondownload, element);\n",
       "\n",
       "    // Call onopen now - mpl needs it, as it is assuming we've passed it a real\n",
       "    // web socket which is closed, not our websocket->open comm proxy.\n",
       "    ws_proxy.onopen();\n",
       "\n",
       "    fig.parent_element = element;\n",
       "    fig.cell_info = mpl.find_output_cell(\"<div id='\" + id + \"'></div>\");\n",
       "    if (!fig.cell_info) {\n",
       "        console.error('Failed to find cell for figure', id, fig);\n",
       "        return;\n",
       "    }\n",
       "    fig.cell_info[0].output_area.element.on(\n",
       "        'cleared',\n",
       "        { fig: fig },\n",
       "        fig._remove_fig_handler\n",
       "    );\n",
       "};\n",
       "\n",
       "mpl.figure.prototype.handle_close = function (fig, msg) {\n",
       "    var width = fig.canvas.width / fig.ratio;\n",
       "    fig.cell_info[0].output_area.element.off(\n",
       "        'cleared',\n",
       "        fig._remove_fig_handler\n",
       "    );\n",
       "    fig.resizeObserverInstance.unobserve(fig.canvas_div);\n",
       "\n",
       "    // Update the output cell to use the data from the current canvas.\n",
       "    fig.push_to_output();\n",
       "    var dataURL = fig.canvas.toDataURL();\n",
       "    // Re-enable the keyboard manager in IPython - without this line, in FF,\n",
       "    // the notebook keyboard shortcuts fail.\n",
       "    IPython.keyboard_manager.enable();\n",
       "    fig.parent_element.innerHTML =\n",
       "        '<img src=\"' + dataURL + '\" width=\"' + width + '\">';\n",
       "    fig.close_ws(fig, msg);\n",
       "};\n",
       "\n",
       "mpl.figure.prototype.close_ws = function (fig, msg) {\n",
       "    fig.send_message('closing', msg);\n",
       "    // fig.ws.close()\n",
       "};\n",
       "\n",
       "mpl.figure.prototype.push_to_output = function (_remove_interactive) {\n",
       "    // Turn the data on the canvas into data in the output cell.\n",
       "    var width = this.canvas.width / this.ratio;\n",
       "    var dataURL = this.canvas.toDataURL();\n",
       "    this.cell_info[1]['text/html'] =\n",
       "        '<img src=\"' + dataURL + '\" width=\"' + width + '\">';\n",
       "};\n",
       "\n",
       "mpl.figure.prototype.updated_canvas_event = function () {\n",
       "    // Tell IPython that the notebook contents must change.\n",
       "    IPython.notebook.set_dirty(true);\n",
       "    this.send_message('ack', {});\n",
       "    var fig = this;\n",
       "    // Wait a second, then push the new image to the DOM so\n",
       "    // that it is saved nicely (might be nice to debounce this).\n",
       "    setTimeout(function () {\n",
       "        fig.push_to_output();\n",
       "    }, 1000);\n",
       "};\n",
       "\n",
       "mpl.figure.prototype._init_toolbar = function () {\n",
       "    var fig = this;\n",
       "\n",
       "    var toolbar = document.createElement('div');\n",
       "    toolbar.classList = 'btn-toolbar';\n",
       "    this.root.appendChild(toolbar);\n",
       "\n",
       "    function on_click_closure(name) {\n",
       "        return function (_event) {\n",
       "            return fig.toolbar_button_onclick(name);\n",
       "        };\n",
       "    }\n",
       "\n",
       "    function on_mouseover_closure(tooltip) {\n",
       "        return function (event) {\n",
       "            if (!event.currentTarget.disabled) {\n",
       "                return fig.toolbar_button_onmouseover(tooltip);\n",
       "            }\n",
       "        };\n",
       "    }\n",
       "\n",
       "    fig.buttons = {};\n",
       "    var buttonGroup = document.createElement('div');\n",
       "    buttonGroup.classList = 'btn-group';\n",
       "    var button;\n",
       "    for (var toolbar_ind in mpl.toolbar_items) {\n",
       "        var name = mpl.toolbar_items[toolbar_ind][0];\n",
       "        var tooltip = mpl.toolbar_items[toolbar_ind][1];\n",
       "        var image = mpl.toolbar_items[toolbar_ind][2];\n",
       "        var method_name = mpl.toolbar_items[toolbar_ind][3];\n",
       "\n",
       "        if (!name) {\n",
       "            /* Instead of a spacer, we start a new button group. */\n",
       "            if (buttonGroup.hasChildNodes()) {\n",
       "                toolbar.appendChild(buttonGroup);\n",
       "            }\n",
       "            buttonGroup = document.createElement('div');\n",
       "            buttonGroup.classList = 'btn-group';\n",
       "            continue;\n",
       "        }\n",
       "\n",
       "        button = fig.buttons[name] = document.createElement('button');\n",
       "        button.classList = 'btn btn-default';\n",
       "        button.href = '#';\n",
       "        button.title = name;\n",
       "        button.innerHTML = '<i class=\"fa ' + image + ' fa-lg\"></i>';\n",
       "        button.addEventListener('click', on_click_closure(method_name));\n",
       "        button.addEventListener('mouseover', on_mouseover_closure(tooltip));\n",
       "        buttonGroup.appendChild(button);\n",
       "    }\n",
       "\n",
       "    if (buttonGroup.hasChildNodes()) {\n",
       "        toolbar.appendChild(buttonGroup);\n",
       "    }\n",
       "\n",
       "    // Add the status bar.\n",
       "    var status_bar = document.createElement('span');\n",
       "    status_bar.classList = 'mpl-message pull-right';\n",
       "    toolbar.appendChild(status_bar);\n",
       "    this.message = status_bar;\n",
       "\n",
       "    // Add the close button to the window.\n",
       "    var buttongrp = document.createElement('div');\n",
       "    buttongrp.classList = 'btn-group inline pull-right';\n",
       "    button = document.createElement('button');\n",
       "    button.classList = 'btn btn-mini btn-primary';\n",
       "    button.href = '#';\n",
       "    button.title = 'Stop Interaction';\n",
       "    button.innerHTML = '<i class=\"fa fa-power-off icon-remove icon-large\"></i>';\n",
       "    button.addEventListener('click', function (_evt) {\n",
       "        fig.handle_close(fig, {});\n",
       "    });\n",
       "    button.addEventListener(\n",
       "        'mouseover',\n",
       "        on_mouseover_closure('Stop Interaction')\n",
       "    );\n",
       "    buttongrp.appendChild(button);\n",
       "    var titlebar = this.root.querySelector('.ui-dialog-titlebar');\n",
       "    titlebar.insertBefore(buttongrp, titlebar.firstChild);\n",
       "};\n",
       "\n",
       "mpl.figure.prototype._remove_fig_handler = function (event) {\n",
       "    var fig = event.data.fig;\n",
       "    if (event.target !== this) {\n",
       "        // Ignore bubbled events from children.\n",
       "        return;\n",
       "    }\n",
       "    fig.close_ws(fig, {});\n",
       "};\n",
       "\n",
       "mpl.figure.prototype._root_extra_style = function (el) {\n",
       "    el.style.boxSizing = 'content-box'; // override notebook setting of border-box.\n",
       "};\n",
       "\n",
       "mpl.figure.prototype._canvas_extra_style = function (el) {\n",
       "    // this is important to make the div 'focusable\n",
       "    el.setAttribute('tabindex', 0);\n",
       "    // reach out to IPython and tell the keyboard manager to turn it's self\n",
       "    // off when our div gets focus\n",
       "\n",
       "    // location in version 3\n",
       "    if (IPython.notebook.keyboard_manager) {\n",
       "        IPython.notebook.keyboard_manager.register_events(el);\n",
       "    } else {\n",
       "        // location in version 2\n",
       "        IPython.keyboard_manager.register_events(el);\n",
       "    }\n",
       "};\n",
       "\n",
       "mpl.figure.prototype._key_event_extra = function (event, _name) {\n",
       "    // Check for shift+enter\n",
       "    if (event.shiftKey && event.which === 13) {\n",
       "        this.canvas_div.blur();\n",
       "        // select the cell after this one\n",
       "        var index = IPython.notebook.find_cell_index(this.cell_info[0]);\n",
       "        IPython.notebook.select(index + 1);\n",
       "    }\n",
       "};\n",
       "\n",
       "mpl.figure.prototype.handle_save = function (fig, _msg) {\n",
       "    fig.ondownload(fig, null);\n",
       "};\n",
       "\n",
       "mpl.find_output_cell = function (html_output) {\n",
       "    // Return the cell and output element which can be found *uniquely* in the notebook.\n",
       "    // Note - this is a bit hacky, but it is done because the \"notebook_saving.Notebook\"\n",
       "    // IPython event is triggered only after the cells have been serialised, which for\n",
       "    // our purposes (turning an active figure into a static one), is too late.\n",
       "    var cells = IPython.notebook.get_cells();\n",
       "    var ncells = cells.length;\n",
       "    for (var i = 0; i < ncells; i++) {\n",
       "        var cell = cells[i];\n",
       "        if (cell.cell_type === 'code') {\n",
       "            for (var j = 0; j < cell.output_area.outputs.length; j++) {\n",
       "                var data = cell.output_area.outputs[j];\n",
       "                if (data.data) {\n",
       "                    // IPython >= 3 moved mimebundle to data attribute of output\n",
       "                    data = data.data;\n",
       "                }\n",
       "                if (data['text/html'] === html_output) {\n",
       "                    return [cell, data, j];\n",
       "                }\n",
       "            }\n",
       "        }\n",
       "    }\n",
       "};\n",
       "\n",
       "// Register the function which deals with the matplotlib target/channel.\n",
       "// The kernel may be null if the page has been refreshed.\n",
       "if (IPython.notebook.kernel !== null) {\n",
       "    IPython.notebook.kernel.comm_manager.register_target(\n",
       "        'matplotlib',\n",
       "        mpl.mpl_figure_comm\n",
       "    );\n",
       "}\n"
      ],
      "text/plain": [
       "<IPython.core.display.Javascript object>"
      ]
     },
     "metadata": {},
     "output_type": "display_data"
    },
    {
     "data": {
      "text/html": [
       "<img src=\"data:image/png;base64,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\" width=\"639.7305736541745\">"
      ],
      "text/plain": [
       "<IPython.core.display.HTML object>"
      ]
     },
     "metadata": {},
     "output_type": "display_data"
    }
   ],
   "source": [
    "cat_val = ['toxic', 'severe_toxic', 'obscene', 'threat',\n",
    "       'insult', 'identity_hate']\n",
    "for c in cat_val:\n",
    "  sns.countplot(x=c,data= df)\n",
    "  plt.title(c)\n",
    "  plt.show()"
   ]
  },
  {
   "cell_type": "code",
   "execution_count": 26,
   "metadata": {},
   "outputs": [],
   "source": [
    "import nltk\n",
    "nltk.data.path.append('path_to_extracted_data_directory')"
   ]
  },
  {
   "cell_type": "code",
   "execution_count": 27,
   "metadata": {
    "id": "M_PObwLpE9Rc"
   },
   "outputs": [],
   "source": [
    "import nltk\n",
    "import re\n",
    "from nltk.corpus import stopwords"
   ]
  },
  {
   "cell_type": "code",
   "execution_count": 29,
   "metadata": {},
   "outputs": [
    {
     "name": "stdout",
     "output_type": "stream",
     "text": [
      "Requirement already satisfied: nltk in c:\\users\\ygred\\anaconda3\\lib\\site-packages (3.7)\n",
      "Requirement already satisfied: regex>=2021.8.3 in c:\\users\\ygred\\anaconda3\\lib\\site-packages (from nltk) (2022.7.9)\n",
      "Requirement already satisfied: click in c:\\users\\ygred\\anaconda3\\lib\\site-packages (from nltk) (8.0.4)\n",
      "Requirement already satisfied: tqdm in c:\\users\\ygred\\anaconda3\\lib\\site-packages (from nltk) (4.64.1)\n",
      "Requirement already satisfied: joblib in c:\\users\\ygred\\anaconda3\\lib\\site-packages (from nltk) (1.1.0)\n",
      "Requirement already satisfied: colorama in c:\\users\\ygred\\anaconda3\\lib\\site-packages (from click->nltk) (0.4.6)\n"
     ]
    }
   ],
   "source": [
    "!pip install nltk"
   ]
  },
  {
   "cell_type": "code",
   "execution_count": 51,
   "metadata": {
    "colab": {
     "base_uri": "https://localhost:8080/"
    },
    "id": "yuN-H6fvFJcS",
    "outputId": "c704dcef-4f0e-497e-dc91-589ab9081370"
   },
   "outputs": [],
   "source": [
    "#nltk.download('stopwords')"
   ]
  },
  {
   "cell_type": "code",
   "execution_count": 36,
   "metadata": {
    "colab": {
     "base_uri": "https://localhost:8080/"
    },
    "id": "-NllAWuoFODT",
    "outputId": "8e8672da-b717-4006-98c9-8e2e080068bc"
   },
   "outputs": [
    {
     "data": {
      "text/plain": [
       "<WordListCorpusReader in 'C:\\\\Users\\\\ygred\\\\AppData\\\\Roaming\\\\nltk_data\\\\corpora\\\\stopwords'>"
      ]
     },
     "execution_count": 36,
     "metadata": {},
     "output_type": "execute_result"
    }
   ],
   "source": [
    "stopwords"
   ]
  },
  {
   "cell_type": "code",
   "execution_count": 8,
   "metadata": {
    "id": "dSPcEIF3FRJy"
   },
   "outputs": [],
   "source": [
    "import re\n",
    "stopwords = [\"the\", \"and\", \"is\", \"on\", \"in\", \"if\", \"for\", \"a\", \"an\", \"of\", \"or\", \"to\", \"it\", \"you\", \"your\"]"
   ]
  },
  {
   "cell_type": "code",
   "execution_count": 9,
   "metadata": {
    "id": "n5FPLeNCFVOS"
   },
   "outputs": [],
   "source": [
    "def clean_text(text):\n",
    "    # Remove HTML tags\n",
    "    text = re.sub(r'<[^>]+>', '', text)\n",
    "\n",
    "    # Remove web links\n",
    "    text = re.sub(r'http\\S+|www\\S+|https\\S+', '', text)\n",
    "\n",
    "    # Remove special characters, punctuation marks, and newlines\n",
    "    text = re.sub(r'[^a-zA-Z\\s]', '', text)\n",
    "\n",
    "    # Remove extra white spaces\n",
    "    text = re.sub(r'\\s+', ' ', text)\n",
    "\n",
    "    # Remove stopwords\n",
    "    text = ' '.join(word for word in text.split() if word.lower() not in stopwords)\n",
    "\n",
    "    return text.lower()"
   ]
  },
  {
   "cell_type": "code",
   "execution_count": 33,
   "metadata": {
    "colab": {
     "base_uri": "https://localhost:8080/"
    },
    "id": "RR5btxglFZF1",
    "outputId": "58a43560-3bd3-4cf2-9129-63e488eda601"
   },
   "outputs": [
    {
     "name": "stdout",
     "output_type": "stream",
     "text": [
      "['more i cant make any real suggestions improvement i wondered section statistics should be later subsect ion types accidents i think references may need tidying so that they are all exact same format ie date format etc i can do that later noone else does first have any preferences formatting style references want do yourself please let me know there appears be backlog articles review so i guess there may be delay until reviewer turns up its listed relevant form eg wikipediagoodarticlenominationstransport']\n"
     ]
    }
   ],
   "source": [
    "texts = [\n",
    "    \"\\nMore\\nI can't make any       real sugges%%%%%tions on improvement - I wondered if the section statistics should b|e later on, or a subsect\\nion of 'types of accidents'  -I think the references may need tidying so that they are all in the exact same format ie date format etc I can do that later on, if no-one else does first - if you have any preferences for formatting style on references or want to do it yourself please let me know.\\n\\nThere appears to be a backlog on articles for review so I guess there may be a delay until a reviewer turns up. It's listed in the relevant form eg Wikipedia:Good_article_nominations#Transport\"\n",
    "]\n",
    "cleaned_texts = [clean_text(text) for text in texts]\n",
    "print(cleaned_texts)"
   ]
  },
  {
   "cell_type": "code",
   "execution_count": 10,
   "metadata": {
    "colab": {
     "base_uri": "https://localhost:8080/"
    },
    "id": "CNZ2DjsTFe77",
    "outputId": "7ca2c6c3-8cad-4b38-9f50-bd81112e67a7",
    "scrolled": true
   },
   "outputs": [
    {
     "data": {
      "text/plain": [
       "0    explanation why edits made under my username h...\n",
       "1    daww he matches this background colour im seem...\n",
       "2    hey man im really not trying edit war its just...\n",
       "3    more i cant make any real suggestions improvem...\n",
       "4    sir are my hero any chance remember what page ...\n",
       "Name: comment_text, dtype: object"
      ]
     },
     "execution_count": 10,
     "metadata": {},
     "output_type": "execute_result"
    }
   ],
   "source": [
    "df['comment_text'] = df['comment_text'].apply(clean_text)\n",
    "df['comment_text'].head()"
   ]
  },
  {
   "cell_type": "code",
   "execution_count": 11,
   "metadata": {
    "colab": {
     "base_uri": "https://localhost:8080/",
     "height": 434
    },
    "id": "DzBQdrRnGwYT",
    "outputId": "2a09f583-4402-445a-a6c1-268750cb066c"
   },
   "outputs": [
    {
     "data": {
      "text/html": [
       "<div>\n",
       "<style scoped>\n",
       "    .dataframe tbody tr th:only-of-type {\n",
       "        vertical-align: middle;\n",
       "    }\n",
       "\n",
       "    .dataframe tbody tr th {\n",
       "        vertical-align: top;\n",
       "    }\n",
       "\n",
       "    .dataframe thead th {\n",
       "        text-align: right;\n",
       "    }\n",
       "</style>\n",
       "<table border=\"1\" class=\"dataframe\">\n",
       "  <thead>\n",
       "    <tr style=\"text-align: right;\">\n",
       "      <th></th>\n",
       "      <th>id</th>\n",
       "      <th>comment_text</th>\n",
       "      <th>toxic</th>\n",
       "      <th>severe_toxic</th>\n",
       "      <th>obscene</th>\n",
       "      <th>threat</th>\n",
       "      <th>insult</th>\n",
       "      <th>identity_hate</th>\n",
       "    </tr>\n",
       "  </thead>\n",
       "  <tbody>\n",
       "    <tr>\n",
       "      <th>0</th>\n",
       "      <td>0000997932d777bf</td>\n",
       "      <td>explanation why edits made under my username h...</td>\n",
       "      <td>0</td>\n",
       "      <td>0</td>\n",
       "      <td>0</td>\n",
       "      <td>0</td>\n",
       "      <td>0</td>\n",
       "      <td>0</td>\n",
       "    </tr>\n",
       "    <tr>\n",
       "      <th>1</th>\n",
       "      <td>000103f0d9cfb60f</td>\n",
       "      <td>daww he matches this background colour im seem...</td>\n",
       "      <td>0</td>\n",
       "      <td>0</td>\n",
       "      <td>0</td>\n",
       "      <td>0</td>\n",
       "      <td>0</td>\n",
       "      <td>0</td>\n",
       "    </tr>\n",
       "    <tr>\n",
       "      <th>2</th>\n",
       "      <td>000113f07ec002fd</td>\n",
       "      <td>hey man im really not trying edit war its just...</td>\n",
       "      <td>0</td>\n",
       "      <td>0</td>\n",
       "      <td>0</td>\n",
       "      <td>0</td>\n",
       "      <td>0</td>\n",
       "      <td>0</td>\n",
       "    </tr>\n",
       "    <tr>\n",
       "      <th>3</th>\n",
       "      <td>0001b41b1c6bb37e</td>\n",
       "      <td>more i cant make any real suggestions improvem...</td>\n",
       "      <td>0</td>\n",
       "      <td>0</td>\n",
       "      <td>0</td>\n",
       "      <td>0</td>\n",
       "      <td>0</td>\n",
       "      <td>0</td>\n",
       "    </tr>\n",
       "    <tr>\n",
       "      <th>4</th>\n",
       "      <td>0001d958c54c6e35</td>\n",
       "      <td>sir are my hero any chance remember what page ...</td>\n",
       "      <td>0</td>\n",
       "      <td>0</td>\n",
       "      <td>0</td>\n",
       "      <td>0</td>\n",
       "      <td>0</td>\n",
       "      <td>0</td>\n",
       "    </tr>\n",
       "  </tbody>\n",
       "</table>\n",
       "</div>"
      ],
      "text/plain": [
       "                 id                                       comment_text  toxic  \\\n",
       "0  0000997932d777bf  explanation why edits made under my username h...      0   \n",
       "1  000103f0d9cfb60f  daww he matches this background colour im seem...      0   \n",
       "2  000113f07ec002fd  hey man im really not trying edit war its just...      0   \n",
       "3  0001b41b1c6bb37e  more i cant make any real suggestions improvem...      0   \n",
       "4  0001d958c54c6e35  sir are my hero any chance remember what page ...      0   \n",
       "\n",
       "   severe_toxic  obscene  threat  insult  identity_hate  \n",
       "0             0        0       0       0              0  \n",
       "1             0        0       0       0              0  \n",
       "2             0        0       0       0              0  \n",
       "3             0        0       0       0              0  \n",
       "4             0        0       0       0              0  "
      ]
     },
     "execution_count": 11,
     "metadata": {},
     "output_type": "execute_result"
    }
   ],
   "source": [
    "df.head()"
   ]
  },
  {
   "cell_type": "code",
   "execution_count": 73,
   "metadata": {
    "colab": {
     "base_uri": "https://localhost:8080/",
     "height": 35
    },
    "id": "NL7QZ35VHblv",
    "outputId": "a264746e-9cfc-4779-95dd-881b0e19e16b",
    "scrolled": true
   },
   "outputs": [
    {
     "data": {
      "text/plain": [
       "'hey man im really not trying edit war its just that this guy constantly removing relevant information talking me through edits instead my talk page he seems care more about formatting than actual info'"
      ]
     },
     "execution_count": 73,
     "metadata": {},
     "output_type": "execute_result"
    }
   ],
   "source": [
    "df.iloc[2]['comment_text']"
   ]
  },
  {
   "cell_type": "markdown",
   "metadata": {
    "id": "_jFmxMSJJQsF"
   },
   "source": [
    "#Data Visualization"
   ]
  },
  {
   "cell_type": "code",
   "execution_count": 36,
   "metadata": {
    "id": "6AbyrOi7I7Xh"
   },
   "outputs": [],
   "source": [
    "# Function to generate word cloud\n",
    "def generate_wordcloud(text,Title):\n",
    "    wordcloud = WordCloud(width=800, height=400,stopwords=set(STOPWORDS), background_color='black').generate(text)\n",
    "    plt.figure(figsize=(10, 5))\n",
    "    plt.imshow(wordcloud, interpolation='bilinear')\n",
    "    plt.axis(\"off\")\n",
    "    plt.title(Title)\n",
    "    plt.show()"
   ]
  },
  {
   "cell_type": "code",
   "execution_count": 37,
   "metadata": {
    "colab": {
     "base_uri": "https://localhost:8080/"
    },
    "id": "vb3gXP2NJoVN",
    "outputId": "9549833b-8aba-4485-ddc6-03c78facf186",
    "scrolled": true
   },
   "outputs": [
    {
     "data": {
      "text/plain": [
       "[]"
      ]
     },
     "execution_count": 37,
     "metadata": {},
     "output_type": "execute_result"
    }
   ],
   "source": [
    "target_labels= [col for col in df.columns if df[col].dtypes == 'int64']\n",
    "target_labels"
   ]
  },
  {
   "cell_type": "markdown",
   "metadata": {
    "id": "COd-_DQWJxVo"
   },
   "source": [
    "#Visualizing the Category of Dataset"
   ]
  },
  {
   "cell_type": "code",
   "execution_count": 76,
   "metadata": {
    "colab": {
     "base_uri": "https://localhost:8080/",
     "height": 1000
    },
    "id": "MMCyE52mPunk",
    "outputId": "ce117d29-fb7b-4a64-e3c0-24bd6fe2f95b"
   },
   "outputs": [
    {
     "data": {
      "image/png": "[encoded data removed]",
      "text/plain": [
       "<Figure size 640x480 with 1 Axes>"
      ]
     },
     "metadata": {},
     "output_type": "display_data"
    },
    {
     "data": {
      "image/png": "[encoded data removed]",
      "text/plain": [
       "<Figure size 640x480 with 1 Axes>"
      ]
     },
     "metadata": {},
     "output_type": "display_data"
    },
    {
     "data": {
      "image/png": "[encoded data removed]",
      "text/plain": [
       "<Figure size 640x480 with 1 Axes>"
      ]
     },
     "metadata": {},
     "output_type": "display_data"
    },
    {
     "data": {
      "image/png": "[encoded data removed]",
      "text/plain": [
       "<Figure size 640x480 with 1 Axes>"
      ]
     },
     "metadata": {},
     "output_type": "display_data"
    },
    {
     "data": {
      "image/png": "[encoded data removed]",
      "text/plain": [
       "<Figure size 640x480 with 1 Axes>"
      ]
     },
     "metadata": {},
     "output_type": "display_data"
    },
    {
     "data": {
      "image/png": "[encoded data removed]",
      "text/plain": [
       "<Figure size 640x480 with 1 Axes>"
      ]
     },
     "metadata": {},
     "output_type": "display_data"
    }
   ],
   "source": [
    "cat_val = ['toxic', 'severe_toxic', 'obscene', 'threat',\n",
    "       'insult', 'identity_hate']\n",
    "for c in cat_val:\n",
    "  sns.countplot(x=c,data= df)\n",
    "  plt.title(c)\n",
    "  plt.show()"
   ]
  },
  {
   "cell_type": "code",
   "execution_count": 82,
   "metadata": {},
   "outputs": [
    {
     "name": "stdout",
     "output_type": "stream",
     "text": [
      "Collecting wordcloud\n",
      "  Downloading wordcloud-1.9.2-cp39-cp39-win_amd64.whl (153 kB)\n",
      "     -------------------------------------- 153.3/153.3 kB 1.3 MB/s eta 0:00:00\n",
      "Requirement already satisfied: matplotlib in c:\\users\\ygred\\anaconda3\\lib\\site-packages (from wordcloud) (3.5.2)\n",
      "Requirement already satisfied: numpy>=1.6.1 in c:\\users\\ygred\\anaconda3\\lib\\site-packages (from wordcloud) (1.24.3)\n",
      "Requirement already satisfied: pillow in c:\\users\\ygred\\anaconda3\\lib\\site-packages (from wordcloud) (9.2.0)\n",
      "Requirement already satisfied: python-dateutil>=2.7 in c:\\users\\ygred\\anaconda3\\lib\\site-packages (from matplotlib->wordcloud) (2.8.2)\n",
      "Requirement already satisfied: cycler>=0.10 in c:\\users\\ygred\\anaconda3\\lib\\site-packages (from matplotlib->wordcloud) (0.11.0)\n",
      "Requirement already satisfied: kiwisolver>=1.0.1 in c:\\users\\ygred\\anaconda3\\lib\\site-packages (from matplotlib->wordcloud) (1.4.2)\n",
      "Requirement already satisfied: pyparsing>=2.2.1 in c:\\users\\ygred\\anaconda3\\lib\\site-packages (from matplotlib->wordcloud) (3.0.9)\n",
      "Requirement already satisfied: fonttools>=4.22.0 in c:\\users\\ygred\\anaconda3\\lib\\site-packages (from matplotlib->wordcloud) (4.25.0)\n",
      "Requirement already satisfied: packaging>=20.0 in c:\\users\\ygred\\anaconda3\\lib\\site-packages (from matplotlib->wordcloud) (21.3)\n",
      "Requirement already satisfied: six>=1.5 in c:\\users\\ygred\\anaconda3\\lib\\site-packages (from python-dateutil>=2.7->matplotlib->wordcloud) (1.16.0)\n",
      "Installing collected packages: wordcloud\n",
      "Successfully installed wordcloud-1.9.2\n"
     ]
    }
   ],
   "source": [
    "!pip install wordcloud"
   ]
  },
  {
   "cell_type": "code",
   "execution_count": 83,
   "metadata": {
    "id": "SBxQ5I8lJtlM"
   },
   "outputs": [],
   "source": [
    "from wordcloud import WordCloud, STOPWORDS"
   ]
  },
  {
   "cell_type": "code",
   "execution_count": 84,
   "metadata": {
    "colab": {
     "base_uri": "https://localhost:8080/"
    },
    "id": "mG7azZpZJ2BY",
    "outputId": "863d5525-ef6c-4770-d0a0-711395dcda75"
   },
   "outputs": [
    {
     "data": {
      "text/plain": [
       "count                                             15279\n",
       "unique                                            15158\n",
       "top       graceful slick non other than ungraceful dick\n",
       "freq                                                  8\n",
       "Name: comment_text, dtype: object"
      ]
     },
     "execution_count": 84,
     "metadata": {},
     "output_type": "execute_result"
    }
   ],
   "source": [
    "df[df['toxic'] == 1]['comment_text'].describe()"
   ]
  },
  {
   "cell_type": "code",
   "execution_count": 85,
   "metadata": {
    "colab": {
     "base_uri": "https://localhost:8080/"
    },
    "id": "4gjwe718KuR5",
    "outputId": "6cd92b66-d44a-4f06-b05b-dcd4f3f3592e"
   },
   "outputs": [
    {
     "data": {
      "text/plain": [
       "count                  1595\n",
       "unique                 1592\n",
       "top       fuck off fuck off\n",
       "freq                      2\n",
       "Name: comment_text, dtype: object"
      ]
     },
     "execution_count": 85,
     "metadata": {},
     "output_type": "execute_result"
    }
   ],
   "source": [
    "df[df['severe_toxic'] == 1]['comment_text'].describe()"
   ]
  },
  {
   "cell_type": "code",
   "execution_count": 86,
   "metadata": {
    "colab": {
     "base_uri": "https://localhost:8080/"
    },
    "id": "X65JP0UfK3pB",
    "outputId": "be6dfcca-fded-4ea5-ed84-9c838e9ccf82"
   },
   "outputs": [
    {
     "data": {
      "text/plain": [
       "count                                              8441\n",
       "unique                                             8380\n",
       "top       graceful slick non other than ungraceful dick\n",
       "freq                                                  5\n",
       "Name: comment_text, dtype: object"
      ]
     },
     "execution_count": 86,
     "metadata": {},
     "output_type": "execute_result"
    }
   ],
   "source": [
    "df[df['obscene'] == 1]['comment_text'].describe()"
   ]
  },
  {
   "cell_type": "code",
   "execution_count": 87,
   "metadata": {
    "colab": {
     "base_uri": "https://localhost:8080/"
    },
    "id": "-BlNBUudLGML",
    "outputId": "f3d1e856-9b5b-4412-fc7d-e2e8b2ddea04"
   },
   "outputs": [
    {
     "data": {
      "text/plain": [
       "count                                  478\n",
       "unique                                 470\n",
       "top       i will ki ll wear skin like robe\n",
       "freq                                     2\n",
       "Name: comment_text, dtype: object"
      ]
     },
     "execution_count": 87,
     "metadata": {},
     "output_type": "execute_result"
    }
   ],
   "source": [
    "df[df['threat'] == 1]['comment_text'].describe()"
   ]
  },
  {
   "cell_type": "code",
   "execution_count": 88,
   "metadata": {
    "colab": {
     "base_uri": "https://localhost:8080/"
    },
    "id": "goFwDOa4LLuo",
    "outputId": "eb580332-42d4-4cf9-8262-e3f5ae0cf7be"
   },
   "outputs": [
    {
     "data": {
      "text/plain": [
       "count                                              7872\n",
       "unique                                             7826\n",
       "top       graceful slick non other than ungraceful dick\n",
       "freq                                                  4\n",
       "Name: comment_text, dtype: object"
      ]
     },
     "execution_count": 88,
     "metadata": {},
     "output_type": "execute_result"
    }
   ],
   "source": [
    "df[df['insult'] == 1]['comment_text'].describe()"
   ]
  },
  {
   "cell_type": "code",
   "execution_count": 89,
   "metadata": {
    "colab": {
     "base_uri": "https://localhost:8080/"
    },
    "id": "GnQwHJRqLRl3",
    "outputId": "e97f6c22-2b9d-4ec0-9696-0a0d5d07e36c"
   },
   "outputs": [
    {
     "data": {
      "text/plain": [
       "count                    1404\n",
       "unique                   1395\n",
       "top       userabd muslim scum\n",
       "freq                        3\n",
       "Name: comment_text, dtype: object"
      ]
     },
     "execution_count": 89,
     "metadata": {},
     "output_type": "execute_result"
    }
   ],
   "source": [
    "df[df['identity_hate'] == 1]['comment_text'].describe()"
   ]
  },
  {
   "cell_type": "code",
   "execution_count": 90,
   "metadata": {
    "colab": {
     "base_uri": "https://localhost:8080/"
    },
    "id": "FJ-FSgGeNeHN",
    "outputId": "5ceb83b5-a6aa-4804-f81d-facb6346c4ec"
   },
   "outputs": [
    {
     "data": {
      "text/plain": [
       "count     143587\n",
       "unique    142380\n",
       "top             \n",
       "freq          82\n",
       "Name: comment_text, dtype: object"
      ]
     },
     "execution_count": 90,
     "metadata": {},
     "output_type": "execute_result"
    }
   ],
   "source": [
    "df[df['toxic'] == 0]['comment_text'].describe()"
   ]
  },
  {
   "cell_type": "code",
   "execution_count": 91,
   "metadata": {
    "colab": {
     "base_uri": "https://localhost:8080/"
    },
    "id": "Xregd54tNj3X",
    "outputId": "b654f754-da40-45ac-ad8d-2d001ce16e26"
   },
   "outputs": [
    {
     "data": {
      "text/plain": [
       "count     157271\n",
       "unique    155934\n",
       "top             \n",
       "freq          82\n",
       "Name: comment_text, dtype: object"
      ]
     },
     "execution_count": 91,
     "metadata": {},
     "output_type": "execute_result"
    }
   ],
   "source": [
    "df[df['severe_toxic'] == 0]['comment_text'].describe()"
   ]
  },
  {
   "cell_type": "code",
   "execution_count": 92,
   "metadata": {
    "colab": {
     "base_uri": "https://localhost:8080/"
    },
    "id": "OLIlAqEFMgtb",
    "outputId": "e64fb0f9-db09-4f14-f2de-79d0497f435a"
   },
   "outputs": [
    {
     "data": {
      "text/plain": [
       "0     explanation why edits made under my username h...\n",
       "1     daww he matches this background colour im seem...\n",
       "2     hey man im really not trying edit war its just...\n",
       "3     more i cant make any real suggestions improvem...\n",
       "4     sir are my hero any chance remember what page ...\n",
       "                            ...                        \n",
       "95             hi thanks our kind words see around talk\n",
       "96    collusion poker this regarded as most heinous ...\n",
       "97    thanks much however its been resolved why that...\n",
       "98    can do all youre doing right now but get usern...\n",
       "99    however moonlite edit noted by golden daph was...\n",
       "Name: comment_text, Length: 100, dtype: object"
      ]
     },
     "execution_count": 92,
     "metadata": {},
     "output_type": "execute_result"
    }
   ],
   "source": [
    "df['comment_text'].head(100)"
   ]
  },
  {
   "cell_type": "code",
   "execution_count": 100,
   "metadata": {
    "colab": {
     "base_uri": "https://localhost:8080/",
     "height": 1000
    },
    "id": "Dq6INJKKMyqk",
    "outputId": "2f0efe8d-fef4-49d1-ff5a-11868e8a98f6"
   },
   "outputs": [],
   "source": [
    "# Plot word clouds for each target label\n",
    "for label in target_labels:\n",
    "    text = ' '.join(df[df[label] == 1]['comment_text'].head(10000).values)\n",
    "    generate_wordcloud(text,Title=label)\n",
    "    plt.show()"
   ]
  },
  {
   "cell_type": "markdown",
   "metadata": {
    "id": "uoShb4FbM5H_"
   },
   "source": [
    "#Non Toxic Comment"
   ]
  },
  {
   "cell_type": "code",
   "execution_count": 94,
   "metadata": {
    "colab": {
     "base_uri": "https://localhost:8080/",
     "height": 1000
    },
    "id": "1t7T4Q-yM2Pg",
    "outputId": "dbfb50ef-1fc3-4d22-f66e-992f5259abc1"
   },
   "outputs": [],
   "source": [
    "# Plot word clouds for each target label\n",
    "for label in target_labels:\n",
    "    text = ' '.join(df[df[label] == 0]['comment_text'].head(10000).values)\n",
    "    generate_wordcloud(text,Title=label)"
   ]
  },
  {
   "cell_type": "code",
   "execution_count": null,
   "metadata": {
    "colab": {
     "base_uri": "https://localhost:8080/",
     "height": 530
    },
    "id": "pKY_WO16NEOr",
    "outputId": "ae33d166-9d56-4a56-8362-a9a12302be3b"
   },
   "outputs": [
    {
     "data": {
      "image/png": "[encoded data removed]",
      "text/plain": [
       "<Figure size 640x480 with 2 Axes>"
      ]
     },
     "metadata": {},
     "output_type": "display_data"
    }
   ],
   "source": [
    "sns.heatmap(df.corr(),vmin =-1,vmax=1,annot=True,mask = np.triu(df.corr()))\n",
    "plt.title('correlation')\n",
    "plt.show()"
   ]
  },
  {
   "cell_type": "code",
   "execution_count": 159,
   "metadata": {
    "id": "GP91E8f3paow"
   },
   "outputs": [],
   "source": [
    "#df.to_csv('final.csv',index = False )"
   ]
  },
  {
   "cell_type": "code",
   "execution_count": 12,
   "metadata": {
    "id": "WwHK9hIiQVSc"
   },
   "outputs": [],
   "source": [
    "X = df['comment_text']\n",
    "y= df.drop(['id','comment_text'],axis=1)"
   ]
  },
  {
   "cell_type": "code",
   "execution_count": 13,
   "metadata": {
    "colab": {
     "base_uri": "https://localhost:8080/"
    },
    "id": "K3-N_56PRNtx",
    "outputId": "299e6bb5-37b6-4ffe-c52a-168052bc5341"
   },
   "outputs": [
    {
     "data": {
      "text/plain": [
       "0         explanation why edits made under my username h...\n",
       "1         daww he matches this background colour im seem...\n",
       "2         hey man im really not trying edit war its just...\n",
       "3         more i cant make any real suggestions improvem...\n",
       "4         sir are my hero any chance remember what page ...\n",
       "                                ...                        \n",
       "165930    second time asking when view completely contra...\n",
       "165931    should be ashamed yourself that horrible thing...\n",
       "165932    spitzer umm theres no actual article prostitut...\n",
       "165933    looks like was actually who put speedy have fi...\n",
       "165934    i really dont think understand i came here my ...\n",
       "Name: comment_text, Length: 158866, dtype: object"
      ]
     },
     "execution_count": 13,
     "metadata": {},
     "output_type": "execute_result"
    }
   ],
   "source": [
    "X"
   ]
  },
  {
   "cell_type": "code",
   "execution_count": 14,
   "metadata": {
    "colab": {
     "base_uri": "https://localhost:8080/",
     "height": 423
    },
    "id": "gL955gDrArWF",
    "outputId": "47dd2e31-9610-4478-8c42-b2104037da83"
   },
   "outputs": [
    {
     "data": {
      "text/html": [
       "<div>\n",
       "<style scoped>\n",
       "    .dataframe tbody tr th:only-of-type {\n",
       "        vertical-align: middle;\n",
       "    }\n",
       "\n",
       "    .dataframe tbody tr th {\n",
       "        vertical-align: top;\n",
       "    }\n",
       "\n",
       "    .dataframe thead th {\n",
       "        text-align: right;\n",
       "    }\n",
       "</style>\n",
       "<table border=\"1\" class=\"dataframe\">\n",
       "  <thead>\n",
       "    <tr style=\"text-align: right;\">\n",
       "      <th></th>\n",
       "      <th>toxic</th>\n",
       "      <th>severe_toxic</th>\n",
       "      <th>obscene</th>\n",
       "      <th>threat</th>\n",
       "      <th>insult</th>\n",
       "      <th>identity_hate</th>\n",
       "    </tr>\n",
       "  </thead>\n",
       "  <tbody>\n",
       "    <tr>\n",
       "      <th>0</th>\n",
       "      <td>0</td>\n",
       "      <td>0</td>\n",
       "      <td>0</td>\n",
       "      <td>0</td>\n",
       "      <td>0</td>\n",
       "      <td>0</td>\n",
       "    </tr>\n",
       "    <tr>\n",
       "      <th>1</th>\n",
       "      <td>0</td>\n",
       "      <td>0</td>\n",
       "      <td>0</td>\n",
       "      <td>0</td>\n",
       "      <td>0</td>\n",
       "      <td>0</td>\n",
       "    </tr>\n",
       "    <tr>\n",
       "      <th>2</th>\n",
       "      <td>0</td>\n",
       "      <td>0</td>\n",
       "      <td>0</td>\n",
       "      <td>0</td>\n",
       "      <td>0</td>\n",
       "      <td>0</td>\n",
       "    </tr>\n",
       "    <tr>\n",
       "      <th>3</th>\n",
       "      <td>0</td>\n",
       "      <td>0</td>\n",
       "      <td>0</td>\n",
       "      <td>0</td>\n",
       "      <td>0</td>\n",
       "      <td>0</td>\n",
       "    </tr>\n",
       "    <tr>\n",
       "      <th>4</th>\n",
       "      <td>0</td>\n",
       "      <td>0</td>\n",
       "      <td>0</td>\n",
       "      <td>0</td>\n",
       "      <td>0</td>\n",
       "      <td>0</td>\n",
       "    </tr>\n",
       "    <tr>\n",
       "      <th>...</th>\n",
       "      <td>...</td>\n",
       "      <td>...</td>\n",
       "      <td>...</td>\n",
       "      <td>...</td>\n",
       "      <td>...</td>\n",
       "      <td>...</td>\n",
       "    </tr>\n",
       "    <tr>\n",
       "      <th>165930</th>\n",
       "      <td>0</td>\n",
       "      <td>0</td>\n",
       "      <td>0</td>\n",
       "      <td>0</td>\n",
       "      <td>0</td>\n",
       "      <td>0</td>\n",
       "    </tr>\n",
       "    <tr>\n",
       "      <th>165931</th>\n",
       "      <td>0</td>\n",
       "      <td>0</td>\n",
       "      <td>0</td>\n",
       "      <td>0</td>\n",
       "      <td>0</td>\n",
       "      <td>0</td>\n",
       "    </tr>\n",
       "    <tr>\n",
       "      <th>165932</th>\n",
       "      <td>0</td>\n",
       "      <td>0</td>\n",
       "      <td>0</td>\n",
       "      <td>0</td>\n",
       "      <td>0</td>\n",
       "      <td>0</td>\n",
       "    </tr>\n",
       "    <tr>\n",
       "      <th>165933</th>\n",
       "      <td>0</td>\n",
       "      <td>0</td>\n",
       "      <td>0</td>\n",
       "      <td>0</td>\n",
       "      <td>0</td>\n",
       "      <td>0</td>\n",
       "    </tr>\n",
       "    <tr>\n",
       "      <th>165934</th>\n",
       "      <td>0</td>\n",
       "      <td>0</td>\n",
       "      <td>0</td>\n",
       "      <td>0</td>\n",
       "      <td>0</td>\n",
       "      <td>0</td>\n",
       "    </tr>\n",
       "  </tbody>\n",
       "</table>\n",
       "<p>158866 rows × 6 columns</p>\n",
       "</div>"
      ],
      "text/plain": [
       "        toxic  severe_toxic  obscene  threat  insult  identity_hate\n",
       "0           0             0        0       0       0              0\n",
       "1           0             0        0       0       0              0\n",
       "2           0             0        0       0       0              0\n",
       "3           0             0        0       0       0              0\n",
       "4           0             0        0       0       0              0\n",
       "...       ...           ...      ...     ...     ...            ...\n",
       "165930      0             0        0       0       0              0\n",
       "165931      0             0        0       0       0              0\n",
       "165932      0             0        0       0       0              0\n",
       "165933      0             0        0       0       0              0\n",
       "165934      0             0        0       0       0              0\n",
       "\n",
       "[158866 rows x 6 columns]"
      ]
     },
     "execution_count": 14,
     "metadata": {},
     "output_type": "execute_result"
    }
   ],
   "source": [
    "y"
   ]
  },
  {
   "cell_type": "code",
   "execution_count": 15,
   "metadata": {
    "colab": {
     "base_uri": "https://localhost:8080/"
    },
    "id": "GbeU7lN8QjU8",
    "outputId": "3a1ad375-f356-4b19-8bec-61a5f2a05993"
   },
   "outputs": [
    {
     "data": {
      "text/plain": [
       "(158866, 6)"
      ]
     },
     "execution_count": 15,
     "metadata": {},
     "output_type": "execute_result"
    }
   ],
   "source": [
    "y.shape"
   ]
  },
  {
   "cell_type": "code",
   "execution_count": 16,
   "metadata": {
    "id": "qNuD1fJ_pubM"
   },
   "outputs": [],
   "source": [
    "from sklearn.model_selection import train_test_split\n",
    "X_train, X_test, y_train, y_test = train_test_split(X,y,test_size = 0.33,random_state= 12)"
   ]
  },
  {
   "cell_type": "code",
   "execution_count": 48,
   "metadata": {
    "colab": {
     "base_uri": "https://localhost:8080/"
    },
    "id": "NbeVP1Xc3MMY",
    "outputId": "361d841c-60fe-4b28-bb8b-9a48dba87c8b"
   },
   "outputs": [
    {
     "data": {
      "text/plain": [
       "((106440,), (106440, 6))"
      ]
     },
     "execution_count": 48,
     "metadata": {},
     "output_type": "execute_result"
    }
   ],
   "source": [
    "X_train.shape,y_train.shape"
   ]
  },
  {
   "cell_type": "code",
   "execution_count": 17,
   "metadata": {
    "colab": {
     "base_uri": "https://localhost:8080/"
    },
    "id": "ENxVv36ogSLo",
    "outputId": "b27997b2-057a-4902-eb09-e14f4271b2c2"
   },
   "outputs": [
    {
     "name": "stdout",
     "output_type": "stream",
     "text": [
      "  (0, 0)\t1\n",
      "  (0, 1)\t1\n",
      "  (0, 2)\t1\n",
      "  (0, 5)\t1\n",
      "  (1, 3)\t1\n",
      "  (1, 4)\t1\n"
     ]
    }
   ],
   "source": [
    "from sklearn.feature_extraction.text import CountVectorizer\n",
    "data = ['the dog and  cat','madein over']\n",
    "\n",
    "# Create an instance of CountVectorizer\n",
    "vectorizer = CountVectorizer()\n",
    "\n",
    "# Fit and transform the documents into a bag-of-words representation\n",
    "vectorizer.fit_transform(data)\n",
    "\n",
    "# Get the feature names (words) in the vocabulary\n",
    "vectorizer.get_feature_names_out(data)\n",
    "\n",
    "counts = vectorizer.transform(data)\n",
    "print(counts)"
   ]
  },
  {
   "cell_type": "code",
   "execution_count": 18,
   "metadata": {
    "colab": {
     "base_uri": "https://localhost:8080/"
    },
    "id": "GWwp2cIl2SV3",
    "outputId": "89d3895b-fce8-44d8-c416-675331778343"
   },
   "outputs": [
    {
     "data": {
      "text/plain": [
       "(106440, 165458)"
      ]
     },
     "execution_count": 18,
     "metadata": {},
     "output_type": "execute_result"
    }
   ],
   "source": [
    "from sklearn.feature_extraction.text import CountVectorizer\n",
    "# Create an instance of CountVectorizer\n",
    "vectorizer = CountVectorizer()\n",
    "\n",
    "# Fit and transform the documents into a bag-of-words representation\n",
    "X_train_tf = vectorizer.fit_transform(X_train)\n",
    "X_test_processed = vectorizer.transform(X_test)\n",
    "X_train_tf.shape"
   ]
  },
  {
   "cell_type": "code",
   "execution_count": 19,
   "metadata": {
    "colab": {
     "base_uri": "https://localhost:8080/"
    },
    "id": "IduO5cw23pIt",
    "outputId": "765fbb35-4539-46d3-988d-41296bd3bbd3"
   },
   "outputs": [
    {
     "data": {
      "text/plain": [
       "(106440, 165458)"
      ]
     },
     "execution_count": 19,
     "metadata": {},
     "output_type": "execute_result"
    }
   ],
   "source": [
    "from sklearn.feature_extraction.text import TfidfTransformer\n",
    "tfid = TfidfTransformer()\n",
    "X_train_tfid = tfid.fit_transform(X_train_tf)\n",
    "X_train_tfid.shape"
   ]
  },
  {
   "cell_type": "code",
   "execution_count": 57,
   "metadata": {},
   "outputs": [],
   "source": [
    "scale_pos_weight = sum(y_train == 0) / sum(y_train == 1)"
   ]
  },
  {
   "cell_type": "code",
   "execution_count": 20,
   "metadata": {
    "colab": {
     "base_uri": "https://localhost:8080/"
    },
    "id": "DQ6c53Vq5Tyh",
    "outputId": "8e1ca966-9f9c-4be3-c2ed-401ddda7c607"
   },
   "outputs": [
    {
     "data": {
      "text/plain": [
       "(106440, 6)"
      ]
     },
     "execution_count": 20,
     "metadata": {},
     "output_type": "execute_result"
    }
   ],
   "source": [
    "y_train.shape"
   ]
  },
  {
   "cell_type": "code",
   "execution_count": 21,
   "metadata": {
    "id": "ZJHX2DUPEVkO"
   },
   "outputs": [],
   "source": [
    "from sklearn.linear_model import LogisticRegression\n",
    "from sklearn.ensemble import RandomForestClassifier\n",
    "from xgboost import XGBClassifier\n",
    "from sklearn.metrics import classification_report\n",
    "from sklearn.metrics import confusion_matrix\n",
    "from sklearn.metrics import accuracy_score"
   ]
  },
  {
   "cell_type": "code",
   "execution_count": 22,
   "metadata": {
    "colab": {
     "base_uri": "https://localhost:8080/",
     "height": 116
    },
    "id": "WV6WikM1BXP7",
    "outputId": "590d0e24-cd4c-4159-b1ba-01af86b8319a"
   },
   "outputs": [
    {
     "data": {
      "text/plain": [
       "MultiOutputClassifier(estimator=MultinomialNB())"
      ]
     },
     "execution_count": 22,
     "metadata": {},
     "output_type": "execute_result"
    }
   ],
   "source": [
    "from sklearn.multioutput import MultiOutputClassifier  # For multi-label classification\n",
    "from sklearn.multioutput import MultiOutputRegressor  # For multi-label regression\n",
    "from sklearn.naive_bayes import MultinomialNB\n",
    "\n",
    "# Create an instance of the MultinomialNB class\n",
    "mnb = MultinomialNB()\n",
    "\n",
    "clf = MultiOutputClassifier(mnb)  # Replace YourClassifier with the desired classifier\n",
    "clf.fit(X_train_tfid, y_train)\n"
   ]
  },
  {
   "cell_type": "code",
   "execution_count": 23,
   "metadata": {
    "id": "x6gjvK6eEtQp"
   },
   "outputs": [],
   "source": [
    "# Make predictions\n",
    "nb_prediction = clf.predict(X_test_processed)\n",
    "nb_pred = clf.predict(X_train_tfid)"
   ]
  },
  {
   "cell_type": "code",
   "execution_count": 24,
   "metadata": {
    "colab": {
     "base_uri": "https://localhost:8080/"
    },
    "id": "obG5hediGG40",
    "outputId": "1a67d34e-ed9b-4ced-98b5-7b46d4b9c64c",
    "scrolled": true
   },
   "outputs": [
    {
     "name": "stdout",
     "output_type": "stream",
     "text": [
      " Test Accuracy 90.13%\n",
      " Train Accuracy 89.95%\n",
      "              precision    recall  f1-score   support\n",
      "\n",
      "           0       0.21      0.97      0.34      1052\n",
      "           1       0.03      0.38      0.05        34\n",
      "           2       0.17      0.93      0.28       493\n",
      "           3       0.01      0.20      0.01         5\n",
      "           4       0.10      0.82      0.18       325\n",
      "           5       0.01      0.38      0.03        16\n",
      "\n",
      "   micro avg       0.15      0.92      0.27      1925\n",
      "   macro avg       0.09      0.61      0.15      1925\n",
      "weighted avg       0.17      0.92      0.29      1925\n",
      " samples avg       0.01      0.02      0.01      1925\n",
      "\n"
     ]
    }
   ],
   "source": [
    "print(\" Test Accuracy {0:.2f}%\".format(100*accuracy_score(nb_prediction,y_test)))\n",
    "print(\" Train Accuracy {0:.2f}%\".format(100*accuracy_score(nb_pred, y_train)))\n",
    "print(classification_report(nb_prediction,y_test))"
   ]
  },
  {
   "cell_type": "code",
   "execution_count": 60,
   "metadata": {},
   "outputs": [],
   "source": [
    "params = {\n",
    "    'scale_pos_weight': scale_pos_weight,}"
   ]
  },
  {
   "cell_type": "code",
   "execution_count": null,
   "metadata": {
    "colab": {
     "base_uri": "https://localhost:8080/",
     "height": 116
    },
    "id": "jwDnSp60Efp2",
    "outputId": "9824fd25-e6b0-4ad9-c6ec-390a597e62e8"
   },
   "outputs": [],
   "source": [
    "logreg_clf = LogisticRegression(random_state=42,class_weight = 'balanced')\n",
    "\n",
    "clf = MultiOutputClassifier(logreg_clf)  # Replace YourClassifier with the desired classifier\n",
    "clf.fit(X_train_tfid, y_train)"
   ]
  },
  {
   "cell_type": "code",
   "execution_count": 29,
   "metadata": {
    "id": "TC-X_9U5ItEd"
   },
   "outputs": [],
   "source": [
    "# Predicting Train and Test data\n",
    "log_prediction = clf.predict(X_test_processed)\n",
    "log_pred = clf.predict(X_train_tfid)"
   ]
  },
  {
   "cell_type": "code",
   "execution_count": 30,
   "metadata": {
    "colab": {
     "base_uri": "https://localhost:8080/"
    },
    "id": "PjqUcUPyCouM",
    "outputId": "46899334-77ed-496c-bb5b-b6b39b6c4ea3"
   },
   "outputs": [
    {
     "name": "stdout",
     "output_type": "stream",
     "text": [
      " Test Accuracy 75.63%\n",
      " Train Accuracy 91.14%\n",
      "              precision    recall  f1-score   support\n",
      "\n",
      "           0       0.90      0.45      0.60      9928\n",
      "           1       0.93      0.16      0.27      2979\n",
      "           2       0.94      0.39      0.55      6784\n",
      "           3       0.94      0.03      0.06      4503\n",
      "           4       0.93      0.32      0.48      7362\n",
      "           5       0.91      0.08      0.16      4874\n",
      "\n",
      "   micro avg       0.92      0.29      0.44     36430\n",
      "   macro avg       0.92      0.24      0.35     36430\n",
      "weighted avg       0.92      0.29      0.41     36430\n",
      " samples avg       0.09      0.05      0.06     36430\n",
      "\n"
     ]
    }
   ],
   "source": [
    "print(\" Test Accuracy {0:.2f}%\".format(100*accuracy_score(log_prediction,y_test)))\n",
    "print(\" Train Accuracy {0:.2f}%\".format(100*accuracy_score(log_pred, y_train)))\n",
    "print(classification_report(log_prediction,y_test))"
   ]
  },
  {
   "cell_type": "code",
   "execution_count": 111,
   "metadata": {
    "colab": {
     "base_uri": "https://localhost:8080/",
     "height": 116
    },
    "id": "ZLFq3vKLJSoZ",
    "outputId": "75738ee9-fed3-4dc6-e99d-464db2235c28"
   },
   "outputs": [],
   "source": [
    "#rf_clf = RandomForestClassifier()\n",
    "\n",
    "#clf = MultiOutputClassifier(rf_clf)  # Replace YourClassifier with the desired classifier\n",
    "#clf.fit(X_train_tfid, y_train)"
   ]
  },
  {
   "cell_type": "code",
   "execution_count": null,
   "metadata": {
    "id": "KlByOgW5Jbql"
   },
   "outputs": [],
   "source": [
    "# Predicting Train and Test data\n",
    "rf_prediction = clf.predict(X_test_processed)\n",
    "rf_pred = clf.predict(X_train_tfid)"
   ]
  },
  {
   "cell_type": "code",
   "execution_count": null,
   "metadata": {
    "colab": {
     "base_uri": "https://localhost:8080/"
    },
    "id": "yrzA_D32KLt4",
    "outputId": "96f49f13-33e0-40ac-8ac3-11d6ae01bf17"
   },
   "outputs": [],
   "source": [
    "print(\" Test Accuracy {0:.2f}%\".format(100*accuracy_score(rf_prediction,y_test)))\n",
    "print(\" Train Accuracy {0:.2f}%\".format(100*accuracy_score(rf_pred, y_train)))\n",
    "print(classification_report(rf_prediction,y_test))"
   ]
  },
  {
   "cell_type": "code",
   "execution_count": null,
   "metadata": {
    "colab": {
     "base_uri": "https://localhost:8080/",
     "height": 116
    },
    "id": "IxEYg7OGNB8g",
    "outputId": "bb6c6530-f228-45d3-feee-b5c58cb1dd3f"
   },
   "outputs": [],
   "source": [
    "xg_clf = XGBClassifier()\n",
    "\n",
    "clf = MultiOutputClassifier(xg_clf)  # Replace YourClassifier with the desired classifier\n",
    "clf.fit(X_train_tfid, y_train)\n"
   ]
  },
  {
   "cell_type": "markdown",
   "metadata": {
    "id": "tn99Uucu6EzS"
   },
   "source": [
    "####final decide model"
   ]
  },
  {
   "cell_type": "code",
   "execution_count": null,
   "metadata": {
    "id": "sAcClnHPNHIV"
   },
   "outputs": [],
   "source": [
    "# Predicting Train and Test data\n",
    "xg_prediction = clf.predict(X_test_processed)\n",
    "xg_pred = clf.predict(X_train_tfid)"
   ]
  },
  {
   "cell_type": "code",
   "execution_count": null,
   "metadata": {
    "colab": {
     "base_uri": "https://localhost:8080/"
    },
    "id": "2tV47eGqNJRL",
    "outputId": "a042b4bc-71a7-4808-b959-eff35fb9d051"
   },
   "outputs": [],
   "source": [
    "print(\" Test Accuracy {0:.2f}%\".format(100*accuracy_score(xg_prediction,y_test)))\n",
    "print(\" Train Accuracy {0:.2f}%\".format(100*accuracy_score(xg_pred, y_train)))\n",
    "print(classification_report(xg_prediction,y_test))"
   ]
  },
  {
   "cell_type": "markdown",
   "metadata": {
    "id": "oyanqEpMKpX8"
   },
   "source": [
    "##Deep Learning Model"
   ]
  },
  {
   "cell_type": "code",
   "execution_count": null,
   "metadata": {
    "id": "apDiZiQ-XMAy"
   },
   "outputs": [],
   "source": [
    "MAX_FEATURES = 5000 # number of words in the vocab"
   ]
  },
  {
   "cell_type": "code",
   "execution_count": null,
   "metadata": {
    "id": "wfqZE6WIX3X3"
   },
   "outputs": [],
   "source": [
    "from tensorflow.keras.layers import TextVectorization\n",
    "import tensorflow as tf"
   ]
  },
  {
   "cell_type": "code",
   "execution_count": null,
   "metadata": {
    "id": "ofg7R_vnXL9Q"
   },
   "outputs": [],
   "source": [
    "vectorizer = TextVectorization(max_tokens=MAX_FEATURES,\n",
    "                               output_sequence_length= 500,\n",
    "                               output_mode='int')"
   ]
  },
  {
   "cell_type": "code",
   "execution_count": null,
   "metadata": {
    "id": "bX801KMHXL6h"
   },
   "outputs": [],
   "source": [
    "vectorizer.adapt(X.values)"
   ]
  },
  {
   "cell_type": "code",
   "execution_count": null,
   "metadata": {
    "id": "4bmALd7QXL3o"
   },
   "outputs": [],
   "source": [
    "vectorized_text = vectorizer(X.values)"
   ]
  },
  {
   "cell_type": "code",
   "execution_count": null,
   "metadata": {
    "colab": {
     "base_uri": "https://localhost:8080/"
    },
    "id": "6iUQQOVUYPH1",
    "outputId": "19f86641-174f-4478-e9a1-53963c665a72"
   },
   "outputs": [
    {
     "data": {
      "text/plain": [
       "<tf.Tensor: shape=(43137, 500), dtype=int64, numpy=\n",
       "array([[  33,    1,   63, ...,    0,    0,    0],\n",
       "       [  83, 2148,  114, ...,    0,    0,    0],\n",
       "       [ 245,  161, 1751, ...,    0,    0,    0],\n",
       "       ...,\n",
       "       [ 912,    6, 3410, ...,    0,    0,    0],\n",
       "       [ 275,    1, 1367, ...,    0,    0,    0],\n",
       "       [1817,  256,    2, ...,    0,    0,    0]])>"
      ]
     },
     "execution_count": 157,
     "metadata": {},
     "output_type": "execute_result"
    }
   ],
   "source": [
    "vectorized_text"
   ]
  },
  {
   "cell_type": "code",
   "execution_count": null,
   "metadata": {
    "id": "pz5Ig8BvQaPs"
   },
   "outputs": [],
   "source": [
    "from sklearn.model_selection import train_test_split\n",
    "X_train, X_test, y_train, y_test = train_test_split(X,y)"
   ]
  },
  {
   "cell_type": "code",
   "execution_count": null,
   "metadata": {
    "colab": {
     "base_uri": "https://localhost:8080/"
    },
    "id": "hKcZnzpPSB44",
    "outputId": "cb345d8f-5b62-4c5f-94d0-be0b4d31c998"
   },
   "outputs": [
    {
     "data": {
      "text/plain": [
       "1         just closure some gas after i voted at new yor...\n",
       "7                                       use tools well talk\n",
       "8                     cocksucker before piss around my work\n",
       "9         alignment this subject which are contrary thos...\n",
       "29                           come think comming back tosser\n",
       "                                ...                        \n",
       "344309    so how do tackle those that gang up against ju...\n",
       "344324                 i have better idea who prankster now\n",
       "344325    appear be alternate account supreme deliciousness\n",
       "344328    both wpordinal station naming convention say s...\n",
       "344333    strongly agree i believe there should be three...\n",
       "Name: comment_text, Length: 43137, dtype: object"
      ]
     },
     "execution_count": 159,
     "metadata": {},
     "output_type": "execute_result"
    }
   ],
   "source": [
    "X"
   ]
  },
  {
   "cell_type": "code",
   "execution_count": null,
   "metadata": {
    "colab": {
     "base_uri": "https://localhost:8080/",
     "height": 423
    },
    "id": "Zo-JrHrqSDoK",
    "outputId": "af2525ff-3091-44cf-948e-cde2336e40f0"
   },
   "outputs": [
    {
     "data": {
      "text/html": [
       "\n",
       "  <div id=\"df-9746e70e-e1af-455e-aa06-b6c6fd861716\" class=\"colab-df-container\">\n",
       "    <div>\n",
       "<style scoped>\n",
       "    .dataframe tbody tr th:only-of-type {\n",
       "        vertical-align: middle;\n",
       "    }\n",
       "\n",
       "    .dataframe tbody tr th {\n",
       "        vertical-align: top;\n",
       "    }\n",
       "\n",
       "    .dataframe thead th {\n",
       "        text-align: right;\n",
       "    }\n",
       "</style>\n",
       "<table border=\"1\" class=\"dataframe\">\n",
       "  <thead>\n",
       "    <tr style=\"text-align: right;\">\n",
       "      <th></th>\n",
       "      <th>toxic</th>\n",
       "      <th>severe_toxic</th>\n",
       "      <th>obscene</th>\n",
       "      <th>threat</th>\n",
       "      <th>insult</th>\n",
       "      <th>identity_hate</th>\n",
       "    </tr>\n",
       "  </thead>\n",
       "  <tbody>\n",
       "    <tr>\n",
       "      <th>1</th>\n",
       "      <td>0</td>\n",
       "      <td>0</td>\n",
       "      <td>0</td>\n",
       "      <td>0</td>\n",
       "      <td>0</td>\n",
       "      <td>0</td>\n",
       "    </tr>\n",
       "    <tr>\n",
       "      <th>7</th>\n",
       "      <td>0</td>\n",
       "      <td>0</td>\n",
       "      <td>0</td>\n",
       "      <td>0</td>\n",
       "      <td>0</td>\n",
       "      <td>0</td>\n",
       "    </tr>\n",
       "    <tr>\n",
       "      <th>8</th>\n",
       "      <td>1</td>\n",
       "      <td>1</td>\n",
       "      <td>1</td>\n",
       "      <td>0</td>\n",
       "      <td>1</td>\n",
       "      <td>0</td>\n",
       "    </tr>\n",
       "    <tr>\n",
       "      <th>9</th>\n",
       "      <td>0</td>\n",
       "      <td>0</td>\n",
       "      <td>0</td>\n",
       "      <td>0</td>\n",
       "      <td>0</td>\n",
       "      <td>0</td>\n",
       "    </tr>\n",
       "    <tr>\n",
       "      <th>29</th>\n",
       "      <td>1</td>\n",
       "      <td>0</td>\n",
       "      <td>0</td>\n",
       "      <td>0</td>\n",
       "      <td>0</td>\n",
       "      <td>0</td>\n",
       "    </tr>\n",
       "    <tr>\n",
       "      <th>...</th>\n",
       "      <td>...</td>\n",
       "      <td>...</td>\n",
       "      <td>...</td>\n",
       "      <td>...</td>\n",
       "      <td>...</td>\n",
       "      <td>...</td>\n",
       "    </tr>\n",
       "    <tr>\n",
       "      <th>344309</th>\n",
       "      <td>0</td>\n",
       "      <td>0</td>\n",
       "      <td>0</td>\n",
       "      <td>0</td>\n",
       "      <td>0</td>\n",
       "      <td>0</td>\n",
       "    </tr>\n",
       "    <tr>\n",
       "      <th>344324</th>\n",
       "      <td>0</td>\n",
       "      <td>0</td>\n",
       "      <td>0</td>\n",
       "      <td>0</td>\n",
       "      <td>0</td>\n",
       "      <td>0</td>\n",
       "    </tr>\n",
       "    <tr>\n",
       "      <th>344325</th>\n",
       "      <td>0</td>\n",
       "      <td>0</td>\n",
       "      <td>0</td>\n",
       "      <td>0</td>\n",
       "      <td>0</td>\n",
       "      <td>0</td>\n",
       "    </tr>\n",
       "    <tr>\n",
       "      <th>344328</th>\n",
       "      <td>0</td>\n",
       "      <td>0</td>\n",
       "      <td>0</td>\n",
       "      <td>0</td>\n",
       "      <td>0</td>\n",
       "      <td>0</td>\n",
       "    </tr>\n",
       "    <tr>\n",
       "      <th>344333</th>\n",
       "      <td>0</td>\n",
       "      <td>0</td>\n",
       "      <td>0</td>\n",
       "      <td>0</td>\n",
       "      <td>0</td>\n",
       "      <td>0</td>\n",
       "    </tr>\n",
       "  </tbody>\n",
       "</table>\n",
       "<p>43137 rows × 6 columns</p>\n",
       "</div>\n",
       "    <div class=\"colab-df-buttons\">\n",
       "\n",
       "  <div class=\"colab-df-container\">\n",
       "    <button class=\"colab-df-convert\" onclick=\"convertToInteractive('df-9746e70e-e1af-455e-aa06-b6c6fd861716')\"\n",
       "            title=\"Convert this dataframe to an interactive table.\"\n",
       "            style=\"display:none;\">\n",
       "\n",
       "  <svg xmlns=\"http://www.w3.org/2000/svg\" height=\"24px\" viewBox=\"0 -960 960 960\">\n",
       "    <path d=\"M120-120v-720h720v720H120Zm60-500h600v-160H180v160Zm220 220h160v-160H400v160Zm0 220h160v-160H400v160ZM180-400h160v-160H180v160Zm440 0h160v-160H620v160ZM180-180h160v-160H180v160Zm440 0h160v-160H620v160Z\"/>\n",
       "  </svg>\n",
       "    </button>\n",
       "\n",
       "  <style>\n",
       "    .colab-df-container {\n",
       "      display:flex;\n",
       "      gap: 12px;\n",
       "    }\n",
       "\n",
       "    .colab-df-convert {\n",
       "      background-color: #E8F0FE;\n",
       "      border: none;\n",
       "      border-radius: 50%;\n",
       "      cursor: pointer;\n",
       "      display: none;\n",
       "      fill: #1967D2;\n",
       "      height: 32px;\n",
       "      padding: 0 0 0 0;\n",
       "      width: 32px;\n",
       "    }\n",
       "\n",
       "    .colab-df-convert:hover {\n",
       "      background-color: #E2EBFA;\n",
       "      box-shadow: 0px 1px 2px rgba(60, 64, 67, 0.3), 0px 1px 3px 1px rgba(60, 64, 67, 0.15);\n",
       "      fill: #174EA6;\n",
       "    }\n",
       "\n",
       "    .colab-df-buttons div {\n",
       "      margin-bottom: 4px;\n",
       "    }\n",
       "\n",
       "    [theme=dark] .colab-df-convert {\n",
       "      background-color: #3B4455;\n",
       "      fill: #D2E3FC;\n",
       "    }\n",
       "\n",
       "    [theme=dark] .colab-df-convert:hover {\n",
       "      background-color: #434B5C;\n",
       "      box-shadow: 0px 1px 3px 1px rgba(0, 0, 0, 0.15);\n",
       "      filter: drop-shadow(0px 1px 2px rgba(0, 0, 0, 0.3));\n",
       "      fill: #FFFFFF;\n",
       "    }\n",
       "  </style>\n",
       "\n",
       "    <script>\n",
       "      const buttonEl =\n",
       "        document.querySelector('#df-9746e70e-e1af-455e-aa06-b6c6fd861716 button.colab-df-convert');\n",
       "      buttonEl.style.display =\n",
       "        google.colab.kernel.accessAllowed ? 'block' : 'none';\n",
       "\n",
       "      async function convertToInteractive(key) {\n",
       "        const element = document.querySelector('#df-9746e70e-e1af-455e-aa06-b6c6fd861716');\n",
       "        const dataTable =\n",
       "          await google.colab.kernel.invokeFunction('convertToInteractive',\n",
       "                                                    [key], {});\n",
       "        if (!dataTable) return;\n",
       "\n",
       "        const docLinkHtml = 'Like what you see? Visit the ' +\n",
       "          '<a target=\"_blank\" href=https://colab.research.google.com/notebooks/data_table.ipynb>data table notebook</a>'\n",
       "          + ' to learn more about interactive tables.';\n",
       "        element.innerHTML = '';\n",
       "        dataTable['output_type'] = 'display_data';\n",
       "        await google.colab.output.renderOutput(dataTable, element);\n",
       "        const docLink = document.createElement('div');\n",
       "        docLink.innerHTML = docLinkHtml;\n",
       "        element.appendChild(docLink);\n",
       "      }\n",
       "    </script>\n",
       "  </div>\n",
       "\n",
       "\n",
       "<div id=\"df-3fa93130-35c5-483a-b879-8093b97c4bb2\">\n",
       "  <button class=\"colab-df-quickchart\" onclick=\"quickchart('df-3fa93130-35c5-483a-b879-8093b97c4bb2')\"\n",
       "            title=\"Suggest charts.\"\n",
       "            style=\"display:none;\">\n",
       "\n",
       "<svg xmlns=\"http://www.w3.org/2000/svg\" height=\"24px\"viewBox=\"0 0 24 24\"\n",
       "     width=\"24px\">\n",
       "    <g>\n",
       "        <path d=\"M19 3H5c-1.1 0-2 .9-2 2v14c0 1.1.9 2 2 2h14c1.1 0 2-.9 2-2V5c0-1.1-.9-2-2-2zM9 17H7v-7h2v7zm4 0h-2V7h2v10zm4 0h-2v-4h2v4z\"/>\n",
       "    </g>\n",
       "</svg>\n",
       "  </button>\n",
       "\n",
       "<style>\n",
       "  .colab-df-quickchart {\n",
       "      --bg-color: #E8F0FE;\n",
       "      --fill-color: #1967D2;\n",
       "      --hover-bg-color: #E2EBFA;\n",
       "      --hover-fill-color: #174EA6;\n",
       "      --disabled-fill-color: #AAA;\n",
       "      --disabled-bg-color: #DDD;\n",
       "  }\n",
       "\n",
       "  [theme=dark] .colab-df-quickchart {\n",
       "      --bg-color: #3B4455;\n",
       "      --fill-color: #D2E3FC;\n",
       "      --hover-bg-color: #434B5C;\n",
       "      --hover-fill-color: #FFFFFF;\n",
       "      --disabled-bg-color: #3B4455;\n",
       "      --disabled-fill-color: #666;\n",
       "  }\n",
       "\n",
       "  .colab-df-quickchart {\n",
       "    background-color: var(--bg-color);\n",
       "    border: none;\n",
       "    border-radius: 50%;\n",
       "    cursor: pointer;\n",
       "    display: none;\n",
       "    fill: var(--fill-color);\n",
       "    height: 32px;\n",
       "    padding: 0;\n",
       "    width: 32px;\n",
       "  }\n",
       "\n",
       "  .colab-df-quickchart:hover {\n",
       "    background-color: var(--hover-bg-color);\n",
       "    box-shadow: 0 1px 2px rgba(60, 64, 67, 0.3), 0 1px 3px 1px rgba(60, 64, 67, 0.15);\n",
       "    fill: var(--button-hover-fill-color);\n",
       "  }\n",
       "\n",
       "  .colab-df-quickchart-complete:disabled,\n",
       "  .colab-df-quickchart-complete:disabled:hover {\n",
       "    background-color: var(--disabled-bg-color);\n",
       "    fill: var(--disabled-fill-color);\n",
       "    box-shadow: none;\n",
       "  }\n",
       "\n",
       "  .colab-df-spinner {\n",
       "    border: 2px solid var(--fill-color);\n",
       "    border-color: transparent;\n",
       "    border-bottom-color: var(--fill-color);\n",
       "    animation:\n",
       "      spin 1s steps(1) infinite;\n",
       "  }\n",
       "\n",
       "  @keyframes spin {\n",
       "    0% {\n",
       "      border-color: transparent;\n",
       "      border-bottom-color: var(--fill-color);\n",
       "      border-left-color: var(--fill-color);\n",
       "    }\n",
       "    20% {\n",
       "      border-color: transparent;\n",
       "      border-left-color: var(--fill-color);\n",
       "      border-top-color: var(--fill-color);\n",
       "    }\n",
       "    30% {\n",
       "      border-color: transparent;\n",
       "      border-left-color: var(--fill-color);\n",
       "      border-top-color: var(--fill-color);\n",
       "      border-right-color: var(--fill-color);\n",
       "    }\n",
       "    40% {\n",
       "      border-color: transparent;\n",
       "      border-right-color: var(--fill-color);\n",
       "      border-top-color: var(--fill-color);\n",
       "    }\n",
       "    60% {\n",
       "      border-color: transparent;\n",
       "      border-right-color: var(--fill-color);\n",
       "    }\n",
       "    80% {\n",
       "      border-color: transparent;\n",
       "      border-right-color: var(--fill-color);\n",
       "      border-bottom-color: var(--fill-color);\n",
       "    }\n",
       "    90% {\n",
       "      border-color: transparent;\n",
       "      border-bottom-color: var(--fill-color);\n",
       "    }\n",
       "  }\n",
       "</style>\n",
       "\n",
       "  <script>\n",
       "    async function quickchart(key) {\n",
       "      const quickchartButtonEl =\n",
       "        document.querySelector('#' + key + ' button');\n",
       "      quickchartButtonEl.disabled = true;  // To prevent multiple clicks.\n",
       "      quickchartButtonEl.classList.add('colab-df-spinner');\n",
       "      try {\n",
       "        const charts = await google.colab.kernel.invokeFunction(\n",
       "            'suggestCharts', [key], {});\n",
       "      } catch (error) {\n",
       "        console.error('Error during call to suggestCharts:', error);\n",
       "      }\n",
       "      quickchartButtonEl.classList.remove('colab-df-spinner');\n",
       "      quickchartButtonEl.classList.add('colab-df-quickchart-complete');\n",
       "    }\n",
       "    (() => {\n",
       "      let quickchartButtonEl =\n",
       "        document.querySelector('#df-3fa93130-35c5-483a-b879-8093b97c4bb2 button');\n",
       "      quickchartButtonEl.style.display =\n",
       "        google.colab.kernel.accessAllowed ? 'block' : 'none';\n",
       "    })();\n",
       "  </script>\n",
       "</div>\n",
       "    </div>\n",
       "  </div>\n"
      ],
      "text/plain": [
       "        toxic  severe_toxic  obscene  threat  insult  identity_hate\n",
       "1           0             0        0       0       0              0\n",
       "7           0             0        0       0       0              0\n",
       "8           1             1        1       0       1              0\n",
       "9           0             0        0       0       0              0\n",
       "29          1             0        0       0       0              0\n",
       "...       ...           ...      ...     ...     ...            ...\n",
       "344309      0             0        0       0       0              0\n",
       "344324      0             0        0       0       0              0\n",
       "344325      0             0        0       0       0              0\n",
       "344328      0             0        0       0       0              0\n",
       "344333      0             0        0       0       0              0\n",
       "\n",
       "[43137 rows x 6 columns]"
      ]
     },
     "execution_count": 160,
     "metadata": {},
     "output_type": "execute_result"
    }
   ],
   "source": [
    "y"
   ]
  },
  {
   "cell_type": "code",
   "execution_count": null,
   "metadata": {
    "id": "fXhpA1bBlJ9L"
   },
   "outputs": [],
   "source": [
    "#!pip install transformers"
   ]
  },
  {
   "cell_type": "code",
   "execution_count": null,
   "metadata": {
    "id": "ipk5LEkLXL04"
   },
   "outputs": [],
   "source": [
    "#MCSHBAP - map, chache, shuffle, batch, prefetch  from_tensor_slices, list_file\n",
    "dataset = tf.data.Dataset.from_tensor_slices((vectorized_text, y))\n",
    "dataset = dataset.cache()\n",
    "dataset = dataset.shuffle(1600)\n",
    "dataset = dataset.batch(16)\n",
    "dataset = dataset.prefetch(8) # helps bottlenecks"
   ]
  },
  {
   "cell_type": "code",
   "execution_count": null,
   "metadata": {
    "id": "FbzrUVXEZvY4"
   },
   "outputs": [],
   "source": [
    "train = dataset.take(int(len(dataset)*.6))\n",
    "val = dataset.skip(int(len(dataset)*.7)).take(int(len(dataset)*.2))\n",
    "test = dataset.skip(int(len(dataset)*.9)).take(int(len(dataset)*.2))"
   ]
  },
  {
   "cell_type": "markdown",
   "metadata": {
    "id": "z0tW14jkZwmJ"
   },
   "source": [
    "##Sequential Model"
   ]
  },
  {
   "cell_type": "code",
   "execution_count": null,
   "metadata": {
    "id": "PIN_7MU8ZNd-"
   },
   "outputs": [],
   "source": [
    "from tensorflow.keras.models import Sequential\n",
    "from tensorflow.keras.layers import LSTM, Dropout, Bidirectional, Dense, Embedding"
   ]
  },
  {
   "cell_type": "code",
   "execution_count": null,
   "metadata": {
    "id": "GUxiSav7XLx6"
   },
   "outputs": [],
   "source": [
    "model = Sequential()\n",
    "# Create the embedding layer\n",
    "model.add(Embedding(MAX_FEATURES+1, 32))\n",
    "# Bidirectional LSTM Layer\n",
    "model.add(Bidirectional(LSTM(32, activation='tanh')))\n",
    "# Feature extractor Fully connected layers\n",
    "model.add(Dense(1, activation='relu'))\n",
    "model.add(Dense(2, activation='relu'))\n",
    "model.add(Dense(1, activation='relu'))\n",
    "# Final layer\n",
    "model.add(Dense(6, activation='softmax'))"
   ]
  },
  {
   "cell_type": "code",
   "execution_count": null,
   "metadata": {
    "id": "dxTS764qXLu0"
   },
   "outputs": [],
   "source": [
    "# Compile model\n",
    "model.compile(loss='binary_crossentropy', optimizer='adam', metrics=['accuracy'])"
   ]
  },
  {
   "cell_type": "code",
   "execution_count": null,
   "metadata": {
    "colab": {
     "base_uri": "https://localhost:8080/"
    },
    "id": "H-kHS1s0aPAn",
    "outputId": "f19f3be6-ca8e-42ba-aa96-94e4c535b1fd"
   },
   "outputs": [
    {
     "name": "stdout",
     "output_type": "stream",
     "text": [
      "Model: \"sequential_3\"\n",
      "_________________________________________________________________\n",
      " Layer (type)                Output Shape              Param #   \n",
      "=================================================================\n",
      " embedding_3 (Embedding)     (None, None, 32)          160032    \n",
      "                                                                 \n",
      " bidirectional_3 (Bidirectio  (None, 64)               16640     \n",
      " nal)                                                            \n",
      "                                                                 \n",
      " dense_12 (Dense)            (None, 1)                 65        \n",
      "                                                                 \n",
      " dense_13 (Dense)            (None, 2)                 4         \n",
      "                                                                 \n",
      " dense_14 (Dense)            (None, 1)                 3         \n",
      "                                                                 \n",
      " dense_15 (Dense)            (None, 6)                 12        \n",
      "                                                                 \n",
      "=================================================================\n",
      "Total params: 176,756\n",
      "Trainable params: 176,756\n",
      "Non-trainable params: 0\n",
      "_________________________________________________________________\n"
     ]
    }
   ],
   "source": [
    "model.summary()"
   ]
  },
  {
   "cell_type": "code",
   "execution_count": null,
   "metadata": {
    "colab": {
     "base_uri": "https://localhost:8080/"
    },
    "id": "8SlnK7pHXLrv",
    "outputId": "c66bfd83-2ec9-4d00-f8e5-64116cf31c2a"
   },
   "outputs": [
    {
     "name": "stdout",
     "output_type": "stream",
     "text": [
      "1618/1618 [==============================] - 1160s 713ms/step - loss: 0.4513 - accuracy: 0.9106 - val_loss: 0.3010 - val_accuracy: 0.9950\n"
     ]
    }
   ],
   "source": [
    "# Fit the model\n",
    "#history = model.fit(vectorized_text, y, validation_split=0.33, epochs=1, batch_size=10)\n",
    "history = model.fit(train, epochs=1, validation_data=val,batch_size=100)"
   ]
  },
  {
   "cell_type": "code",
   "execution_count": null,
   "metadata": {
    "id": "QJevSDPcq03l"
   },
   "outputs": [],
   "source": [
    "from tensorflow.keras.metrics import Precision, Recall, CategoricalAccuracy"
   ]
  },
  {
   "cell_type": "code",
   "execution_count": null,
   "metadata": {
    "id": "hkQoQ4jgq8Dj"
   },
   "outputs": [],
   "source": [
    "pre = Precision()\n",
    "re = Recall()\n",
    "acc = CategoricalAccuracy()"
   ]
  },
  {
   "cell_type": "code",
   "execution_count": null,
   "metadata": {
    "colab": {
     "base_uri": "https://localhost:8080/"
    },
    "id": "1at4fp2sq_JX",
    "outputId": "efef0eaf-f41d-4560-844a-fbdf6e51e332"
   },
   "outputs": [
    {
     "name": "stdout",
     "output_type": "stream",
     "text": [
      "1/1 [==============================] - 4s 4s/step\n",
      "1/1 [==============================] - 0s 224ms/step\n",
      "1/1 [==============================] - 0s 198ms/step\n",
      "1/1 [==============================] - 0s 205ms/step\n",
      "1/1 [==============================] - 0s 278ms/step\n",
      "1/1 [==============================] - 0s 288ms/step\n",
      "1/1 [==============================] - 0s 252ms/step\n",
      "1/1 [==============================] - 0s 211ms/step\n",
      "1/1 [==============================] - 0s 249ms/step\n",
      "1/1 [==============================] - 0s 219ms/step\n",
      "1/1 [==============================] - 0s 261ms/step\n",
      "1/1 [==============================] - 0s 194ms/step\n",
      "1/1 [==============================] - 0s 211ms/step\n",
      "1/1 [==============================] - 0s 238ms/step\n",
      "1/1 [==============================] - 0s 274ms/step\n",
      "1/1 [==============================] - 0s 235ms/step\n",
      "1/1 [==============================] - 0s 156ms/step\n",
      "1/1 [==============================] - 0s 214ms/step\n",
      "1/1 [==============================] - 0s 199ms/step\n",
      "1/1 [==============================] - 0s 169ms/step\n",
      "1/1 [==============================] - 0s 176ms/step\n",
      "1/1 [==============================] - 0s 361ms/step\n",
      "1/1 [==============================] - 0s 295ms/step\n",
      "1/1 [==============================] - 0s 304ms/step\n",
      "1/1 [==============================] - 0s 221ms/step\n",
      "1/1 [==============================] - 0s 397ms/step\n",
      "1/1 [==============================] - 0s 381ms/step\n",
      "1/1 [==============================] - 0s 387ms/step\n",
      "1/1 [==============================] - 1s 606ms/step\n",
      "1/1 [==============================] - 1s 726ms/step\n",
      "1/1 [==============================] - 0s 414ms/step\n",
      "1/1 [==============================] - 0s 319ms/step\n",
      "1/1 [==============================] - 0s 310ms/step\n",
      "1/1 [==============================] - 0s 297ms/step\n",
      "1/1 [==============================] - 0s 383ms/step\n",
      "1/1 [==============================] - 0s 386ms/step\n",
      "1/1 [==============================] - 0s 370ms/step\n",
      "1/1 [==============================] - 0s 355ms/step\n",
      "1/1 [==============================] - 0s 445ms/step\n",
      "1/1 [==============================] - 0s 247ms/step\n",
      "1/1 [==============================] - 0s 237ms/step\n",
      "1/1 [==============================] - 0s 233ms/step\n",
      "1/1 [==============================] - 0s 282ms/step\n",
      "1/1 [==============================] - 0s 277ms/step\n",
      "1/1 [==============================] - 0s 158ms/step\n",
      "1/1 [==============================] - 0s 319ms/step\n",
      "1/1 [==============================] - 0s 257ms/step\n",
      "1/1 [==============================] - 0s 199ms/step\n",
      "1/1 [==============================] - 0s 319ms/step\n",
      "1/1 [==============================] - 0s 277ms/step\n",
      "1/1 [==============================] - 0s 167ms/step\n",
      "1/1 [==============================] - 0s 251ms/step\n",
      "1/1 [==============================] - 0s 206ms/step\n",
      "1/1 [==============================] - 0s 180ms/step\n",
      "1/1 [==============================] - 0s 236ms/step\n",
      "1/1 [==============================] - 0s 262ms/step\n",
      "1/1 [==============================] - 0s 261ms/step\n",
      "1/1 [==============================] - 0s 191ms/step\n",
      "1/1 [==============================] - 0s 174ms/step\n",
      "1/1 [==============================] - 0s 259ms/step\n",
      "1/1 [==============================] - 0s 255ms/step\n",
      "1/1 [==============================] - 0s 205ms/step\n",
      "1/1 [==============================] - 0s 228ms/step\n",
      "1/1 [==============================] - 0s 303ms/step\n",
      "1/1 [==============================] - 0s 301ms/step\n",
      "1/1 [==============================] - 0s 264ms/step\n",
      "1/1 [==============================] - 0s 393ms/step\n",
      "1/1 [==============================] - 1s 533ms/step\n",
      "1/1 [==============================] - 0s 337ms/step\n",
      "1/1 [==============================] - 0s 386ms/step\n",
      "1/1 [==============================] - 0s 392ms/step\n",
      "1/1 [==============================] - 0s 262ms/step\n",
      "1/1 [==============================] - 0s 333ms/step\n",
      "1/1 [==============================] - 0s 323ms/step\n",
      "1/1 [==============================] - 0s 279ms/step\n",
      "1/1 [==============================] - 0s 320ms/step\n",
      "1/1 [==============================] - 0s 344ms/step\n",
      "1/1 [==============================] - 0s 309ms/step\n",
      "1/1 [==============================] - 0s 484ms/step\n",
      "1/1 [==============================] - 0s 321ms/step\n",
      "1/1 [==============================] - 0s 202ms/step\n",
      "1/1 [==============================] - 0s 167ms/step\n",
      "1/1 [==============================] - 0s 152ms/step\n",
      "1/1 [==============================] - 0s 249ms/step\n",
      "1/1 [==============================] - 0s 252ms/step\n",
      "1/1 [==============================] - 0s 250ms/step\n",
      "1/1 [==============================] - 0s 167ms/step\n",
      "1/1 [==============================] - 0s 187ms/step\n",
      "1/1 [==============================] - 0s 174ms/step\n",
      "1/1 [==============================] - 0s 199ms/step\n",
      "1/1 [==============================] - 0s 215ms/step\n",
      "1/1 [==============================] - 0s 245ms/step\n",
      "1/1 [==============================] - 0s 266ms/step\n",
      "1/1 [==============================] - 0s 106ms/step\n",
      "1/1 [==============================] - 0s 107ms/step\n",
      "1/1 [==============================] - 0s 114ms/step\n",
      "1/1 [==============================] - 0s 122ms/step\n",
      "1/1 [==============================] - 0s 114ms/step\n",
      "1/1 [==============================] - 0s 102ms/step\n",
      "1/1 [==============================] - 0s 101ms/step\n",
      "1/1 [==============================] - 0s 99ms/step\n",
      "1/1 [==============================] - 0s 94ms/step\n",
      "1/1 [==============================] - 0s 99ms/step\n",
      "1/1 [==============================] - 0s 95ms/step\n",
      "1/1 [==============================] - 0s 105ms/step\n",
      "1/1 [==============================] - 0s 121ms/step\n",
      "1/1 [==============================] - 0s 114ms/step\n",
      "1/1 [==============================] - 0s 122ms/step\n",
      "1/1 [==============================] - 0s 111ms/step\n",
      "1/1 [==============================] - 0s 110ms/step\n",
      "1/1 [==============================] - 0s 133ms/step\n",
      "1/1 [==============================] - 0s 111ms/step\n",
      "1/1 [==============================] - 0s 113ms/step\n",
      "1/1 [==============================] - 0s 107ms/step\n",
      "1/1 [==============================] - 0s 117ms/step\n",
      "1/1 [==============================] - 0s 122ms/step\n",
      "1/1 [==============================] - 0s 110ms/step\n",
      "1/1 [==============================] - 0s 165ms/step\n",
      "1/1 [==============================] - 0s 161ms/step\n",
      "1/1 [==============================] - 0s 171ms/step\n",
      "1/1 [==============================] - 0s 162ms/step\n",
      "1/1 [==============================] - 0s 166ms/step\n",
      "1/1 [==============================] - 0s 162ms/step\n",
      "1/1 [==============================] - 0s 175ms/step\n",
      "1/1 [==============================] - 0s 160ms/step\n",
      "1/1 [==============================] - 0s 151ms/step\n",
      "1/1 [==============================] - 0s 176ms/step\n",
      "1/1 [==============================] - 0s 162ms/step\n",
      "1/1 [==============================] - 0s 156ms/step\n",
      "1/1 [==============================] - 0s 175ms/step\n",
      "1/1 [==============================] - 0s 154ms/step\n",
      "1/1 [==============================] - 0s 159ms/step\n",
      "1/1 [==============================] - 0s 168ms/step\n",
      "1/1 [==============================] - 0s 161ms/step\n",
      "1/1 [==============================] - 0s 180ms/step\n",
      "1/1 [==============================] - 0s 174ms/step\n",
      "1/1 [==============================] - 0s 175ms/step\n",
      "1/1 [==============================] - 0s 202ms/step\n",
      "1/1 [==============================] - 0s 215ms/step\n",
      "1/1 [==============================] - 0s 193ms/step\n",
      "1/1 [==============================] - 0s 206ms/step\n",
      "1/1 [==============================] - 0s 182ms/step\n",
      "1/1 [==============================] - 0s 192ms/step\n",
      "1/1 [==============================] - 0s 178ms/step\n",
      "1/1 [==============================] - 0s 214ms/step\n",
      "1/1 [==============================] - 0s 191ms/step\n",
      "1/1 [==============================] - 0s 191ms/step\n",
      "1/1 [==============================] - 0s 150ms/step\n",
      "1/1 [==============================] - 0s 102ms/step\n",
      "1/1 [==============================] - 0s 107ms/step\n",
      "1/1 [==============================] - 0s 101ms/step\n",
      "1/1 [==============================] - 0s 122ms/step\n",
      "1/1 [==============================] - 0s 115ms/step\n",
      "1/1 [==============================] - 0s 144ms/step\n",
      "1/1 [==============================] - 0s 108ms/step\n",
      "1/1 [==============================] - 0s 113ms/step\n",
      "1/1 [==============================] - 0s 106ms/step\n",
      "1/1 [==============================] - 0s 122ms/step\n",
      "1/1 [==============================] - 0s 131ms/step\n",
      "1/1 [==============================] - 0s 113ms/step\n",
      "1/1 [==============================] - 0s 112ms/step\n",
      "1/1 [==============================] - 0s 110ms/step\n",
      "1/1 [==============================] - 0s 109ms/step\n",
      "1/1 [==============================] - 0s 102ms/step\n",
      "1/1 [==============================] - 0s 109ms/step\n",
      "1/1 [==============================] - 0s 106ms/step\n",
      "1/1 [==============================] - 0s 108ms/step\n",
      "1/1 [==============================] - 0s 130ms/step\n",
      "1/1 [==============================] - 0s 115ms/step\n",
      "1/1 [==============================] - 0s 111ms/step\n",
      "1/1 [==============================] - 0s 117ms/step\n",
      "1/1 [==============================] - 0s 110ms/step\n",
      "1/1 [==============================] - 0s 106ms/step\n",
      "1/1 [==============================] - 0s 107ms/step\n",
      "1/1 [==============================] - 0s 104ms/step\n",
      "1/1 [==============================] - 0s 119ms/step\n",
      "1/1 [==============================] - 0s 106ms/step\n",
      "1/1 [==============================] - 0s 119ms/step\n",
      "1/1 [==============================] - 0s 117ms/step\n",
      "1/1 [==============================] - 0s 110ms/step\n",
      "1/1 [==============================] - 0s 101ms/step\n",
      "1/1 [==============================] - 0s 114ms/step\n",
      "1/1 [==============================] - 0s 108ms/step\n",
      "1/1 [==============================] - 0s 110ms/step\n",
      "1/1 [==============================] - 0s 122ms/step\n",
      "1/1 [==============================] - 0s 109ms/step\n",
      "1/1 [==============================] - 0s 126ms/step\n",
      "1/1 [==============================] - 0s 119ms/step\n",
      "1/1 [==============================] - 0s 108ms/step\n",
      "1/1 [==============================] - 0s 113ms/step\n",
      "1/1 [==============================] - 0s 112ms/step\n",
      "1/1 [==============================] - 0s 125ms/step\n",
      "1/1 [==============================] - 0s 120ms/step\n",
      "1/1 [==============================] - 0s 144ms/step\n",
      "1/1 [==============================] - 0s 142ms/step\n",
      "1/1 [==============================] - 0s 212ms/step\n",
      "1/1 [==============================] - 0s 191ms/step\n",
      "1/1 [==============================] - 0s 178ms/step\n",
      "1/1 [==============================] - 0s 201ms/step\n",
      "1/1 [==============================] - 0s 160ms/step\n",
      "1/1 [==============================] - 0s 174ms/step\n",
      "1/1 [==============================] - 0s 182ms/step\n",
      "1/1 [==============================] - 0s 178ms/step\n",
      "1/1 [==============================] - 0s 183ms/step\n",
      "1/1 [==============================] - 0s 189ms/step\n",
      "1/1 [==============================] - 0s 179ms/step\n",
      "1/1 [==============================] - 0s 206ms/step\n",
      "1/1 [==============================] - 0s 183ms/step\n",
      "1/1 [==============================] - 0s 173ms/step\n",
      "1/1 [==============================] - 0s 177ms/step\n",
      "1/1 [==============================] - 0s 179ms/step\n",
      "1/1 [==============================] - 0s 164ms/step\n",
      "1/1 [==============================] - 0s 173ms/step\n",
      "1/1 [==============================] - 0s 163ms/step\n",
      "1/1 [==============================] - 0s 174ms/step\n",
      "1/1 [==============================] - 0s 150ms/step\n",
      "1/1 [==============================] - 0s 182ms/step\n",
      "1/1 [==============================] - 0s 171ms/step\n",
      "1/1 [==============================] - 0s 193ms/step\n",
      "1/1 [==============================] - 0s 186ms/step\n",
      "1/1 [==============================] - 0s 216ms/step\n",
      "1/1 [==============================] - 0s 187ms/step\n",
      "1/1 [==============================] - 0s 121ms/step\n",
      "1/1 [==============================] - 0s 133ms/step\n",
      "1/1 [==============================] - 0s 103ms/step\n",
      "1/1 [==============================] - 0s 110ms/step\n",
      "1/1 [==============================] - 0s 105ms/step\n",
      "1/1 [==============================] - 0s 104ms/step\n",
      "1/1 [==============================] - 0s 121ms/step\n",
      "1/1 [==============================] - 0s 105ms/step\n",
      "1/1 [==============================] - 0s 113ms/step\n",
      "1/1 [==============================] - 0s 102ms/step\n",
      "1/1 [==============================] - 0s 114ms/step\n",
      "1/1 [==============================] - 0s 115ms/step\n",
      "1/1 [==============================] - 0s 118ms/step\n",
      "1/1 [==============================] - 0s 107ms/step\n",
      "1/1 [==============================] - 0s 107ms/step\n",
      "1/1 [==============================] - 0s 150ms/step\n",
      "1/1 [==============================] - 0s 107ms/step\n",
      "1/1 [==============================] - 0s 111ms/step\n",
      "1/1 [==============================] - 0s 116ms/step\n",
      "1/1 [==============================] - 0s 101ms/step\n",
      "1/1 [==============================] - 0s 109ms/step\n",
      "1/1 [==============================] - 0s 101ms/step\n",
      "1/1 [==============================] - 0s 106ms/step\n",
      "1/1 [==============================] - 0s 102ms/step\n",
      "1/1 [==============================] - 0s 105ms/step\n",
      "1/1 [==============================] - 0s 109ms/step\n",
      "1/1 [==============================] - 0s 106ms/step\n",
      "1/1 [==============================] - 0s 94ms/step\n",
      "1/1 [==============================] - 0s 103ms/step\n",
      "1/1 [==============================] - 0s 99ms/step\n",
      "1/1 [==============================] - 0s 104ms/step\n",
      "1/1 [==============================] - 0s 100ms/step\n",
      "1/1 [==============================] - 0s 114ms/step\n",
      "1/1 [==============================] - 0s 108ms/step\n",
      "1/1 [==============================] - 0s 123ms/step\n",
      "1/1 [==============================] - 0s 137ms/step\n",
      "1/1 [==============================] - 0s 107ms/step\n",
      "1/1 [==============================] - 0s 119ms/step\n",
      "1/1 [==============================] - 0s 127ms/step\n",
      "1/1 [==============================] - 0s 102ms/step\n",
      "1/1 [==============================] - 0s 117ms/step\n",
      "1/1 [==============================] - 0s 108ms/step\n",
      "1/1 [==============================] - 0s 111ms/step\n",
      "1/1 [==============================] - 0s 109ms/step\n",
      "1/1 [==============================] - 0s 116ms/step\n",
      "1/1 [==============================] - 0s 133ms/step\n",
      "1/1 [==============================] - 0s 109ms/step\n",
      "1/1 [==============================] - 0s 68ms/step\n"
     ]
    }
   ],
   "source": [
    "for batch in test.as_numpy_iterator():\n",
    "    # Unpack the batch\n",
    "    X_true, y_true = batch\n",
    "    # Make a prediction\n",
    "    yhat = model.predict(X_true)\n",
    "\n",
    "    # Flatten the predictions\n",
    "    y_true = y_true.flatten()\n",
    "    yhat = yhat.flatten()\n",
    "\n",
    "    pre.update_state(y_true, yhat)\n",
    "    re.update_state(y_true, yhat)\n",
    "    acc.update_state(y_true, yhat)"
   ]
  },
  {
   "cell_type": "code",
   "execution_count": null,
   "metadata": {
    "colab": {
     "base_uri": "https://localhost:8080/"
    },
    "id": "YttOmJHWror5",
    "outputId": "1bad2cc7-701a-495e-d9f2-11666c938a3a"
   },
   "outputs": [
    {
     "name": "stdout",
     "output_type": "stream",
     "text": [
      "Precision: 0.0, Recall:0.0, Accuracy:0.22592592239379883\n"
     ]
    }
   ],
   "source": [
    "print(f'Precision: {pre.result().numpy()}, Recall:{re.result().numpy()}, Accuracy:{acc.result().numpy()}')"
   ]
  },
  {
   "cell_type": "code",
   "execution_count": null,
   "metadata": {
    "colab": {
     "base_uri": "https://localhost:8080/"
    },
    "id": "uDfd-MxRXLom",
    "outputId": "e75e3a9e-fccf-49f9-cd97-7d9f318a64bb"
   },
   "outputs": [
    {
     "name": "stdout",
     "output_type": "stream",
     "text": [
      "270/270 [==============================] - 268s 992ms/step - loss: 0.2858 - accuracy: 0.9956 - val_loss: 0.2769 - val_accuracy: 0.9944\n"
     ]
    }
   ],
   "source": [
    "history_Test = model.fit(test, epochs=1, validation_data=val)"
   ]
  },
  {
   "cell_type": "markdown",
   "metadata": {
    "id": "0xmCmvb45qPN"
   },
   "source": [
    "##Now lets import BERT model and get embeding vectors for few sample statements"
   ]
  },
  {
   "cell_type": "code",
   "execution_count": 41,
   "metadata": {
    "id": "euV2jw315-VJ"
   },
   "outputs": [],
   "source": [
    "X = df['comment_text']\n",
    "y=df.drop(['id','comment_text'],axis=1)"
   ]
  },
  {
   "cell_type": "code",
   "execution_count": 42,
   "metadata": {
    "id": "cfOxLvS_6Bb4"
   },
   "outputs": [],
   "source": [
    "from sklearn.model_selection import train_test_split\n",
    "X_train, X_test, y_train, y_test = train_test_split(X,y)"
   ]
  },
  {
   "cell_type": "markdown",
   "metadata": {
    "id": "d-heNgrL6HJB"
   },
   "source": [
    "##Now lets import BERT model and get embeding vectors for few sample statements\n"
   ]
  },
  {
   "cell_type": "code",
   "execution_count": 43,
   "metadata": {
    "colab": {
     "base_uri": "https://localhost:8080/"
    },
    "id": "AZomS1cW6EYJ",
    "outputId": "018e3dc9-abf8-4ce3-918d-ac0b49e35418"
   },
   "outputs": [
    {
     "name": "stdout",
     "output_type": "stream",
     "text": [
      "Requirement already satisfied: tensorflow_text in /usr/local/lib/python3.10/dist-packages (2.14.0)\n",
      "Requirement already satisfied: tensorflow-hub>=0.13.0 in /usr/local/lib/python3.10/dist-packages (from tensorflow_text) (0.14.0)\n",
      "Requirement already satisfied: tensorflow<2.15,>=2.14.0 in /usr/local/lib/python3.10/dist-packages (from tensorflow_text) (2.14.0)\n",
      "Requirement already satisfied: absl-py>=1.0.0 in /usr/local/lib/python3.10/dist-packages (from tensorflow<2.15,>=2.14.0->tensorflow_text) (1.4.0)\n",
      "Requirement already satisfied: astunparse>=1.6.0 in /usr/local/lib/python3.10/dist-packages (from tensorflow<2.15,>=2.14.0->tensorflow_text) (1.6.3)\n",
      "Requirement already satisfied: flatbuffers>=23.5.26 in /usr/local/lib/python3.10/dist-packages (from tensorflow<2.15,>=2.14.0->tensorflow_text) (23.5.26)\n",
      "Requirement already satisfied: gast!=0.5.0,!=0.5.1,!=0.5.2,>=0.2.1 in /usr/local/lib/python3.10/dist-packages (from tensorflow<2.15,>=2.14.0->tensorflow_text) (0.4.0)\n",
      "Requirement already satisfied: google-pasta>=0.1.1 in /usr/local/lib/python3.10/dist-packages (from tensorflow<2.15,>=2.14.0->tensorflow_text) (0.2.0)\n",
      "Requirement already satisfied: h5py>=2.9.0 in /usr/local/lib/python3.10/dist-packages (from tensorflow<2.15,>=2.14.0->tensorflow_text) (3.9.0)\n",
      "Requirement already satisfied: libclang>=13.0.0 in /usr/local/lib/python3.10/dist-packages (from tensorflow<2.15,>=2.14.0->tensorflow_text) (16.0.6)\n",
      "Requirement already satisfied: ml-dtypes==0.2.0 in /usr/local/lib/python3.10/dist-packages (from tensorflow<2.15,>=2.14.0->tensorflow_text) (0.2.0)\n",
      "Requirement already satisfied: numpy>=1.23.5 in /usr/local/lib/python3.10/dist-packages (from tensorflow<2.15,>=2.14.0->tensorflow_text) (1.23.5)\n",
      "Requirement already satisfied: opt-einsum>=2.3.2 in /usr/local/lib/python3.10/dist-packages (from tensorflow<2.15,>=2.14.0->tensorflow_text) (3.3.0)\n",
      "Requirement already satisfied: packaging in /usr/local/lib/python3.10/dist-packages (from tensorflow<2.15,>=2.14.0->tensorflow_text) (23.2)\n",
      "Requirement already satisfied: protobuf!=4.21.0,!=4.21.1,!=4.21.2,!=4.21.3,!=4.21.4,!=4.21.5,<5.0.0dev,>=3.20.3 in /usr/local/lib/python3.10/dist-packages (from tensorflow<2.15,>=2.14.0->tensorflow_text) (3.20.3)\n",
      "Requirement already satisfied: setuptools in /usr/local/lib/python3.10/dist-packages (from tensorflow<2.15,>=2.14.0->tensorflow_text) (67.7.2)\n",
      "Requirement already satisfied: six>=1.12.0 in /usr/local/lib/python3.10/dist-packages (from tensorflow<2.15,>=2.14.0->tensorflow_text) (1.16.0)\n",
      "Requirement already satisfied: termcolor>=1.1.0 in /usr/local/lib/python3.10/dist-packages (from tensorflow<2.15,>=2.14.0->tensorflow_text) (2.3.0)\n",
      "Requirement already satisfied: typing-extensions>=3.6.6 in /usr/local/lib/python3.10/dist-packages (from tensorflow<2.15,>=2.14.0->tensorflow_text) (4.5.0)\n",
      "Requirement already satisfied: wrapt<1.15,>=1.11.0 in /usr/local/lib/python3.10/dist-packages (from tensorflow<2.15,>=2.14.0->tensorflow_text) (1.14.1)\n",
      "Requirement already satisfied: tensorflow-io-gcs-filesystem>=0.23.1 in /usr/local/lib/python3.10/dist-packages (from tensorflow<2.15,>=2.14.0->tensorflow_text) (0.34.0)\n",
      "Requirement already satisfied: grpcio<2.0,>=1.24.3 in /usr/local/lib/python3.10/dist-packages (from tensorflow<2.15,>=2.14.0->tensorflow_text) (1.59.0)\n",
      "Requirement already satisfied: tensorboard<2.15,>=2.14 in /usr/local/lib/python3.10/dist-packages (from tensorflow<2.15,>=2.14.0->tensorflow_text) (2.14.1)\n",
      "Requirement already satisfied: tensorflow-estimator<2.15,>=2.14.0 in /usr/local/lib/python3.10/dist-packages (from tensorflow<2.15,>=2.14.0->tensorflow_text) (2.14.0)\n",
      "Requirement already satisfied: keras<2.15,>=2.14.0 in /usr/local/lib/python3.10/dist-packages (from tensorflow<2.15,>=2.14.0->tensorflow_text) (2.14.0)\n",
      "Requirement already satisfied: wheel<1.0,>=0.23.0 in /usr/local/lib/python3.10/dist-packages (from astunparse>=1.6.0->tensorflow<2.15,>=2.14.0->tensorflow_text) (0.41.2)\n",
      "Requirement already satisfied: google-auth<3,>=1.6.3 in /usr/local/lib/python3.10/dist-packages (from tensorboard<2.15,>=2.14->tensorflow<2.15,>=2.14.0->tensorflow_text) (2.17.3)\n",
      "Requirement already satisfied: google-auth-oauthlib<1.1,>=0.5 in /usr/local/lib/python3.10/dist-packages (from tensorboard<2.15,>=2.14->tensorflow<2.15,>=2.14.0->tensorflow_text) (1.0.0)\n",
      "Requirement already satisfied: markdown>=2.6.8 in /usr/local/lib/python3.10/dist-packages (from tensorboard<2.15,>=2.14->tensorflow<2.15,>=2.14.0->tensorflow_text) (3.4.4)\n",
      "Requirement already satisfied: requests<3,>=2.21.0 in /usr/local/lib/python3.10/dist-packages (from tensorboard<2.15,>=2.14->tensorflow<2.15,>=2.14.0->tensorflow_text) (2.31.0)\n",
      "Requirement already satisfied: tensorboard-data-server<0.8.0,>=0.7.0 in /usr/local/lib/python3.10/dist-packages (from tensorboard<2.15,>=2.14->tensorflow<2.15,>=2.14.0->tensorflow_text) (0.7.1)\n",
      "Requirement already satisfied: werkzeug>=1.0.1 in /usr/local/lib/python3.10/dist-packages (from tensorboard<2.15,>=2.14->tensorflow<2.15,>=2.14.0->tensorflow_text) (3.0.0)\n",
      "Requirement already satisfied: cachetools<6.0,>=2.0.0 in /usr/local/lib/python3.10/dist-packages (from google-auth<3,>=1.6.3->tensorboard<2.15,>=2.14->tensorflow<2.15,>=2.14.0->tensorflow_text) (5.3.1)\n",
      "Requirement already satisfied: pyasn1-modules>=0.2.1 in /usr/local/lib/python3.10/dist-packages (from google-auth<3,>=1.6.3->tensorboard<2.15,>=2.14->tensorflow<2.15,>=2.14.0->tensorflow_text) (0.3.0)\n",
      "Requirement already satisfied: rsa<5,>=3.1.4 in /usr/local/lib/python3.10/dist-packages (from google-auth<3,>=1.6.3->tensorboard<2.15,>=2.14->tensorflow<2.15,>=2.14.0->tensorflow_text) (4.9)\n",
      "Requirement already satisfied: requests-oauthlib>=0.7.0 in /usr/local/lib/python3.10/dist-packages (from google-auth-oauthlib<1.1,>=0.5->tensorboard<2.15,>=2.14->tensorflow<2.15,>=2.14.0->tensorflow_text) (1.3.1)\n",
      "Requirement already satisfied: charset-normalizer<4,>=2 in /usr/local/lib/python3.10/dist-packages (from requests<3,>=2.21.0->tensorboard<2.15,>=2.14->tensorflow<2.15,>=2.14.0->tensorflow_text) (3.3.0)\n",
      "Requirement already satisfied: idna<4,>=2.5 in /usr/local/lib/python3.10/dist-packages (from requests<3,>=2.21.0->tensorboard<2.15,>=2.14->tensorflow<2.15,>=2.14.0->tensorflow_text) (3.4)\n",
      "Requirement already satisfied: urllib3<3,>=1.21.1 in /usr/local/lib/python3.10/dist-packages (from requests<3,>=2.21.0->tensorboard<2.15,>=2.14->tensorflow<2.15,>=2.14.0->tensorflow_text) (2.0.6)\n",
      "Requirement already satisfied: certifi>=2017.4.17 in /usr/local/lib/python3.10/dist-packages (from requests<3,>=2.21.0->tensorboard<2.15,>=2.14->tensorflow<2.15,>=2.14.0->tensorflow_text) (2023.7.22)\n",
      "Requirement already satisfied: MarkupSafe>=2.1.1 in /usr/local/lib/python3.10/dist-packages (from werkzeug>=1.0.1->tensorboard<2.15,>=2.14->tensorflow<2.15,>=2.14.0->tensorflow_text) (2.1.3)\n",
      "Requirement already satisfied: pyasn1<0.6.0,>=0.4.6 in /usr/local/lib/python3.10/dist-packages (from pyasn1-modules>=0.2.1->google-auth<3,>=1.6.3->tensorboard<2.15,>=2.14->tensorflow<2.15,>=2.14.0->tensorflow_text) (0.5.0)\n",
      "Requirement already satisfied: oauthlib>=3.0.0 in /usr/local/lib/python3.10/dist-packages (from requests-oauthlib>=0.7.0->google-auth-oauthlib<1.1,>=0.5->tensorboard<2.15,>=2.14->tensorflow<2.15,>=2.14.0->tensorflow_text) (3.2.2)\n",
      "\u001b[31mERROR: Invalid requirement: 'tensorflow_text=2.13.0'\n",
      "Hint: = is not a valid operator. Did you mean == ?\u001b[0m\u001b[31m\n",
      "\u001b[0mRequirement already satisfied: tensorflow_text in /usr/local/lib/python3.10/dist-packages (2.14.0)\n",
      "Requirement already satisfied: tensorflow-hub>=0.13.0 in /usr/local/lib/python3.10/dist-packages (from tensorflow_text) (0.14.0)\n",
      "Requirement already satisfied: tensorflow<2.15,>=2.14.0 in /usr/local/lib/python3.10/dist-packages (from tensorflow_text) (2.14.0)\n",
      "Requirement already satisfied: absl-py>=1.0.0 in /usr/local/lib/python3.10/dist-packages (from tensorflow<2.15,>=2.14.0->tensorflow_text) (1.4.0)\n",
      "Requirement already satisfied: astunparse>=1.6.0 in /usr/local/lib/python3.10/dist-packages (from tensorflow<2.15,>=2.14.0->tensorflow_text) (1.6.3)\n",
      "Requirement already satisfied: flatbuffers>=23.5.26 in /usr/local/lib/python3.10/dist-packages (from tensorflow<2.15,>=2.14.0->tensorflow_text) (23.5.26)\n",
      "Requirement already satisfied: gast!=0.5.0,!=0.5.1,!=0.5.2,>=0.2.1 in /usr/local/lib/python3.10/dist-packages (from tensorflow<2.15,>=2.14.0->tensorflow_text) (0.4.0)\n",
      "Requirement already satisfied: google-pasta>=0.1.1 in /usr/local/lib/python3.10/dist-packages (from tensorflow<2.15,>=2.14.0->tensorflow_text) (0.2.0)\n",
      "Requirement already satisfied: h5py>=2.9.0 in /usr/local/lib/python3.10/dist-packages (from tensorflow<2.15,>=2.14.0->tensorflow_text) (3.9.0)\n",
      "Requirement already satisfied: libclang>=13.0.0 in /usr/local/lib/python3.10/dist-packages (from tensorflow<2.15,>=2.14.0->tensorflow_text) (16.0.6)\n",
      "Requirement already satisfied: ml-dtypes==0.2.0 in /usr/local/lib/python3.10/dist-packages (from tensorflow<2.15,>=2.14.0->tensorflow_text) (0.2.0)\n",
      "Requirement already satisfied: numpy>=1.23.5 in /usr/local/lib/python3.10/dist-packages (from tensorflow<2.15,>=2.14.0->tensorflow_text) (1.23.5)\n",
      "Requirement already satisfied: opt-einsum>=2.3.2 in /usr/local/lib/python3.10/dist-packages (from tensorflow<2.15,>=2.14.0->tensorflow_text) (3.3.0)\n",
      "Requirement already satisfied: packaging in /usr/local/lib/python3.10/dist-packages (from tensorflow<2.15,>=2.14.0->tensorflow_text) (23.2)\n",
      "Requirement already satisfied: protobuf!=4.21.0,!=4.21.1,!=4.21.2,!=4.21.3,!=4.21.4,!=4.21.5,<5.0.0dev,>=3.20.3 in /usr/local/lib/python3.10/dist-packages (from tensorflow<2.15,>=2.14.0->tensorflow_text) (3.20.3)\n",
      "Requirement already satisfied: setuptools in /usr/local/lib/python3.10/dist-packages (from tensorflow<2.15,>=2.14.0->tensorflow_text) (67.7.2)\n",
      "Requirement already satisfied: six>=1.12.0 in /usr/local/lib/python3.10/dist-packages (from tensorflow<2.15,>=2.14.0->tensorflow_text) (1.16.0)\n",
      "Requirement already satisfied: termcolor>=1.1.0 in /usr/local/lib/python3.10/dist-packages (from tensorflow<2.15,>=2.14.0->tensorflow_text) (2.3.0)\n",
      "Requirement already satisfied: typing-extensions>=3.6.6 in /usr/local/lib/python3.10/dist-packages (from tensorflow<2.15,>=2.14.0->tensorflow_text) (4.5.0)\n",
      "Requirement already satisfied: wrapt<1.15,>=1.11.0 in /usr/local/lib/python3.10/dist-packages (from tensorflow<2.15,>=2.14.0->tensorflow_text) (1.14.1)\n",
      "Requirement already satisfied: tensorflow-io-gcs-filesystem>=0.23.1 in /usr/local/lib/python3.10/dist-packages (from tensorflow<2.15,>=2.14.0->tensorflow_text) (0.34.0)\n",
      "Requirement already satisfied: grpcio<2.0,>=1.24.3 in /usr/local/lib/python3.10/dist-packages (from tensorflow<2.15,>=2.14.0->tensorflow_text) (1.59.0)\n",
      "Requirement already satisfied: tensorboard<2.15,>=2.14 in /usr/local/lib/python3.10/dist-packages (from tensorflow<2.15,>=2.14.0->tensorflow_text) (2.14.1)\n",
      "Requirement already satisfied: tensorflow-estimator<2.15,>=2.14.0 in /usr/local/lib/python3.10/dist-packages (from tensorflow<2.15,>=2.14.0->tensorflow_text) (2.14.0)\n",
      "Requirement already satisfied: keras<2.15,>=2.14.0 in /usr/local/lib/python3.10/dist-packages (from tensorflow<2.15,>=2.14.0->tensorflow_text) (2.14.0)\n",
      "Requirement already satisfied: wheel<1.0,>=0.23.0 in /usr/local/lib/python3.10/dist-packages (from astunparse>=1.6.0->tensorflow<2.15,>=2.14.0->tensorflow_text) (0.41.2)\n",
      "Requirement already satisfied: google-auth<3,>=1.6.3 in /usr/local/lib/python3.10/dist-packages (from tensorboard<2.15,>=2.14->tensorflow<2.15,>=2.14.0->tensorflow_text) (2.17.3)\n",
      "Requirement already satisfied: google-auth-oauthlib<1.1,>=0.5 in /usr/local/lib/python3.10/dist-packages (from tensorboard<2.15,>=2.14->tensorflow<2.15,>=2.14.0->tensorflow_text) (1.0.0)\n",
      "Requirement already satisfied: markdown>=2.6.8 in /usr/local/lib/python3.10/dist-packages (from tensorboard<2.15,>=2.14->tensorflow<2.15,>=2.14.0->tensorflow_text) (3.4.4)\n",
      "Requirement already satisfied: requests<3,>=2.21.0 in /usr/local/lib/python3.10/dist-packages (from tensorboard<2.15,>=2.14->tensorflow<2.15,>=2.14.0->tensorflow_text) (2.31.0)\n",
      "Requirement already satisfied: tensorboard-data-server<0.8.0,>=0.7.0 in /usr/local/lib/python3.10/dist-packages (from tensorboard<2.15,>=2.14->tensorflow<2.15,>=2.14.0->tensorflow_text) (0.7.1)\n",
      "Requirement already satisfied: werkzeug>=1.0.1 in /usr/local/lib/python3.10/dist-packages (from tensorboard<2.15,>=2.14->tensorflow<2.15,>=2.14.0->tensorflow_text) (3.0.0)\n",
      "Requirement already satisfied: cachetools<6.0,>=2.0.0 in /usr/local/lib/python3.10/dist-packages (from google-auth<3,>=1.6.3->tensorboard<2.15,>=2.14->tensorflow<2.15,>=2.14.0->tensorflow_text) (5.3.1)\n",
      "Requirement already satisfied: pyasn1-modules>=0.2.1 in /usr/local/lib/python3.10/dist-packages (from google-auth<3,>=1.6.3->tensorboard<2.15,>=2.14->tensorflow<2.15,>=2.14.0->tensorflow_text) (0.3.0)\n",
      "Requirement already satisfied: rsa<5,>=3.1.4 in /usr/local/lib/python3.10/dist-packages (from google-auth<3,>=1.6.3->tensorboard<2.15,>=2.14->tensorflow<2.15,>=2.14.0->tensorflow_text) (4.9)\n",
      "Requirement already satisfied: requests-oauthlib>=0.7.0 in /usr/local/lib/python3.10/dist-packages (from google-auth-oauthlib<1.1,>=0.5->tensorboard<2.15,>=2.14->tensorflow<2.15,>=2.14.0->tensorflow_text) (1.3.1)\n",
      "Requirement already satisfied: charset-normalizer<4,>=2 in /usr/local/lib/python3.10/dist-packages (from requests<3,>=2.21.0->tensorboard<2.15,>=2.14->tensorflow<2.15,>=2.14.0->tensorflow_text) (3.3.0)\n",
      "Requirement already satisfied: idna<4,>=2.5 in /usr/local/lib/python3.10/dist-packages (from requests<3,>=2.21.0->tensorboard<2.15,>=2.14->tensorflow<2.15,>=2.14.0->tensorflow_text) (3.4)\n",
      "Requirement already satisfied: urllib3<3,>=1.21.1 in /usr/local/lib/python3.10/dist-packages (from requests<3,>=2.21.0->tensorboard<2.15,>=2.14->tensorflow<2.15,>=2.14.0->tensorflow_text) (2.0.6)\n",
      "Requirement already satisfied: certifi>=2017.4.17 in /usr/local/lib/python3.10/dist-packages (from requests<3,>=2.21.0->tensorboard<2.15,>=2.14->tensorflow<2.15,>=2.14.0->tensorflow_text) (2023.7.22)\n",
      "Requirement already satisfied: MarkupSafe>=2.1.1 in /usr/local/lib/python3.10/dist-packages (from werkzeug>=1.0.1->tensorboard<2.15,>=2.14->tensorflow<2.15,>=2.14.0->tensorflow_text) (2.1.3)\n",
      "Requirement already satisfied: pyasn1<0.6.0,>=0.4.6 in /usr/local/lib/python3.10/dist-packages (from pyasn1-modules>=0.2.1->google-auth<3,>=1.6.3->tensorboard<2.15,>=2.14->tensorflow<2.15,>=2.14.0->tensorflow_text) (0.5.0)\n",
      "Requirement already satisfied: oauthlib>=3.0.0 in /usr/local/lib/python3.10/dist-packages (from requests-oauthlib>=0.7.0->google-auth-oauthlib<1.1,>=0.5->tensorboard<2.15,>=2.14->tensorflow<2.15,>=2.14.0->tensorflow_text) (3.2.2)\n"
     ]
    }
   ],
   "source": [
    "!pip install tensorflow_text\n",
    "!pip install -q tensorflow_text=2.13.0\n",
    "!pip install tensorflow_text"
   ]
  },
  {
   "cell_type": "code",
   "execution_count": 63,
   "metadata": {
    "id": "XK3BGmRPE6Y4"
   },
   "outputs": [],
   "source": [
    "#!pip install --upgrade tensorflow tensorflow-estimator"
   ]
  },
  {
   "cell_type": "code",
   "execution_count": 44,
   "metadata": {
    "id": "jjTU3Z9g6LeZ"
   },
   "outputs": [],
   "source": [
    "import tensorflow as tf\n",
    "import tensorflow_hub as hub\n",
    "import tensorflow_text as text"
   ]
  },
  {
   "cell_type": "code",
   "execution_count": 45,
   "metadata": {
    "id": "BUHYTTIH6Oo5"
   },
   "outputs": [],
   "source": [
    "bert_preprocess = hub.KerasLayer(\"https://tfhub.dev/tensorflow/bert_en_uncased_preprocess/3\")\n",
    "bert_encoder = hub.KerasLayer(\"https://tfhub.dev/tensorflow/bert_en_uncased_L-12_H-768_A-12/4\")"
   ]
  },
  {
   "cell_type": "code",
   "execution_count": 46,
   "metadata": {
    "colab": {
     "base_uri": "https://localhost:8080/"
    },
    "id": "in27QgPX6Ro7",
    "outputId": "8289bfe4-3d3d-4b22-b080-d9b376d8e43a"
   },
   "outputs": [
    {
     "data": {
      "text/plain": [
       "<tf.Tensor: shape=(2, 768), dtype=float32, numpy=\n",
       "array([[-0.84351724, -0.5132727 , -0.88845736, ..., -0.7474883 ,\n",
       "        -0.75314754,  0.91964495],\n",
       "       [-0.87208354, -0.50543964, -0.94446665, ..., -0.85847497,\n",
       "        -0.71745336,  0.88082975]], dtype=float32)>"
      ]
     },
     "execution_count": 46,
     "metadata": {},
     "output_type": "execute_result"
    }
   ],
   "source": [
    "def get_sentence_embeding(sentences):\n",
    "    preprocessed_text = bert_preprocess(sentences)\n",
    "    return bert_encoder(preprocessed_text)['pooled_output']\n",
    "\n",
    "get_sentence_embeding([\n",
    "    \"500$ discount. hurry up\",\n",
    "    \"Bhavin, are you up for a volleybal game tomorrow?\"]\n",
    ")"
   ]
  },
  {
   "cell_type": "markdown",
   "metadata": {
    "id": "5KUgWG5T7FH0"
   },
   "source": [
    "#Model Building"
   ]
  },
  {
   "cell_type": "code",
   "execution_count": 47,
   "metadata": {
    "id": "kRTvEMoY64RQ"
   },
   "outputs": [],
   "source": [
    "# Bert layers\n",
    "text_input = tf.keras.layers.Input(shape=(), dtype=tf.string, name='text')\n",
    "preprocessed_text = bert_preprocess(text_input)\n",
    "outputs = bert_encoder(preprocessed_text)\n",
    "\n",
    "# Neural network layers\n",
    "l = tf.keras.layers.Dropout(0.2, name=\"dropout\")(outputs['pooled_output'])\n",
    "l = tf.keras.layers.Dense(6, activation='relu', name=\"output\")(l)\n",
    "l = tf.keras.layers.Dense(6, activation='softmax', name=\"class_output\")(l)  # Add softmax activation for multi-class classification\n",
    "# Use inputs and outputs to construct a final model\n",
    "model = tf.keras.Model(inputs=[text_input], outputs=[l])"
   ]
  },
  {
   "cell_type": "code",
   "execution_count": 48,
   "metadata": {
    "colab": {
     "base_uri": "https://localhost:8080/"
    },
    "id": "1oN_YY4X7KOv",
    "outputId": "91775f15-fb9b-417f-db28-b21152306da3"
   },
   "outputs": [
    {
     "name": "stdout",
     "output_type": "stream",
     "text": [
      "Model: \"model\"\n",
      "__________________________________________________________________________________________________\n",
      " Layer (type)                Output Shape                 Param #   Connected to                  \n",
      "==================================================================================================\n",
      " text (InputLayer)           [(None,)]                    0         []                            \n",
      "                                                                                                  \n",
      " keras_layer (KerasLayer)    {'input_mask': (None, 128)   0         ['text[0][0]']                \n",
      "                             , 'input_word_ids': (None,                                           \n",
      "                              128),                                                               \n",
      "                              'input_type_ids': (None,                                            \n",
      "                             128)}                                                                \n",
      "                                                                                                  \n",
      " keras_layer_1 (KerasLayer)  {'pooled_output': (None, 7   1094822   ['keras_layer[0][0]',         \n",
      "                             68),                         41         'keras_layer[0][1]',         \n",
      "                              'sequence_output': (None,              'keras_layer[0][2]']         \n",
      "                              128, 768),                                                          \n",
      "                              'encoder_outputs': [(None                                           \n",
      "                             , 128, 768),                                                         \n",
      "                              (None, 128, 768),                                                   \n",
      "                              (None, 128, 768),                                                   \n",
      "                              (None, 128, 768),                                                   \n",
      "                              (None, 128, 768),                                                   \n",
      "                              (None, 128, 768),                                                   \n",
      "                              (None, 128, 768),                                                   \n",
      "                              (None, 128, 768),                                                   \n",
      "                              (None, 128, 768),                                                   \n",
      "                              (None, 128, 768),                                                   \n",
      "                              (None, 128, 768),                                                   \n",
      "                              (None, 128, 768)],                                                  \n",
      "                              'default': (None, 768)}                                             \n",
      "                                                                                                  \n",
      " dropout (Dropout)           (None, 768)                  0         ['keras_layer_1[0][13]']      \n",
      "                                                                                                  \n",
      " output (Dense)              (None, 6)                    4614      ['dropout[0][0]']             \n",
      "                                                                                                  \n",
      " class_output (Dense)        (None, 6)                    42        ['output[0][0]']              \n",
      "                                                                                                  \n",
      "==================================================================================================\n",
      "Total params: 109486897 (417.66 MB)\n",
      "Trainable params: 4656 (18.19 KB)\n",
      "Non-trainable params: 109482241 (417.64 MB)\n",
      "__________________________________________________________________________________________________\n"
     ]
    }
   ],
   "source": [
    "model.summary()"
   ]
  },
  {
   "cell_type": "code",
   "execution_count": 49,
   "metadata": {
    "id": "dOCO2e4d7PgT"
   },
   "outputs": [],
   "source": [
    "METRICS = [\n",
    "      tf.keras.metrics.BinaryAccuracy(name='accuracy'),\n",
    "      tf.keras.metrics.Precision(name='precision'),\n",
    "      tf.keras.metrics.Recall(name='recall')\n",
    "]\n",
    "\n",
    "model.compile(optimizer='adam',\n",
    "              loss='binary_crossentropy',\n",
    "              metrics=METRICS)"
   ]
  },
  {
   "cell_type": "code",
   "execution_count": 50,
   "metadata": {
    "colab": {
     "base_uri": "https://localhost:8080/"
    },
    "id": "KdHb-7I57TFT",
    "outputId": "96b6d367-23a7-459f-acc6-ba2961d973f9"
   },
   "outputs": [
    {
     "name": "stdout",
     "output_type": "stream",
     "text": [
      "1079/1079 [==============================] - 353s 315ms/step - loss: 0.2556 - accuracy: 0.9239 - precision: 0.0077 - recall: 0.0053\n"
     ]
    },
    {
     "data": {
      "text/plain": [
       "<keras.src.callbacks.History at 0x7e1dabd1f0d0>"
      ]
     },
     "execution_count": 50,
     "metadata": {},
     "output_type": "execute_result"
    }
   ],
   "source": [
    "model.fit(X_train, y_train, epochs=1,batch_size =30)"
   ]
  },
  {
   "cell_type": "code",
   "execution_count": 51,
   "metadata": {
    "colab": {
     "base_uri": "https://localhost:8080/"
    },
    "id": "DU7SHjqc75vz",
    "outputId": "5f162fdd-9c72-4086-e459-38dad9573773"
   },
   "outputs": [
    {
     "name": "stdout",
     "output_type": "stream",
     "text": [
      "338/338 [==============================] - 120s 351ms/step - loss: 0.1472 - accuracy: 0.9541 - precision: 0.0000e+00 - recall: 0.0000e+00\n"
     ]
    },
    {
     "data": {
      "text/plain": [
       "[0.14716258645057678, 0.9540565609931946, 0.0, 0.0]"
      ]
     },
     "execution_count": 51,
     "metadata": {},
     "output_type": "execute_result"
    }
   ],
   "source": [
    "model.evaluate(X_test, y_test)"
   ]
  },
  {
   "cell_type": "code",
   "execution_count": 52,
   "metadata": {
    "colab": {
     "base_uri": "https://localhost:8080/"
    },
    "id": "EukOLQ108Arc",
    "outputId": "1c1a803e-9a7f-475f-b457-17b20d2356e8"
   },
   "outputs": [
    {
     "name": "stdout",
     "output_type": "stream",
     "text": [
      "338/338 [==============================] - 115s 340ms/step\n"
     ]
    }
   ],
   "source": [
    "y_predicted = model.predict(X_test)\n",
    "#y_predicted = y_predicted.flatten()"
   ]
  },
  {
   "cell_type": "code",
   "execution_count": 53,
   "metadata": {
    "colab": {
     "base_uri": "https://localhost:8080/"
    },
    "id": "IB1oEF_QcTB5",
    "outputId": "2b34fc24-d404-4799-d278-bd2004484a61"
   },
   "outputs": [
    {
     "data": {
      "text/plain": [
       "array([[0.45627138, 0.07788804, 0.22004025, 0.01269655, 0.20139967,\n",
       "        0.03170411],\n",
       "       [0.4634338 , 0.07592829, 0.21775705, 0.01161633, 0.2014155 ,\n",
       "        0.02984903],\n",
       "       [0.45494938, 0.07824979, 0.22045234, 0.01290489, 0.20138809,\n",
       "        0.0320555 ],\n",
       "       ...,\n",
       "       [0.45942742, 0.07702441, 0.21904458, 0.0122106 , 0.20141639,\n",
       "        0.0308766 ],\n",
       "       [0.45576078, 0.07802774, 0.22019975, 0.01277668, 0.20139553,\n",
       "        0.03183949],\n",
       "       [0.45899835, 0.07714181, 0.21918088, 0.01227572, 0.20141499,\n",
       "        0.03098816]], dtype=float32)"
      ]
     },
     "execution_count": 53,
     "metadata": {},
     "output_type": "execute_result"
    }
   ],
   "source": [
    "y_predicted"
   ]
  },
  {
   "cell_type": "code",
   "execution_count": 56,
   "metadata": {
    "id": "2HkW14BAfbSS"
   },
   "outputs": [],
   "source": [
    "y_pred = (y_predicted > 0.5)"
   ]
  },
  {
   "cell_type": "code",
   "execution_count": 57,
   "metadata": {
    "id": "VS6t7WMv8BTk"
   },
   "outputs": [],
   "source": [
    "from sklearn.metrics import classification_report"
   ]
  },
  {
   "cell_type": "code",
   "execution_count": 58,
   "metadata": {
    "colab": {
     "base_uri": "https://localhost:8080/"
    },
    "id": "KWIISvrI8Mpw",
    "outputId": "b8148e2c-6887-4011-a808-6d6f4c9ce699"
   },
   "outputs": [
    {
     "name": "stdout",
     "output_type": "stream",
     "text": [
      "              precision    recall  f1-score   support\n",
      "\n",
      "           0       0.00      0.00      0.00      1276\n",
      "           1       0.00      0.00      0.00       160\n",
      "           2       0.00      0.00      0.00       728\n",
      "           3       0.00      0.00      0.00        42\n",
      "           4       0.00      0.00      0.00       663\n",
      "           5       0.00      0.00      0.00        96\n",
      "\n",
      "   micro avg       0.00      0.00      0.00      2965\n",
      "   macro avg       0.00      0.00      0.00      2965\n",
      "weighted avg       0.00      0.00      0.00      2965\n",
      " samples avg       0.00      0.00      0.00      2965\n",
      "\n"
     ]
    }
   ],
   "source": [
    "print(classification_report(y_test, y_pred))"
   ]
  },
  {
   "cell_type": "markdown",
   "metadata": {
    "id": "PZJeRiZcsCkI"
   },
   "source": [
    "##Deployment"
   ]
  },
  {
   "cell_type": "code",
   "execution_count": 33,
   "metadata": {
    "id": "y0go9vZZKVyu"
   },
   "outputs": [],
   "source": [
    "import pickle\n",
    "# open a file, where you ant to store the data\n",
    "file = open('Toxic_classification_log.pkl', 'wb') #opened for writing binary code.\n",
    "# Fit the MultiOutputClassifier model\n",
    "#model = MultiOutputClassifier(XGBClassifier())\n",
    "logreg_clf = LogisticRegression(random_state=42,class_weight = 'balanced')\n",
    "clf = MultiOutputClassifier(logreg_clf)  # Replace YourClassifier with the desired classifier\n",
    "model = clf.fit(X_train_tfid, y_train)\n",
    "pickle.dump(model,file)\n",
    "file.close()"
   ]
  },
  {
   "cell_type": "code",
   "execution_count": 34,
   "metadata": {
    "colab": {
     "base_uri": "https://localhost:8080/"
    },
    "id": "mHk2m4zxONij",
    "outputId": "bfd1d727-4985-4b7d-df07-2ca79b4de437"
   },
   "outputs": [
    {
     "name": "stdout",
     "output_type": "stream",
     "text": [
      "Requirement already satisfied: streamlit in c:\\users\\ygred\\anaconda3\\lib\\site-packages (1.26.0)\n",
      "Requirement already satisfied: rich<14,>=10.14.0 in c:\\users\\ygred\\anaconda3\\lib\\site-packages (from streamlit) (13.5.2)\n",
      "Requirement already satisfied: pyarrow>=6.0 in c:\\users\\ygred\\anaconda3\\lib\\site-packages (from streamlit) (13.0.0)\n",
      "Requirement already satisfied: tzlocal<5,>=1.1 in c:\\users\\ygred\\anaconda3\\lib\\site-packages (from streamlit) (4.3.1)\n",
      "Requirement already satisfied: protobuf<5,>=3.20 in c:\\users\\ygred\\anaconda3\\lib\\site-packages (from streamlit) (4.23.4)\n",
      "Requirement already satisfied: gitpython!=3.1.19,<4,>=3.0.7 in c:\\users\\ygred\\anaconda3\\lib\\site-packages (from streamlit) (3.1.33)\n",
      "Requirement already satisfied: tenacity<9,>=8.1.0 in c:\\users\\ygred\\anaconda3\\lib\\site-packages (from streamlit) (8.2.3)\n",
      "Requirement already satisfied: pydeck<1,>=0.8 in c:\\users\\ygred\\anaconda3\\lib\\site-packages (from streamlit) (0.8.0)\n",
      "Requirement already satisfied: pympler<2,>=0.9 in c:\\users\\ygred\\anaconda3\\lib\\site-packages (from streamlit) (1.0.1)\n",
      "Requirement already satisfied: click<9,>=7.0 in c:\\users\\ygred\\anaconda3\\lib\\site-packages (from streamlit) (8.0.4)\n",
      "Requirement already satisfied: blinker<2,>=1.0.0 in c:\\users\\ygred\\anaconda3\\lib\\site-packages (from streamlit) (1.6.2)\n",
      "Requirement already satisfied: tornado<7,>=6.0.3 in c:\\users\\ygred\\anaconda3\\lib\\site-packages (from streamlit) (6.1)\n",
      "Requirement already satisfied: typing-extensions<5,>=4.1.0 in c:\\users\\ygred\\anaconda3\\lib\\site-packages (from streamlit) (4.8.0)\n",
      "Requirement already satisfied: pandas<3,>=1.3.0 in c:\\users\\ygred\\anaconda3\\lib\\site-packages (from streamlit) (1.4.4)\n",
      "Requirement already satisfied: pillow<10,>=7.1.0 in c:\\users\\ygred\\anaconda3\\lib\\site-packages (from streamlit) (9.2.0)\n",
      "Requirement already satisfied: validators<1,>=0.2 in c:\\users\\ygred\\anaconda3\\lib\\site-packages (from streamlit) (0.21.2)\n",
      "Requirement already satisfied: importlib-metadata<7,>=1.4 in c:\\users\\ygred\\anaconda3\\lib\\site-packages (from streamlit) (4.11.3)\n",
      "Requirement already satisfied: numpy<2,>=1.19.3 in c:\\users\\ygred\\anaconda3\\lib\\site-packages (from streamlit) (1.24.3)\n",
      "Requirement already satisfied: toml<2,>=0.10.1 in c:\\users\\ygred\\anaconda3\\lib\\site-packages (from streamlit) (0.10.2)\n",
      "Requirement already satisfied: altair<6,>=4.0 in c:\\users\\ygred\\anaconda3\\lib\\site-packages (from streamlit) (5.1.1)\n",
      "Requirement already satisfied: packaging<24,>=16.8 in c:\\users\\ygred\\anaconda3\\lib\\site-packages (from streamlit) (21.3)\n",
      "Requirement already satisfied: cachetools<6,>=4.0 in c:\\users\\ygred\\anaconda3\\lib\\site-packages (from streamlit) (5.3.1)\n",
      "Requirement already satisfied: python-dateutil<3,>=2.7.3 in c:\\users\\ygred\\anaconda3\\lib\\site-packages (from streamlit) (2.8.2)\n",
      "Requirement already satisfied: requests<3,>=2.18 in c:\\users\\ygred\\anaconda3\\lib\\site-packages (from streamlit) (2.28.1)\n",
      "Requirement already satisfied: watchdog>=2.1.5 in c:\\users\\ygred\\anaconda3\\lib\\site-packages (from streamlit) (2.1.6)\n",
      "Requirement already satisfied: toolz in c:\\users\\ygred\\anaconda3\\lib\\site-packages (from altair<6,>=4.0->streamlit) (0.11.2)\n",
      "Requirement already satisfied: jinja2 in c:\\users\\ygred\\anaconda3\\lib\\site-packages (from altair<6,>=4.0->streamlit) (2.11.3)\n",
      "Requirement already satisfied: jsonschema>=3.0 in c:\\users\\ygred\\anaconda3\\lib\\site-packages (from altair<6,>=4.0->streamlit) (4.16.0)\n",
      "Requirement already satisfied: colorama in c:\\users\\ygred\\anaconda3\\lib\\site-packages (from click<9,>=7.0->streamlit) (0.4.6)\n",
      "Requirement already satisfied: gitdb<5,>=4.0.1 in c:\\users\\ygred\\anaconda3\\lib\\site-packages (from gitpython!=3.1.19,<4,>=3.0.7->streamlit) (4.0.10)\n",
      "Requirement already satisfied: zipp>=0.5 in c:\\users\\ygred\\anaconda3\\lib\\site-packages (from importlib-metadata<7,>=1.4->streamlit) (3.8.0)\n",
      "Requirement already satisfied: pyparsing!=3.0.5,>=2.0.2 in c:\\users\\ygred\\anaconda3\\lib\\site-packages (from packaging<24,>=16.8->streamlit) (3.0.9)\n",
      "Requirement already satisfied: pytz>=2020.1 in c:\\users\\ygred\\anaconda3\\lib\\site-packages (from pandas<3,>=1.3.0->streamlit) (2022.1)\n",
      "Requirement already satisfied: six>=1.5 in c:\\users\\ygred\\anaconda3\\lib\\site-packages (from python-dateutil<3,>=2.7.3->streamlit) (1.16.0)\n",
      "Requirement already satisfied: charset-normalizer<3,>=2 in c:\\users\\ygred\\anaconda3\\lib\\site-packages (from requests<3,>=2.18->streamlit) (2.0.4)\n",
      "Requirement already satisfied: certifi>=2017.4.17 in c:\\users\\ygred\\anaconda3\\lib\\site-packages (from requests<3,>=2.18->streamlit) (2022.9.14)\n",
      "Requirement already satisfied: urllib3<1.27,>=1.21.1 in c:\\users\\ygred\\anaconda3\\lib\\site-packages (from requests<3,>=2.18->streamlit) (1.26.11)\n",
      "Requirement already satisfied: idna<4,>=2.5 in c:\\users\\ygred\\anaconda3\\lib\\site-packages (from requests<3,>=2.18->streamlit) (3.3)\n",
      "Requirement already satisfied: pygments<3.0.0,>=2.13.0 in c:\\users\\ygred\\anaconda3\\lib\\site-packages (from rich<14,>=10.14.0->streamlit) (2.16.1)\n",
      "Requirement already satisfied: markdown-it-py>=2.2.0 in c:\\users\\ygred\\anaconda3\\lib\\site-packages (from rich<14,>=10.14.0->streamlit) (3.0.0)\n",
      "Requirement already satisfied: tzdata in c:\\users\\ygred\\anaconda3\\lib\\site-packages (from tzlocal<5,>=1.1->streamlit) (2023.3)\n",
      "Requirement already satisfied: pytz-deprecation-shim in c:\\users\\ygred\\anaconda3\\lib\\site-packages (from tzlocal<5,>=1.1->streamlit) (0.1.0.post0)\n",
      "Requirement already satisfied: smmap<6,>=3.0.1 in c:\\users\\ygred\\anaconda3\\lib\\site-packages (from gitdb<5,>=4.0.1->gitpython!=3.1.19,<4,>=3.0.7->streamlit) (5.0.0)\n",
      "Requirement already satisfied: MarkupSafe>=0.23 in c:\\users\\ygred\\anaconda3\\lib\\site-packages (from jinja2->altair<6,>=4.0->streamlit) (2.0.1)\n",
      "Requirement already satisfied: pyrsistent!=0.17.0,!=0.17.1,!=0.17.2,>=0.14.0 in c:\\users\\ygred\\anaconda3\\lib\\site-packages (from jsonschema>=3.0->altair<6,>=4.0->streamlit) (0.18.0)\n",
      "Requirement already satisfied: attrs>=17.4.0 in c:\\users\\ygred\\anaconda3\\lib\\site-packages (from jsonschema>=3.0->altair<6,>=4.0->streamlit) (21.4.0)\n",
      "Requirement already satisfied: mdurl~=0.1 in c:\\users\\ygred\\anaconda3\\lib\\site-packages (from markdown-it-py>=2.2.0->rich<14,>=10.14.0->streamlit) (0.1.2)\n"
     ]
    }
   ],
   "source": [
    "!pip install streamlit"
   ]
  },
  {
   "cell_type": "code",
   "execution_count": 35,
   "metadata": {
    "id": "AZGmWjit-LNV"
   },
   "outputs": [],
   "source": [
    "import pickle\n",
    "with open('Toxic_classification_log.pkl', 'rb') as f:\n",
    "    model = pickle.load(f)"
   ]
  },
  {
   "cell_type": "code",
   "execution_count": 164,
   "metadata": {
    "colab": {
     "base_uri": "https://localhost:8080/"
    },
    "id": "LqzzkekQp-Sz",
    "outputId": "6bd1fd04-4322-4176-9e2b-1f06547bf210"
   },
   "outputs": [
    {
     "data": {
      "text/plain": [
       "id                 0\n",
       "comment_text     902\n",
       "toxic              3\n",
       "severe_toxic       3\n",
       "obscene            3\n",
       "threat             3\n",
       "insult             3\n",
       "identity_hate      3\n",
       "dtype: int64"
      ]
     },
     "execution_count": 164,
     "metadata": {},
     "output_type": "execute_result"
    }
   ],
   "source": [
    "ddf.isna().sum()"
   ]
  },
  {
   "cell_type": "code",
   "execution_count": 165,
   "metadata": {
    "id": "o6btEFfxqLIV"
   },
   "outputs": [],
   "source": [
    "ddf.dropna(inplace=True)"
   ]
  },
  {
   "cell_type": "code",
   "execution_count": 166,
   "metadata": {
    "colab": {
     "base_uri": "https://localhost:8080/",
     "height": 912
    },
    "id": "b3zoTlu_qGVl",
    "outputId": "2e233066-4c34-4893-9961-25fe0136ef49"
   },
   "outputs": [
    {
     "data": {
      "text/html": [
       "\n",
       "  <div id=\"df-78f10ccf-550f-4605-a0e4-8c5a5d6ccf3f\" class=\"colab-df-container\">\n",
       "    <div>\n",
       "<style scoped>\n",
       "    .dataframe tbody tr th:only-of-type {\n",
       "        vertical-align: middle;\n",
       "    }\n",
       "\n",
       "    .dataframe tbody tr th {\n",
       "        vertical-align: top;\n",
       "    }\n",
       "\n",
       "    .dataframe thead th {\n",
       "        text-align: right;\n",
       "    }\n",
       "</style>\n",
       "<table border=\"1\" class=\"dataframe\">\n",
       "  <thead>\n",
       "    <tr style=\"text-align: right;\">\n",
       "      <th></th>\n",
       "      <th>id</th>\n",
       "      <th>comment_text</th>\n",
       "      <th>toxic</th>\n",
       "      <th>severe_toxic</th>\n",
       "      <th>obscene</th>\n",
       "      <th>threat</th>\n",
       "      <th>insult</th>\n",
       "      <th>identity_hate</th>\n",
       "    </tr>\n",
       "  </thead>\n",
       "  <tbody>\n",
       "    <tr>\n",
       "      <th>0</th>\n",
       "      <td>Why the edits made under my username Hardcore ...</td>\n",
       "      <td>just closure some gas after i voted at new yor...</td>\n",
       "      <td>0.0</td>\n",
       "      <td>0.0</td>\n",
       "      <td>0.0</td>\n",
       "      <td>0.0</td>\n",
       "      <td>0.0</td>\n",
       "      <td>0.0</td>\n",
       "    </tr>\n",
       "    <tr>\n",
       "      <th>1</th>\n",
       "      <td>Congratulations from me as well</td>\n",
       "      <td>use tools well talk</td>\n",
       "      <td>0.0</td>\n",
       "      <td>0.0</td>\n",
       "      <td>0.0</td>\n",
       "      <td>0.0</td>\n",
       "      <td>0.0</td>\n",
       "      <td>0.0</td>\n",
       "    </tr>\n",
       "    <tr>\n",
       "      <th>2</th>\n",
       "      <td>\"0002bcb3da6cb337\"</td>\n",
       "      <td>cocksucker before piss around my work</td>\n",
       "      <td>1.0</td>\n",
       "      <td>1.0</td>\n",
       "      <td>1.0</td>\n",
       "      <td>0.0</td>\n",
       "      <td>1.0</td>\n",
       "      <td>0.0</td>\n",
       "    </tr>\n",
       "    <tr>\n",
       "      <th>3</th>\n",
       "      <td>\"00040093b2687caa\"</td>\n",
       "      <td>alignment this subject which are contrary thos...</td>\n",
       "      <td>0.0</td>\n",
       "      <td>0.0</td>\n",
       "      <td>0.0</td>\n",
       "      <td>0.0</td>\n",
       "      <td>0.0</td>\n",
       "      <td>0.0</td>\n",
       "    </tr>\n",
       "    <tr>\n",
       "      <th>4</th>\n",
       "      <td>Don't look</td>\n",
       "      <td>come think comming back tosser</td>\n",
       "      <td>1.0</td>\n",
       "      <td>0.0</td>\n",
       "      <td>0.0</td>\n",
       "      <td>0.0</td>\n",
       "      <td>0.0</td>\n",
       "      <td>0.0</td>\n",
       "    </tr>\n",
       "    <tr>\n",
       "      <th>...</th>\n",
       "      <td>...</td>\n",
       "      <td>...</td>\n",
       "      <td>...</td>\n",
       "      <td>...</td>\n",
       "      <td>...</td>\n",
       "      <td>...</td>\n",
       "      <td>...</td>\n",
       "      <td>...</td>\n",
       "    </tr>\n",
       "    <tr>\n",
       "      <th>43135</th>\n",
       "      <td>\"268dc27badae0ea8\"</td>\n",
       "      <td>so how do tackle those that gang up against ju...</td>\n",
       "      <td>0.0</td>\n",
       "      <td>0.0</td>\n",
       "      <td>0.0</td>\n",
       "      <td>0.0</td>\n",
       "      <td>0.0</td>\n",
       "      <td>0.0</td>\n",
       "    </tr>\n",
       "    <tr>\n",
       "      <th>43136</th>\n",
       "      <td>\"269fd86a5a73579b\"</td>\n",
       "      <td>i have better idea who prankster now</td>\n",
       "      <td>0.0</td>\n",
       "      <td>0.0</td>\n",
       "      <td>0.0</td>\n",
       "      <td>0.0</td>\n",
       "      <td>0.0</td>\n",
       "      <td>0.0</td>\n",
       "    </tr>\n",
       "    <tr>\n",
       "      <th>43137</th>\n",
       "      <td>\"26a4827441d6024d\"</td>\n",
       "      <td>appear be alternate account supreme deliciousness</td>\n",
       "      <td>0.0</td>\n",
       "      <td>0.0</td>\n",
       "      <td>0.0</td>\n",
       "      <td>0.0</td>\n",
       "      <td>0.0</td>\n",
       "      <td>0.0</td>\n",
       "    </tr>\n",
       "    <tr>\n",
       "      <th>43138</th>\n",
       "      <td>\"26ae52ba772cacaf\"</td>\n",
       "      <td>both wpordinal station naming convention say s...</td>\n",
       "      <td>0.0</td>\n",
       "      <td>0.0</td>\n",
       "      <td>0.0</td>\n",
       "      <td>0.0</td>\n",
       "      <td>0.0</td>\n",
       "      <td>0.0</td>\n",
       "    </tr>\n",
       "    <tr>\n",
       "      <th>43139</th>\n",
       "      <td>\"26b305124ddfced6\"</td>\n",
       "      <td>strongly agree i believe there should be three...</td>\n",
       "      <td>0.0</td>\n",
       "      <td>0.0</td>\n",
       "      <td>0.0</td>\n",
       "      <td>0.0</td>\n",
       "      <td>0.0</td>\n",
       "      <td>0.0</td>\n",
       "    </tr>\n",
       "  </tbody>\n",
       "</table>\n",
       "<p>42238 rows × 8 columns</p>\n",
       "</div>\n",
       "    <div class=\"colab-df-buttons\">\n",
       "\n",
       "  <div class=\"colab-df-container\">\n",
       "    <button class=\"colab-df-convert\" onclick=\"convertToInteractive('df-78f10ccf-550f-4605-a0e4-8c5a5d6ccf3f')\"\n",
       "            title=\"Convert this dataframe to an interactive table.\"\n",
       "            style=\"display:none;\">\n",
       "\n",
       "  <svg xmlns=\"http://www.w3.org/2000/svg\" height=\"24px\" viewBox=\"0 -960 960 960\">\n",
       "    <path d=\"M120-120v-720h720v720H120Zm60-500h600v-160H180v160Zm220 220h160v-160H400v160Zm0 220h160v-160H400v160ZM180-400h160v-160H180v160Zm440 0h160v-160H620v160ZM180-180h160v-160H180v160Zm440 0h160v-160H620v160Z\"/>\n",
       "  </svg>\n",
       "    </button>\n",
       "\n",
       "  <style>\n",
       "    .colab-df-container {\n",
       "      display:flex;\n",
       "      gap: 12px;\n",
       "    }\n",
       "\n",
       "    .colab-df-convert {\n",
       "      background-color: #E8F0FE;\n",
       "      border: none;\n",
       "      border-radius: 50%;\n",
       "      cursor: pointer;\n",
       "      display: none;\n",
       "      fill: #1967D2;\n",
       "      height: 32px;\n",
       "      padding: 0 0 0 0;\n",
       "      width: 32px;\n",
       "    }\n",
       "\n",
       "    .colab-df-convert:hover {\n",
       "      background-color: #E2EBFA;\n",
       "      box-shadow: 0px 1px 2px rgba(60, 64, 67, 0.3), 0px 1px 3px 1px rgba(60, 64, 67, 0.15);\n",
       "      fill: #174EA6;\n",
       "    }\n",
       "\n",
       "    .colab-df-buttons div {\n",
       "      margin-bottom: 4px;\n",
       "    }\n",
       "\n",
       "    [theme=dark] .colab-df-convert {\n",
       "      background-color: #3B4455;\n",
       "      fill: #D2E3FC;\n",
       "    }\n",
       "\n",
       "    [theme=dark] .colab-df-convert:hover {\n",
       "      background-color: #434B5C;\n",
       "      box-shadow: 0px 1px 3px 1px rgba(0, 0, 0, 0.15);\n",
       "      filter: drop-shadow(0px 1px 2px rgba(0, 0, 0, 0.3));\n",
       "      fill: #FFFFFF;\n",
       "    }\n",
       "  </style>\n",
       "\n",
       "    <script>\n",
       "      const buttonEl =\n",
       "        document.querySelector('#df-78f10ccf-550f-4605-a0e4-8c5a5d6ccf3f button.colab-df-convert');\n",
       "      buttonEl.style.display =\n",
       "        google.colab.kernel.accessAllowed ? 'block' : 'none';\n",
       "\n",
       "      async function convertToInteractive(key) {\n",
       "        const element = document.querySelector('#df-78f10ccf-550f-4605-a0e4-8c5a5d6ccf3f');\n",
       "        const dataTable =\n",
       "          await google.colab.kernel.invokeFunction('convertToInteractive',\n",
       "                                                    [key], {});\n",
       "        if (!dataTable) return;\n",
       "\n",
       "        const docLinkHtml = 'Like what you see? Visit the ' +\n",
       "          '<a target=\"_blank\" href=https://colab.research.google.com/notebooks/data_table.ipynb>data table notebook</a>'\n",
       "          + ' to learn more about interactive tables.';\n",
       "        element.innerHTML = '';\n",
       "        dataTable['output_type'] = 'display_data';\n",
       "        await google.colab.output.renderOutput(dataTable, element);\n",
       "        const docLink = document.createElement('div');\n",
       "        docLink.innerHTML = docLinkHtml;\n",
       "        element.appendChild(docLink);\n",
       "      }\n",
       "    </script>\n",
       "  </div>\n",
       "\n",
       "\n",
       "<div id=\"df-870cec75-2222-4d6f-824e-17b82136e30c\">\n",
       "  <button class=\"colab-df-quickchart\" onclick=\"quickchart('df-870cec75-2222-4d6f-824e-17b82136e30c')\"\n",
       "            title=\"Suggest charts.\"\n",
       "            style=\"display:none;\">\n",
       "\n",
       "<svg xmlns=\"http://www.w3.org/2000/svg\" height=\"24px\"viewBox=\"0 0 24 24\"\n",
       "     width=\"24px\">\n",
       "    <g>\n",
       "        <path d=\"M19 3H5c-1.1 0-2 .9-2 2v14c0 1.1.9 2 2 2h14c1.1 0 2-.9 2-2V5c0-1.1-.9-2-2-2zM9 17H7v-7h2v7zm4 0h-2V7h2v10zm4 0h-2v-4h2v4z\"/>\n",
       "    </g>\n",
       "</svg>\n",
       "  </button>\n",
       "\n",
       "<style>\n",
       "  .colab-df-quickchart {\n",
       "      --bg-color: #E8F0FE;\n",
       "      --fill-color: #1967D2;\n",
       "      --hover-bg-color: #E2EBFA;\n",
       "      --hover-fill-color: #174EA6;\n",
       "      --disabled-fill-color: #AAA;\n",
       "      --disabled-bg-color: #DDD;\n",
       "  }\n",
       "\n",
       "  [theme=dark] .colab-df-quickchart {\n",
       "      --bg-color: #3B4455;\n",
       "      --fill-color: #D2E3FC;\n",
       "      --hover-bg-color: #434B5C;\n",
       "      --hover-fill-color: #FFFFFF;\n",
       "      --disabled-bg-color: #3B4455;\n",
       "      --disabled-fill-color: #666;\n",
       "  }\n",
       "\n",
       "  .colab-df-quickchart {\n",
       "    background-color: var(--bg-color);\n",
       "    border: none;\n",
       "    border-radius: 50%;\n",
       "    cursor: pointer;\n",
       "    display: none;\n",
       "    fill: var(--fill-color);\n",
       "    height: 32px;\n",
       "    padding: 0;\n",
       "    width: 32px;\n",
       "  }\n",
       "\n",
       "  .colab-df-quickchart:hover {\n",
       "    background-color: var(--hover-bg-color);\n",
       "    box-shadow: 0 1px 2px rgba(60, 64, 67, 0.3), 0 1px 3px 1px rgba(60, 64, 67, 0.15);\n",
       "    fill: var(--button-hover-fill-color);\n",
       "  }\n",
       "\n",
       "  .colab-df-quickchart-complete:disabled,\n",
       "  .colab-df-quickchart-complete:disabled:hover {\n",
       "    background-color: var(--disabled-bg-color);\n",
       "    fill: var(--disabled-fill-color);\n",
       "    box-shadow: none;\n",
       "  }\n",
       "\n",
       "  .colab-df-spinner {\n",
       "    border: 2px solid var(--fill-color);\n",
       "    border-color: transparent;\n",
       "    border-bottom-color: var(--fill-color);\n",
       "    animation:\n",
       "      spin 1s steps(1) infinite;\n",
       "  }\n",
       "\n",
       "  @keyframes spin {\n",
       "    0% {\n",
       "      border-color: transparent;\n",
       "      border-bottom-color: var(--fill-color);\n",
       "      border-left-color: var(--fill-color);\n",
       "    }\n",
       "    20% {\n",
       "      border-color: transparent;\n",
       "      border-left-color: var(--fill-color);\n",
       "      border-top-color: var(--fill-color);\n",
       "    }\n",
       "    30% {\n",
       "      border-color: transparent;\n",
       "      border-left-color: var(--fill-color);\n",
       "      border-top-color: var(--fill-color);\n",
       "      border-right-color: var(--fill-color);\n",
       "    }\n",
       "    40% {\n",
       "      border-color: transparent;\n",
       "      border-right-color: var(--fill-color);\n",
       "      border-top-color: var(--fill-color);\n",
       "    }\n",
       "    60% {\n",
       "      border-color: transparent;\n",
       "      border-right-color: var(--fill-color);\n",
       "    }\n",
       "    80% {\n",
       "      border-color: transparent;\n",
       "      border-right-color: var(--fill-color);\n",
       "      border-bottom-color: var(--fill-color);\n",
       "    }\n",
       "    90% {\n",
       "      border-color: transparent;\n",
       "      border-bottom-color: var(--fill-color);\n",
       "    }\n",
       "  }\n",
       "</style>\n",
       "\n",
       "  <script>\n",
       "    async function quickchart(key) {\n",
       "      const quickchartButtonEl =\n",
       "        document.querySelector('#' + key + ' button');\n",
       "      quickchartButtonEl.disabled = true;  // To prevent multiple clicks.\n",
       "      quickchartButtonEl.classList.add('colab-df-spinner');\n",
       "      try {\n",
       "        const charts = await google.colab.kernel.invokeFunction(\n",
       "            'suggestCharts', [key], {});\n",
       "      } catch (error) {\n",
       "        console.error('Error during call to suggestCharts:', error);\n",
       "      }\n",
       "      quickchartButtonEl.classList.remove('colab-df-spinner');\n",
       "      quickchartButtonEl.classList.add('colab-df-quickchart-complete');\n",
       "    }\n",
       "    (() => {\n",
       "      let quickchartButtonEl =\n",
       "        document.querySelector('#df-870cec75-2222-4d6f-824e-17b82136e30c button');\n",
       "      quickchartButtonEl.style.display =\n",
       "        google.colab.kernel.accessAllowed ? 'block' : 'none';\n",
       "    })();\n",
       "  </script>\n",
       "</div>\n",
       "    </div>\n",
       "  </div>\n"
      ],
      "text/plain": [
       "                                                      id  \\\n",
       "0      Why the edits made under my username Hardcore ...   \n",
       "1                        Congratulations from me as well   \n",
       "2                                     \"0002bcb3da6cb337\"   \n",
       "3                                     \"00040093b2687caa\"   \n",
       "4                                             Don't look   \n",
       "...                                                  ...   \n",
       "43135                                 \"268dc27badae0ea8\"   \n",
       "43136                                 \"269fd86a5a73579b\"   \n",
       "43137                                 \"26a4827441d6024d\"   \n",
       "43138                                 \"26ae52ba772cacaf\"   \n",
       "43139                                 \"26b305124ddfced6\"   \n",
       "\n",
       "                                            comment_text  toxic  severe_toxic  \\\n",
       "0      just closure some gas after i voted at new yor...    0.0           0.0   \n",
       "1                                    use tools well talk    0.0           0.0   \n",
       "2                  cocksucker before piss around my work    1.0           1.0   \n",
       "3      alignment this subject which are contrary thos...    0.0           0.0   \n",
       "4                         come think comming back tosser    1.0           0.0   \n",
       "...                                                  ...    ...           ...   \n",
       "43135  so how do tackle those that gang up against ju...    0.0           0.0   \n",
       "43136               i have better idea who prankster now    0.0           0.0   \n",
       "43137  appear be alternate account supreme deliciousness    0.0           0.0   \n",
       "43138  both wpordinal station naming convention say s...    0.0           0.0   \n",
       "43139  strongly agree i believe there should be three...    0.0           0.0   \n",
       "\n",
       "       obscene  threat  insult  identity_hate  \n",
       "0          0.0     0.0     0.0            0.0  \n",
       "1          0.0     0.0     0.0            0.0  \n",
       "2          1.0     0.0     1.0            0.0  \n",
       "3          0.0     0.0     0.0            0.0  \n",
       "4          0.0     0.0     0.0            0.0  \n",
       "...        ...     ...     ...            ...  \n",
       "43135      0.0     0.0     0.0            0.0  \n",
       "43136      0.0     0.0     0.0            0.0  \n",
       "43137      0.0     0.0     0.0            0.0  \n",
       "43138      0.0     0.0     0.0            0.0  \n",
       "43139      0.0     0.0     0.0            0.0  \n",
       "\n",
       "[42238 rows x 8 columns]"
      ]
     },
     "execution_count": 166,
     "metadata": {},
     "output_type": "execute_result"
    }
   ],
   "source": [
    "ddf"
   ]
  },
  {
   "cell_type": "code",
   "execution_count": 52,
   "metadata": {},
   "outputs": [
    {
     "name": "stdout",
     "output_type": "stream",
     "text": [
      "Overwriting app.py\n"
     ]
    }
   ],
   "source": [
    "%%writefile app.py\n",
    "import pickle\n",
    "import streamlit as st\n",
    "import pandas as pd\n",
    "from sklearn.feature_extraction.text import TfidfVectorizer\n",
    "from sklearn.feature_extraction.text import TfidfTransformer\n",
    "from sklearn.linear_model import LogisticRegression\n",
    "from sklearn.multioutput import MultiOutputClassifier\n",
    "from sklearn.model_selection import train_test_split\n",
    "\n",
    "# Load the trained model\n",
    "with open('Toxic_classification_log.pkl', 'rb') as f:\n",
    "    model = pickle.load(f)\n",
    "\n",
    "# Load your dataset (assuming it's in a DataFrame format)\n",
    "# Replace this with your actual dataset loading code\n",
    "# Example: df = pd.read_csv('your_dataset.csv')\n",
    "df = pd.read_csv('toxic.csv', sep=',', encoding='latin-1', error_bad_lines=False, lineterminator='\\n',\n",
    "                usecols=['id', 'comment_text', 'toxic', 'severe_toxic', 'obscene', 'threat',\n",
    "                         'insult', 'identity_hate'])\n",
    "df.dropna(inplace=True)\n",
    "df = df[df['toxic'].str.isnumeric()]\n",
    "cat= ['toxic', 'severe_toxic', 'obscene', 'threat',\n",
    "       'insult', 'identity_hate']\n",
    "for i in cat:\n",
    "    df[i]=df[i].astype(int)\n",
    "    # Define a function to clean text\n",
    "    import re\n",
    "stopwords = [\"the\", \"and\", \"is\", \"on\", \"in\", \"if\", \"for\", \"a\", \"an\", \"of\", \"or\", \"to\", \"it\", \"you\", \"your\"]\n",
    "def clean_text(text):\n",
    "    # Remove HTML tags\n",
    "    text = re.sub(r'<[^>]+>', '', text)\n",
    "    # Remove web links\n",
    "    text = re.sub(r'http\\S+|www\\S+|https\\S+', '', text)\n",
    "    # Remove special characters, punctuation marks, and newlines\n",
    "    text = re.sub(r'[^a-zA-Z\\s]', '', text)\n",
    "    # Remove extra white spaces\n",
    "    text = re.sub(r'\\s+', ' ', text)\n",
    "    # Remove stopwords\n",
    "    text = ' '.join(word for word in text.split() if word.lower() not in stopwords)\n",
    "    return text.lower()\n",
    "\n",
    "df['comment_text'] = df['comment_text'].apply(clean_text)\n",
    "\n",
    "X = df['comment_text']\n",
    "y = df.drop(['id', 'comment_text'], axis=1)\n",
    "\n",
    "# Split the dataset into training and testing sets\n",
    "X_train, X_test, y_train, y_test = train_test_split(X, y, test_size=0.33, random_state=12)\n",
    "\n",
    "# Create a TfidfVectorizer and fit it on the training documents\n",
    "vectorizer = TfidfVectorizer()\n",
    "X_train_tf = vectorizer.fit_transform(X_train)\n",
    "\n",
    "# Create a TfidfTransformer and transform the training data\n",
    "tfidf_transformer = TfidfTransformer()\n",
    "X_train_tfid = tfidf_transformer.fit_transform(X_train_tf)\n",
    "\n",
    "# Define the XGBoost classifier\n",
    "logreg_clf = LogisticRegression(random_state=42, class_weight='balanced', tol=0.001, C=1.0)\n",
    "clf = MultiOutputClassifier(logreg_clf)  # Replace YourClassifier with the desired classifier\n",
    "model = clf.fit(X_train_tfid, y_train)\n",
    "\n",
    "# Define a Streamlit function to make predictions\n",
    "def score_comment(comment):\n",
    "    # Transform the input comment using the same vectorizer and transformer\n",
    "    vectorized_comment = vectorizer.transform([comment])\n",
    "    # Make predictions with the trained model\n",
    "    results = clf.predict(vectorized_comment)\n",
    "    text = ''\n",
    "    for idx, col in enumerate(y.columns):\n",
    "        # Convert results to float for comparison\n",
    "        prediction = float(results[0][idx])\n",
    "        text += '{}: {}\\n'.format(col, prediction > 0.5)\n",
    "    return text\n",
    "\n",
    "def main():\n",
    "    st.title(\"Toxic Comment Classification\")\n",
    "    comment = st.text_input(\"Enter a comment:\")\n",
    "    # Add a button to trigger predictions\n",
    "    if st.button(\"Predict\"):\n",
    "        if comment:\n",
    "            prediction = score_comment(comment)\n",
    "            st.text(\"Predictions:\")\n",
    "            st.text(prediction)\n",
    "\n",
    "if __name__ == '__main__':\n",
    "    main()\n"
   ]
  },
  {
   "cell_type": "code",
   "execution_count": 50,
   "metadata": {
    "colab": {
     "base_uri": "https://localhost:8080/"
    },
    "id": "pFJjq4J0N5yk",
    "outputId": "a4f9dc5a-4ddb-435b-e84f-d61d248835e7"
   },
   "outputs": [
    {
     "name": "stdout",
     "output_type": "stream",
     "text": [
      "^C\n"
     ]
    }
   ],
   "source": [
    "!streamlit run app.py"
   ]
  }
 ],
 "metadata": {
  "accelerator": "GPU",
  "colab": {
   "gpuType": "T4",
   "provenance": []
  },
  "kernelspec": {
   "display_name": "Python 3 (ipykernel)",
   "language": "python",
   "name": "python3"
  },
  "language_info": {
   "codemirror_mode": {
    "name": "ipython",
    "version": 3
   },
   "file_extension": ".py",
   "mimetype": "text/x-python",
   "name": "python",
   "nbconvert_exporter": "python",
   "pygments_lexer": "ipython3",
   "version": "3.9.13"
  }
 },
 "nbformat": 4,
 "nbformat_minor": 1
}
